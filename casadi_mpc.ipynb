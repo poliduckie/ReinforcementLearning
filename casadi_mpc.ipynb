{
  "cells": [
    {
      "cell_type": "markdown",
      "metadata": {
        "id": "view-in-github",
        "colab_type": "text"
      },
      "source": [
        "<a href=\"https://colab.research.google.com/github/poliduckie/ReinforcementLearning/blob/main/casadi_mpc.ipynb\" target=\"_parent\"><img src=\"https://colab.research.google.com/assets/colab-badge.svg\" alt=\"Open In Colab\"/></a>"
      ]
    },
    {
      "cell_type": "code",
      "source": [
        "import os \n",
        "branch = \"daffy\" #@param ['master', 'daffy']\n",
        "if branch == \"daffy\":\n",
        "  !pip install duckietown-gym-daffy\n",
        "else:\n",
        "  if not os.path.isdir('gym-duckietown') and not os.path.isdir('../gym-duckietown'):\n",
        "    !git clone --branch {branch} https://github.com/duckietown/gym-duckietown.git\n",
        "    !pip3 install -e gym-duckietown\n",
        "  if \"/gym-duckietown\" not in os.getcwd():\n",
        "    os.chdir('gym-duckietown')\n",
        "!apt install xvfb -y\n",
        "!pip3 install pyvirtualdisplay\n",
        "\n",
        "from pyvirtualdisplay import Display\n",
        "import numpy as np\n",
        "import matplotlib.pyplot as plt\n",
        "from IPython import display as ipythondisplay\n",
        "%matplotlib inline\n",
        "\n",
        "## used to copy the model to the gdrive folder\n",
        "import shutil\n",
        "\n",
        "!apt update && apt install cmake libopenmpi-dev python3-dev zlib1g-dev\n",
        "!pip install stable-baselines3[extra]\n",
        "\n",
        "## imports for the ObsWrapper\n",
        "import cv2\n",
        "import gym\n",
        "from gym.spaces import Box\n",
        "\n",
        "import gym_duckietown\n",
        "\n",
        "display = Display(visible=0, size=(1400, 900))\n",
        "display.start()\n",
        "from gym_duckietown.simulator import Simulator"
      ],
      "metadata": {
        "colab": {
          "base_uri": "https://localhost:8080/",
          "height": 1000
        },
        "id": "-Y6XlTgpVpEO",
        "outputId": "5a02185e-4b88-45e7-b830-3a82834f2559"
      },
      "execution_count": 3,
      "outputs": [
        {
          "output_type": "stream",
          "name": "stdout",
          "text": [
            "Looking in indexes: https://pypi.org/simple, https://us-python.pkg.dev/colab-wheels/public/simple/\n",
            "Requirement already satisfied: duckietown-gym-daffy in /usr/local/lib/python3.7/dist-packages (6.1.30)\n",
            "Requirement already satisfied: numpy>=1.10.0 in /usr/local/lib/python3.7/dist-packages (from duckietown-gym-daffy) (1.21.6)\n",
            "Requirement already satisfied: pyyaml>=3.11 in /usr/local/lib/python3.7/dist-packages (from duckietown-gym-daffy) (6.0)\n",
            "Requirement already satisfied: duckietown-world-daffy in /usr/local/lib/python3.7/dist-packages (from duckietown-gym-daffy) (6.2.39)\n",
            "Requirement already satisfied: typing-extensions in /usr/local/lib/python3.7/dist-packages (from duckietown-gym-daffy) (4.1.1)\n",
            "Requirement already satisfied: pyzmq>=16.0.0 in /usr/local/lib/python3.7/dist-packages (from duckietown-gym-daffy) (23.2.1)\n",
            "Requirement already satisfied: carnivalmirror==0.6.2 in /usr/local/lib/python3.7/dist-packages (from duckietown-gym-daffy) (0.6.2)\n",
            "Requirement already satisfied: gym>=0.17.1 in /usr/local/lib/python3.7/dist-packages (from duckietown-gym-daffy) (0.21.0)\n",
            "Requirement already satisfied: PyGeometry-z6 in /usr/local/lib/python3.7/dist-packages (from duckietown-gym-daffy) (2.1.4)\n",
            "Requirement already satisfied: Pillow in /usr/local/lib/python3.7/dist-packages (from duckietown-gym-daffy) (7.1.2)\n",
            "Requirement already satisfied: zuper-commons-z6 in /usr/local/lib/python3.7/dist-packages (from duckietown-gym-daffy) (6.2.4)\n",
            "Requirement already satisfied: opencv-python>=3.4 in /usr/local/lib/python3.7/dist-packages (from duckietown-gym-daffy) (4.6.0.66)\n",
            "Requirement already satisfied: pyglet in /usr/local/lib/python3.7/dist-packages (from duckietown-gym-daffy) (1.5.27)\n",
            "Requirement already satisfied: matplotlib>=2.2.2 in /usr/local/lib/python3.7/dist-packages (from carnivalmirror==0.6.2->duckietown-gym-daffy) (3.2.2)\n",
            "Requirement already satisfied: importlib-metadata>=4.8.1 in /usr/local/lib/python3.7/dist-packages (from gym>=0.17.1->duckietown-gym-daffy) (4.12.0)\n",
            "Requirement already satisfied: cloudpickle>=1.2.0 in /usr/local/lib/python3.7/dist-packages (from gym>=0.17.1->duckietown-gym-daffy) (1.5.0)\n",
            "Requirement already satisfied: zipp>=0.5 in /usr/local/lib/python3.7/dist-packages (from importlib-metadata>=4.8.1->gym>=0.17.1->duckietown-gym-daffy) (3.8.1)\n",
            "Requirement already satisfied: pyparsing!=2.0.4,!=2.1.2,!=2.1.6,>=2.0.1 in /usr/local/lib/python3.7/dist-packages (from matplotlib>=2.2.2->carnivalmirror==0.6.2->duckietown-gym-daffy) (3.0.9)\n",
            "Requirement already satisfied: cycler>=0.10 in /usr/local/lib/python3.7/dist-packages (from matplotlib>=2.2.2->carnivalmirror==0.6.2->duckietown-gym-daffy) (0.11.0)\n",
            "Requirement already satisfied: kiwisolver>=1.0.1 in /usr/local/lib/python3.7/dist-packages (from matplotlib>=2.2.2->carnivalmirror==0.6.2->duckietown-gym-daffy) (1.4.4)\n",
            "Requirement already satisfied: python-dateutil>=2.1 in /usr/local/lib/python3.7/dist-packages (from matplotlib>=2.2.2->carnivalmirror==0.6.2->duckietown-gym-daffy) (2.8.2)\n",
            "Requirement already satisfied: six>=1.5 in /usr/local/lib/python3.7/dist-packages (from python-dateutil>=2.1->matplotlib>=2.2.2->carnivalmirror==0.6.2->duckietown-gym-daffy) (1.15.0)\n",
            "Requirement already satisfied: aido-protocols-daffy in /usr/local/lib/python3.7/dist-packages (from duckietown-world-daffy->duckietown-gym-daffy) (6.0.59)\n",
            "Requirement already satisfied: oyaml in /usr/local/lib/python3.7/dist-packages (from duckietown-world-daffy->duckietown-gym-daffy) (1.0)\n",
            "Requirement already satisfied: plotly in /usr/local/lib/python3.7/dist-packages (from duckietown-world-daffy->duckietown-gym-daffy) (5.5.0)\n",
            "Requirement already satisfied: jpeg4py in /usr/local/lib/python3.7/dist-packages (from duckietown-world-daffy->duckietown-gym-daffy) (0.1.4)\n",
            "Requirement already satisfied: markdown in /usr/local/lib/python3.7/dist-packages (from duckietown-world-daffy->duckietown-gym-daffy) (3.4.1)\n",
            "Requirement already satisfied: networkx<3,>=2.2 in /usr/local/lib/python3.7/dist-packages (from duckietown-world-daffy->duckietown-gym-daffy) (2.6.3)\n",
            "Requirement already satisfied: zuper-ipce-z6 in /usr/local/lib/python3.7/dist-packages (from duckietown-world-daffy->duckietown-gym-daffy) (6.1.2)\n",
            "Requirement already satisfied: svgwrite in /usr/local/lib/python3.7/dist-packages (from duckietown-world-daffy->duckietown-gym-daffy) (1.4.3)\n",
            "Requirement already satisfied: ipython in /usr/local/lib/python3.7/dist-packages (from duckietown-world-daffy->duckietown-gym-daffy) (7.9.0)\n",
            "Requirement already satisfied: scipy in /usr/local/lib/python3.7/dist-packages (from duckietown-world-daffy->duckietown-gym-daffy) (1.7.3)\n",
            "Requirement already satisfied: future in /usr/local/lib/python3.7/dist-packages (from duckietown-world-daffy->duckietown-gym-daffy) (0.16.0)\n",
            "Requirement already satisfied: PyContracts3 in /usr/local/lib/python3.7/dist-packages (from duckietown-world-daffy->duckietown-gym-daffy) (3.0.2)\n",
            "Requirement already satisfied: gltflib in /usr/local/lib/python3.7/dist-packages (from duckietown-world-daffy->duckietown-gym-daffy) (1.0.13)\n",
            "Requirement already satisfied: frozendict in /usr/local/lib/python3.7/dist-packages (from duckietown-world-daffy->duckietown-gym-daffy) (2.3.4)\n",
            "Requirement already satisfied: trimesh in /usr/local/lib/python3.7/dist-packages (from duckietown-world-daffy->duckietown-gym-daffy) (3.15.1)\n",
            "Requirement already satisfied: coloredlogs in /usr/local/lib/python3.7/dist-packages (from duckietown-world-daffy->duckietown-gym-daffy) (15.0.1)\n",
            "Requirement already satisfied: duckietown-serialization-ds1<2 in /usr/local/lib/python3.7/dist-packages (from duckietown-world-daffy->duckietown-gym-daffy) (1.0.20)\n",
            "Requirement already satisfied: zuper-typing-z6>=6.0.66 in /usr/local/lib/python3.7/dist-packages (from duckietown-world-daffy->duckietown-gym-daffy) (6.2.3)\n",
            "Requirement already satisfied: beautifulsoup4<=4.7.1,>=4.6.3 in /usr/local/lib/python3.7/dist-packages (from duckietown-world-daffy->duckietown-gym-daffy) (4.6.3)\n",
            "Requirement already satisfied: lxml in /usr/local/lib/python3.7/dist-packages (from duckietown-world-daffy->duckietown-gym-daffy) (4.9.1)\n",
            "Requirement already satisfied: pyrender in /usr/local/lib/python3.7/dist-packages (from duckietown-world-daffy->duckietown-gym-daffy) (0.1.45)\n",
            "Requirement already satisfied: base58<2 in /usr/local/lib/python3.7/dist-packages (from duckietown-serialization-ds1<2->duckietown-world-daffy->duckietown-gym-daffy) (1.0.3)\n",
            "Requirement already satisfied: mypy-extensions in /usr/local/lib/python3.7/dist-packages (from zuper-typing-z6>=6.0.66->duckietown-world-daffy->duckietown-gym-daffy) (0.4.3)\n",
            "Requirement already satisfied: coverage>=1.4.33 in /usr/local/lib/python3.7/dist-packages (from zuper-typing-z6>=6.0.66->duckietown-world-daffy->duckietown-gym-daffy) (6.4.4)\n",
            "Requirement already satisfied: termcolor in /usr/local/lib/python3.7/dist-packages (from zuper-typing-z6>=6.0.66->duckietown-world-daffy->duckietown-gym-daffy) (1.1.0)\n",
            "Requirement already satisfied: jsonschema in /usr/local/lib/python3.7/dist-packages (from zuper-typing-z6>=6.0.66->duckietown-world-daffy->duckietown-gym-daffy) (4.3.3)\n",
            "Requirement already satisfied: pybase64 in /usr/local/lib/python3.7/dist-packages (from zuper-typing-z6>=6.0.66->duckietown-world-daffy->duckietown-gym-daffy) (1.2.3)\n",
            "Requirement already satisfied: nose in /usr/local/lib/python3.7/dist-packages (from zuper-typing-z6>=6.0.66->duckietown-world-daffy->duckietown-gym-daffy) (1.3.7)\n",
            "Requirement already satisfied: validate-email in /usr/local/lib/python3.7/dist-packages (from zuper-typing-z6>=6.0.66->duckietown-world-daffy->duckietown-gym-daffy) (1.3)\n",
            "Requirement already satisfied: pytz in /usr/local/lib/python3.7/dist-packages (from zuper-typing-z6>=6.0.66->duckietown-world-daffy->duckietown-gym-daffy) (2022.2.1)\n",
            "Requirement already satisfied: xtermcolor in /usr/local/lib/python3.7/dist-packages (from zuper-commons-z6->duckietown-gym-daffy) (1.3)\n",
            "Requirement already satisfied: webcolors in /usr/local/lib/python3.7/dist-packages (from zuper-commons-z6->duckietown-gym-daffy) (1.12)\n",
            "Requirement already satisfied: zuper-nodes-z6>=6.2.8 in /usr/local/lib/python3.7/dist-packages (from aido-protocols-daffy->duckietown-world-daffy->duckietown-gym-daffy) (6.2.13)\n",
            "Requirement already satisfied: cbor2 in /usr/local/lib/python3.7/dist-packages (from zuper-nodes-z6>=6.2.8->aido-protocols-daffy->duckietown-world-daffy->duckietown-gym-daffy) (5.4.3)\n",
            "Requirement already satisfied: humanfriendly>=9.1 in /usr/local/lib/python3.7/dist-packages (from coloredlogs->duckietown-world-daffy->duckietown-gym-daffy) (10.0)\n",
            "Requirement already satisfied: dataclasses-json>=0.4.5 in /usr/local/lib/python3.7/dist-packages (from gltflib->duckietown-world-daffy->duckietown-gym-daffy) (0.5.7)\n",
            "Requirement already satisfied: typing-inspect>=0.4.0 in /usr/local/lib/python3.7/dist-packages (from dataclasses-json>=0.4.5->gltflib->duckietown-world-daffy->duckietown-gym-daffy) (0.8.0)\n",
            "Requirement already satisfied: marshmallow<4.0.0,>=3.3.0 in /usr/local/lib/python3.7/dist-packages (from dataclasses-json>=0.4.5->gltflib->duckietown-world-daffy->duckietown-gym-daffy) (3.17.1)\n",
            "Requirement already satisfied: marshmallow-enum<2.0.0,>=1.5.1 in /usr/local/lib/python3.7/dist-packages (from dataclasses-json>=0.4.5->gltflib->duckietown-world-daffy->duckietown-gym-daffy) (1.5.1)\n",
            "Requirement already satisfied: packaging>=17.0 in /usr/local/lib/python3.7/dist-packages (from marshmallow<4.0.0,>=3.3.0->dataclasses-json>=0.4.5->gltflib->duckietown-world-daffy->duckietown-gym-daffy) (21.3)\n",
            "Requirement already satisfied: pygments in /usr/local/lib/python3.7/dist-packages (from ipython->duckietown-world-daffy->duckietown-gym-daffy) (2.6.1)\n",
            "Requirement already satisfied: prompt-toolkit<2.1.0,>=2.0.0 in /usr/local/lib/python3.7/dist-packages (from ipython->duckietown-world-daffy->duckietown-gym-daffy) (2.0.10)\n",
            "Requirement already satisfied: decorator in /usr/local/lib/python3.7/dist-packages (from ipython->duckietown-world-daffy->duckietown-gym-daffy) (4.4.2)\n",
            "Requirement already satisfied: setuptools>=18.5 in /usr/local/lib/python3.7/dist-packages (from ipython->duckietown-world-daffy->duckietown-gym-daffy) (57.4.0)\n",
            "Requirement already satisfied: backcall in /usr/local/lib/python3.7/dist-packages (from ipython->duckietown-world-daffy->duckietown-gym-daffy) (0.2.0)\n",
            "Requirement already satisfied: traitlets>=4.2 in /usr/local/lib/python3.7/dist-packages (from ipython->duckietown-world-daffy->duckietown-gym-daffy) (5.1.1)\n",
            "Requirement already satisfied: pickleshare in /usr/local/lib/python3.7/dist-packages (from ipython->duckietown-world-daffy->duckietown-gym-daffy) (0.7.5)\n",
            "Requirement already satisfied: jedi>=0.10 in /usr/local/lib/python3.7/dist-packages (from ipython->duckietown-world-daffy->duckietown-gym-daffy) (0.18.1)\n",
            "Requirement already satisfied: pexpect in /usr/local/lib/python3.7/dist-packages (from ipython->duckietown-world-daffy->duckietown-gym-daffy) (4.8.0)\n",
            "Requirement already satisfied: parso<0.9.0,>=0.8.0 in /usr/local/lib/python3.7/dist-packages (from jedi>=0.10->ipython->duckietown-world-daffy->duckietown-gym-daffy) (0.8.3)\n",
            "Requirement already satisfied: wcwidth in /usr/local/lib/python3.7/dist-packages (from prompt-toolkit<2.1.0,>=2.0.0->ipython->duckietown-world-daffy->duckietown-gym-daffy) (0.2.5)\n",
            "Requirement already satisfied: cffi in /usr/local/lib/python3.7/dist-packages (from jpeg4py->duckietown-world-daffy->duckietown-gym-daffy) (1.15.1)\n",
            "Requirement already satisfied: pycparser in /usr/local/lib/python3.7/dist-packages (from cffi->jpeg4py->duckietown-world-daffy->duckietown-gym-daffy) (2.21)\n",
            "Requirement already satisfied: importlib-resources>=1.4.0 in /usr/local/lib/python3.7/dist-packages (from jsonschema->zuper-typing-z6>=6.0.66->duckietown-world-daffy->duckietown-gym-daffy) (5.9.0)\n",
            "Requirement already satisfied: attrs>=17.4.0 in /usr/local/lib/python3.7/dist-packages (from jsonschema->zuper-typing-z6>=6.0.66->duckietown-world-daffy->duckietown-gym-daffy) (22.1.0)\n",
            "Requirement already satisfied: pyrsistent!=0.17.0,!=0.17.1,!=0.17.2,>=0.14.0 in /usr/local/lib/python3.7/dist-packages (from jsonschema->zuper-typing-z6>=6.0.66->duckietown-world-daffy->duckietown-gym-daffy) (0.18.1)\n",
            "Requirement already satisfied: ptyprocess>=0.5 in /usr/local/lib/python3.7/dist-packages (from pexpect->ipython->duckietown-world-daffy->duckietown-gym-daffy) (0.7.0)\n",
            "Requirement already satisfied: tenacity>=6.2.0 in /usr/local/lib/python3.7/dist-packages (from plotly->duckietown-world-daffy->duckietown-gym-daffy) (8.0.1)\n",
            "Requirement already satisfied: imageio in /usr/local/lib/python3.7/dist-packages (from pyrender->duckietown-world-daffy->duckietown-gym-daffy) (2.9.0)\n",
            "Requirement already satisfied: PyOpenGL==3.1.0 in /usr/local/lib/python3.7/dist-packages (from pyrender->duckietown-world-daffy->duckietown-gym-daffy) (3.1.0)\n",
            "Requirement already satisfied: freetype-py in /usr/local/lib/python3.7/dist-packages (from pyrender->duckietown-world-daffy->duckietown-gym-daffy) (2.3.0)\n",
            "Requirement already satisfied: py-cid in /usr/local/lib/python3.7/dist-packages (from zuper-ipce-z6->duckietown-world-daffy->duckietown-gym-daffy) (0.3.0)\n",
            "Requirement already satisfied: py-multihash in /usr/local/lib/python3.7/dist-packages (from zuper-ipce-z6->duckietown-world-daffy->duckietown-gym-daffy) (0.2.3)\n",
            "Requirement already satisfied: py-multicodec<0.3.0 in /usr/local/lib/python3.7/dist-packages (from py-cid->zuper-ipce-z6->duckietown-world-daffy->duckietown-gym-daffy) (0.2.1)\n",
            "Requirement already satisfied: morphys<2.0,>=1.0 in /usr/local/lib/python3.7/dist-packages (from py-cid->zuper-ipce-z6->duckietown-world-daffy->duckietown-gym-daffy) (1.0)\n",
            "Requirement already satisfied: py-multibase<2.0.0,>=1.0.0 in /usr/local/lib/python3.7/dist-packages (from py-cid->zuper-ipce-z6->duckietown-world-daffy->duckietown-gym-daffy) (1.0.3)\n",
            "Requirement already satisfied: python-baseconv<2.0,>=1.2.0 in /usr/local/lib/python3.7/dist-packages (from py-multibase<2.0.0,>=1.0.0->py-cid->zuper-ipce-z6->duckietown-world-daffy->duckietown-gym-daffy) (1.2.2)\n",
            "Requirement already satisfied: varint<2.0.0,>=1.0.2 in /usr/local/lib/python3.7/dist-packages (from py-multicodec<0.3.0->py-cid->zuper-ipce-z6->duckietown-world-daffy->duckietown-gym-daffy) (1.0.2)\n",
            "Reading package lists... Done\n",
            "Building dependency tree       \n",
            "Reading state information... Done\n",
            "xvfb is already the newest version (2:1.19.6-1ubuntu4.11).\n",
            "The following package was automatically installed and is no longer required:\n",
            "  libnvidia-common-460\n",
            "Use 'apt autoremove' to remove it.\n",
            "0 upgraded, 0 newly installed, 0 to remove and 38 not upgraded.\n",
            "Looking in indexes: https://pypi.org/simple, https://us-python.pkg.dev/colab-wheels/public/simple/\n",
            "Requirement already satisfied: pyvirtualdisplay in /usr/local/lib/python3.7/dist-packages (3.0)\n",
            "Hit:1 https://cloud.r-project.org/bin/linux/ubuntu bionic-cran40/ InRelease\n",
            "Ign:2 https://developer.download.nvidia.com/compute/machine-learning/repos/ubuntu1804/x86_64  InRelease\n",
            "Hit:3 https://developer.download.nvidia.com/compute/cuda/repos/ubuntu1804/x86_64  InRelease\n",
            "Hit:4 http://archive.ubuntu.com/ubuntu bionic InRelease\n",
            "Hit:5 https://developer.download.nvidia.com/compute/machine-learning/repos/ubuntu1804/x86_64  Release\n",
            "Hit:6 http://archive.ubuntu.com/ubuntu bionic-updates InRelease\n",
            "Hit:7 http://archive.ubuntu.com/ubuntu bionic-backports InRelease\n",
            "Hit:8 http://ppa.launchpad.net/c2d4u.team/c2d4u4.0+/ubuntu bionic InRelease\n",
            "Hit:9 http://security.ubuntu.com/ubuntu bionic-security InRelease\n",
            "Hit:10 http://ppa.launchpad.net/cran/libgit2/ubuntu bionic InRelease\n",
            "Hit:11 http://ppa.launchpad.net/deadsnakes/ppa/ubuntu bionic InRelease\n",
            "Hit:13 http://ppa.launchpad.net/graphics-drivers/ppa/ubuntu bionic InRelease\n",
            "Reading package lists... Done\n",
            "Building dependency tree       \n",
            "Reading state information... Done\n",
            "38 packages can be upgraded. Run 'apt list --upgradable' to see them.\n",
            "Reading package lists... Done\n",
            "Building dependency tree       \n",
            "Reading state information... Done\n",
            "libopenmpi-dev is already the newest version (2.1.1-8).\n",
            "cmake is already the newest version (3.10.2-1ubuntu2.18.04.2).\n",
            "python3-dev is already the newest version (3.6.7-1~18.04).\n",
            "zlib1g-dev is already the newest version (1:1.2.11.dfsg-0ubuntu2.2).\n",
            "The following package was automatically installed and is no longer required:\n",
            "  libnvidia-common-460\n",
            "Use 'apt autoremove' to remove it.\n",
            "0 upgraded, 0 newly installed, 0 to remove and 38 not upgraded.\n",
            "Looking in indexes: https://pypi.org/simple, https://us-python.pkg.dev/colab-wheels/public/simple/\n",
            "Requirement already satisfied: stable-baselines3[extra] in /usr/local/lib/python3.7/dist-packages (1.6.0)\n",
            "Requirement already satisfied: numpy in /usr/local/lib/python3.7/dist-packages (from stable-baselines3[extra]) (1.21.6)\n",
            "Requirement already satisfied: cloudpickle in /usr/local/lib/python3.7/dist-packages (from stable-baselines3[extra]) (1.5.0)\n",
            "Requirement already satisfied: pandas in /usr/local/lib/python3.7/dist-packages (from stable-baselines3[extra]) (1.3.5)\n",
            "Requirement already satisfied: torch>=1.11 in /usr/local/lib/python3.7/dist-packages (from stable-baselines3[extra]) (1.12.1+cu113)\n",
            "Requirement already satisfied: matplotlib in /usr/local/lib/python3.7/dist-packages (from stable-baselines3[extra]) (3.2.2)\n",
            "Requirement already satisfied: gym==0.21 in /usr/local/lib/python3.7/dist-packages (from stable-baselines3[extra]) (0.21.0)\n",
            "Requirement already satisfied: protobuf~=3.19.0 in /usr/local/lib/python3.7/dist-packages (from stable-baselines3[extra]) (3.19.5)\n",
            "Requirement already satisfied: psutil in /usr/local/lib/python3.7/dist-packages (from stable-baselines3[extra]) (5.4.8)\n",
            "Requirement already satisfied: opencv-python in /usr/local/lib/python3.7/dist-packages (from stable-baselines3[extra]) (4.6.0.66)\n",
            "Requirement already satisfied: tensorboard>=2.2.0 in /usr/local/lib/python3.7/dist-packages (from stable-baselines3[extra]) (2.8.0)\n",
            "Requirement already satisfied: autorom[accept-rom-license]~=0.4.2 in /usr/local/lib/python3.7/dist-packages (from stable-baselines3[extra]) (0.4.2)\n",
            "Requirement already satisfied: pillow in /usr/local/lib/python3.7/dist-packages (from stable-baselines3[extra]) (7.1.2)\n",
            "Requirement already satisfied: ale-py==0.7.4 in /usr/local/lib/python3.7/dist-packages (from stable-baselines3[extra]) (0.7.4)\n",
            "Requirement already satisfied: importlib-metadata>=4.10.0 in /usr/local/lib/python3.7/dist-packages (from ale-py==0.7.4->stable-baselines3[extra]) (4.12.0)\n",
            "Requirement already satisfied: importlib-resources in /usr/local/lib/python3.7/dist-packages (from ale-py==0.7.4->stable-baselines3[extra]) (5.9.0)\n",
            "Requirement already satisfied: click in /usr/local/lib/python3.7/dist-packages (from autorom[accept-rom-license]~=0.4.2->stable-baselines3[extra]) (7.1.2)\n",
            "Requirement already satisfied: requests in /usr/local/lib/python3.7/dist-packages (from autorom[accept-rom-license]~=0.4.2->stable-baselines3[extra]) (2.23.0)\n",
            "Requirement already satisfied: tqdm in /usr/local/lib/python3.7/dist-packages (from autorom[accept-rom-license]~=0.4.2->stable-baselines3[extra]) (4.64.1)\n",
            "Requirement already satisfied: AutoROM.accept-rom-license in /usr/local/lib/python3.7/dist-packages (from autorom[accept-rom-license]~=0.4.2->stable-baselines3[extra]) (0.4.2)\n",
            "Requirement already satisfied: typing-extensions>=3.6.4 in /usr/local/lib/python3.7/dist-packages (from importlib-metadata>=4.10.0->ale-py==0.7.4->stable-baselines3[extra]) (4.1.1)\n",
            "Requirement already satisfied: zipp>=0.5 in /usr/local/lib/python3.7/dist-packages (from importlib-metadata>=4.10.0->ale-py==0.7.4->stable-baselines3[extra]) (3.8.1)\n",
            "Requirement already satisfied: tensorboard-plugin-wit>=1.6.0 in /usr/local/lib/python3.7/dist-packages (from tensorboard>=2.2.0->stable-baselines3[extra]) (1.8.1)\n",
            "Requirement already satisfied: wheel>=0.26 in /usr/local/lib/python3.7/dist-packages (from tensorboard>=2.2.0->stable-baselines3[extra]) (0.37.1)\n",
            "Requirement already satisfied: setuptools>=41.0.0 in /usr/local/lib/python3.7/dist-packages (from tensorboard>=2.2.0->stable-baselines3[extra]) (57.4.0)\n",
            "Requirement already satisfied: werkzeug>=0.11.15 in /usr/local/lib/python3.7/dist-packages (from tensorboard>=2.2.0->stable-baselines3[extra]) (1.0.1)\n",
            "Requirement already satisfied: grpcio>=1.24.3 in /usr/local/lib/python3.7/dist-packages (from tensorboard>=2.2.0->stable-baselines3[extra]) (1.48.1)\n",
            "Requirement already satisfied: absl-py>=0.4 in /usr/local/lib/python3.7/dist-packages (from tensorboard>=2.2.0->stable-baselines3[extra]) (1.2.0)\n",
            "Requirement already satisfied: google-auth-oauthlib<0.5,>=0.4.1 in /usr/local/lib/python3.7/dist-packages (from tensorboard>=2.2.0->stable-baselines3[extra]) (0.4.6)\n",
            "Requirement already satisfied: tensorboard-data-server<0.7.0,>=0.6.0 in /usr/local/lib/python3.7/dist-packages (from tensorboard>=2.2.0->stable-baselines3[extra]) (0.6.1)\n",
            "Requirement already satisfied: markdown>=2.6.8 in /usr/local/lib/python3.7/dist-packages (from tensorboard>=2.2.0->stable-baselines3[extra]) (3.4.1)\n",
            "Requirement already satisfied: google-auth<3,>=1.6.3 in /usr/local/lib/python3.7/dist-packages (from tensorboard>=2.2.0->stable-baselines3[extra]) (1.35.0)\n",
            "Requirement already satisfied: cachetools<5.0,>=2.0.0 in /usr/local/lib/python3.7/dist-packages (from google-auth<3,>=1.6.3->tensorboard>=2.2.0->stable-baselines3[extra]) (4.2.4)\n",
            "Requirement already satisfied: pyasn1-modules>=0.2.1 in /usr/local/lib/python3.7/dist-packages (from google-auth<3,>=1.6.3->tensorboard>=2.2.0->stable-baselines3[extra]) (0.2.8)\n",
            "Requirement already satisfied: six>=1.9.0 in /usr/local/lib/python3.7/dist-packages (from google-auth<3,>=1.6.3->tensorboard>=2.2.0->stable-baselines3[extra]) (1.15.0)\n",
            "Requirement already satisfied: rsa<5,>=3.1.4 in /usr/local/lib/python3.7/dist-packages (from google-auth<3,>=1.6.3->tensorboard>=2.2.0->stable-baselines3[extra]) (4.9)\n",
            "Requirement already satisfied: requests-oauthlib>=0.7.0 in /usr/local/lib/python3.7/dist-packages (from google-auth-oauthlib<0.5,>=0.4.1->tensorboard>=2.2.0->stable-baselines3[extra]) (1.3.1)\n",
            "Requirement already satisfied: pyasn1<0.5.0,>=0.4.6 in /usr/local/lib/python3.7/dist-packages (from pyasn1-modules>=0.2.1->google-auth<3,>=1.6.3->tensorboard>=2.2.0->stable-baselines3[extra]) (0.4.8)\n",
            "Requirement already satisfied: chardet<4,>=3.0.2 in /usr/local/lib/python3.7/dist-packages (from requests->autorom[accept-rom-license]~=0.4.2->stable-baselines3[extra]) (3.0.4)\n",
            "Requirement already satisfied: urllib3!=1.25.0,!=1.25.1,<1.26,>=1.21.1 in /usr/local/lib/python3.7/dist-packages (from requests->autorom[accept-rom-license]~=0.4.2->stable-baselines3[extra]) (1.24.3)\n",
            "Requirement already satisfied: idna<3,>=2.5 in /usr/local/lib/python3.7/dist-packages (from requests->autorom[accept-rom-license]~=0.4.2->stable-baselines3[extra]) (2.10)\n",
            "Requirement already satisfied: certifi>=2017.4.17 in /usr/local/lib/python3.7/dist-packages (from requests->autorom[accept-rom-license]~=0.4.2->stable-baselines3[extra]) (2022.6.15)\n",
            "Requirement already satisfied: oauthlib>=3.0.0 in /usr/local/lib/python3.7/dist-packages (from requests-oauthlib>=0.7.0->google-auth-oauthlib<0.5,>=0.4.1->tensorboard>=2.2.0->stable-baselines3[extra]) (3.2.0)\n",
            "Requirement already satisfied: cycler>=0.10 in /usr/local/lib/python3.7/dist-packages (from matplotlib->stable-baselines3[extra]) (0.11.0)\n",
            "Requirement already satisfied: kiwisolver>=1.0.1 in /usr/local/lib/python3.7/dist-packages (from matplotlib->stable-baselines3[extra]) (1.4.4)\n",
            "Requirement already satisfied: pyparsing!=2.0.4,!=2.1.2,!=2.1.6,>=2.0.1 in /usr/local/lib/python3.7/dist-packages (from matplotlib->stable-baselines3[extra]) (3.0.9)\n",
            "Requirement already satisfied: python-dateutil>=2.1 in /usr/local/lib/python3.7/dist-packages (from matplotlib->stable-baselines3[extra]) (2.8.2)\n",
            "Requirement already satisfied: pytz>=2017.3 in /usr/local/lib/python3.7/dist-packages (from pandas->stable-baselines3[extra]) (2022.2.1)\n"
          ]
        },
        {
          "output_type": "error",
          "ename": "NoSuchConfigException",
          "evalue": "ignored",
          "traceback": [
            "\u001b[0;31m---------------------------------------------------------------------------\u001b[0m",
            "\u001b[0;31mNoSuchConfigException\u001b[0m                     Traceback (most recent call last)",
            "\u001b[0;32m<ipython-input-3-666d93909cdb>\u001b[0m in \u001b[0;36m<module>\u001b[0;34m\u001b[0m\n\u001b[1;32m     33\u001b[0m \u001b[0mdisplay\u001b[0m \u001b[0;34m=\u001b[0m \u001b[0mDisplay\u001b[0m\u001b[0;34m(\u001b[0m\u001b[0mvisible\u001b[0m\u001b[0;34m=\u001b[0m\u001b[0;36m0\u001b[0m\u001b[0;34m,\u001b[0m \u001b[0msize\u001b[0m\u001b[0;34m=\u001b[0m\u001b[0;34m(\u001b[0m\u001b[0;36m1400\u001b[0m\u001b[0;34m,\u001b[0m \u001b[0;36m900\u001b[0m\u001b[0;34m)\u001b[0m\u001b[0;34m)\u001b[0m\u001b[0;34m\u001b[0m\u001b[0;34m\u001b[0m\u001b[0m\n\u001b[1;32m     34\u001b[0m \u001b[0mdisplay\u001b[0m\u001b[0;34m.\u001b[0m\u001b[0mstart\u001b[0m\u001b[0;34m(\u001b[0m\u001b[0;34m)\u001b[0m\u001b[0;34m\u001b[0m\u001b[0;34m\u001b[0m\u001b[0m\n\u001b[0;32m---> 35\u001b[0;31m \u001b[0;32mfrom\u001b[0m \u001b[0mgym_duckietown\u001b[0m\u001b[0;34m.\u001b[0m\u001b[0msimulator\u001b[0m \u001b[0;32mimport\u001b[0m \u001b[0mSimulator\u001b[0m\u001b[0;34m\u001b[0m\u001b[0;34m\u001b[0m\u001b[0m\n\u001b[0m",
            "\u001b[0;32m/usr/local/lib/python3.7/dist-packages/gym_duckietown/simulator.py\u001b[0m in \u001b[0;36m<module>\u001b[0;34m\u001b[0m\n\u001b[1;32m     42\u001b[0m \u001b[0;32mfrom\u001b[0m \u001b[0;34m.\u001b[0m \u001b[0;32mimport\u001b[0m \u001b[0mlogger\u001b[0m\u001b[0;34m\u001b[0m\u001b[0;34m\u001b[0m\u001b[0m\n\u001b[1;32m     43\u001b[0m \u001b[0;32mfrom\u001b[0m \u001b[0;34m.\u001b[0m\u001b[0mcheck_hw\u001b[0m \u001b[0;32mimport\u001b[0m \u001b[0mget_graphics_information\u001b[0m\u001b[0;34m\u001b[0m\u001b[0;34m\u001b[0m\u001b[0m\n\u001b[0;32m---> 44\u001b[0;31m from .collision import (\n\u001b[0m\u001b[1;32m     45\u001b[0m     \u001b[0magent_boundbox\u001b[0m\u001b[0;34m,\u001b[0m\u001b[0;34m\u001b[0m\u001b[0;34m\u001b[0m\u001b[0m\n\u001b[1;32m     46\u001b[0m     \u001b[0mgenerate_norm\u001b[0m\u001b[0;34m,\u001b[0m\u001b[0;34m\u001b[0m\u001b[0;34m\u001b[0m\u001b[0m\n",
            "\u001b[0;32m/usr/local/lib/python3.7/dist-packages/gym_duckietown/collision.py\u001b[0m in \u001b[0;36m<module>\u001b[0;34m\u001b[0m\n\u001b[1;32m      4\u001b[0m \u001b[0;32mimport\u001b[0m \u001b[0mnumpy\u001b[0m \u001b[0;32mas\u001b[0m \u001b[0mnp\u001b[0m\u001b[0;34m\u001b[0m\u001b[0;34m\u001b[0m\u001b[0m\n\u001b[1;32m      5\u001b[0m \u001b[0;34m\u001b[0m\u001b[0m\n\u001b[0;32m----> 6\u001b[0;31m \u001b[0;32mfrom\u001b[0m \u001b[0;34m.\u001b[0m\u001b[0mgraphics\u001b[0m \u001b[0;32mimport\u001b[0m \u001b[0mrotate_point\u001b[0m\u001b[0;34m\u001b[0m\u001b[0;34m\u001b[0m\u001b[0m\n\u001b[0m\u001b[1;32m      7\u001b[0m \u001b[0;34m\u001b[0m\u001b[0m\n\u001b[1;32m      8\u001b[0m \u001b[0;34m\u001b[0m\u001b[0m\n",
            "\u001b[0;32m/usr/local/lib/python3.7/dist-packages/gym_duckietown/graphics.py\u001b[0m in \u001b[0;36m<module>\u001b[0;34m\u001b[0m\n\u001b[1;32m      8\u001b[0m \u001b[0;32mimport\u001b[0m \u001b[0mnumpy\u001b[0m \u001b[0;32mas\u001b[0m \u001b[0mnp\u001b[0m\u001b[0;34m\u001b[0m\u001b[0;34m\u001b[0m\u001b[0m\n\u001b[1;32m      9\u001b[0m \u001b[0;32mimport\u001b[0m \u001b[0mpyglet\u001b[0m\u001b[0;34m\u001b[0m\u001b[0;34m\u001b[0m\u001b[0m\n\u001b[0;32m---> 10\u001b[0;31m \u001b[0;32mimport\u001b[0m \u001b[0mpyglet\u001b[0m\u001b[0;34m.\u001b[0m\u001b[0mimage\u001b[0m\u001b[0;34m\u001b[0m\u001b[0;34m\u001b[0m\u001b[0m\n\u001b[0m\u001b[1;32m     11\u001b[0m \u001b[0;32mfrom\u001b[0m \u001b[0mPIL\u001b[0m \u001b[0;32mimport\u001b[0m \u001b[0mImage\u001b[0m\u001b[0;34m\u001b[0m\u001b[0;34m\u001b[0m\u001b[0m\n\u001b[1;32m     12\u001b[0m \u001b[0;32mfrom\u001b[0m \u001b[0mpyglet\u001b[0m \u001b[0;32mimport\u001b[0m \u001b[0mgl\u001b[0m\u001b[0;34m\u001b[0m\u001b[0;34m\u001b[0m\u001b[0m\n",
            "\u001b[0;32m/usr/local/lib/python3.7/dist-packages/pyglet/image/__init__.py\u001b[0m in \u001b[0;36m<module>\u001b[0;34m\u001b[0m\n\u001b[1;32m    138\u001b[0m \u001b[0;32mimport\u001b[0m \u001b[0mpyglet\u001b[0m\u001b[0;34m\u001b[0m\u001b[0;34m\u001b[0m\u001b[0m\n\u001b[1;32m    139\u001b[0m \u001b[0;34m\u001b[0m\u001b[0m\n\u001b[0;32m--> 140\u001b[0;31m \u001b[0;32mfrom\u001b[0m \u001b[0mpyglet\u001b[0m\u001b[0;34m.\u001b[0m\u001b[0mgl\u001b[0m \u001b[0;32mimport\u001b[0m \u001b[0;34m*\u001b[0m\u001b[0;34m\u001b[0m\u001b[0;34m\u001b[0m\u001b[0m\n\u001b[0m\u001b[1;32m    141\u001b[0m \u001b[0;32mfrom\u001b[0m \u001b[0mpyglet\u001b[0m\u001b[0;34m.\u001b[0m\u001b[0mgl\u001b[0m \u001b[0;32mimport\u001b[0m \u001b[0mgl_info\u001b[0m\u001b[0;34m\u001b[0m\u001b[0;34m\u001b[0m\u001b[0m\n\u001b[1;32m    142\u001b[0m \u001b[0;32mfrom\u001b[0m \u001b[0mpyglet\u001b[0m\u001b[0;34m.\u001b[0m\u001b[0mutil\u001b[0m \u001b[0;32mimport\u001b[0m \u001b[0masbytes\u001b[0m\u001b[0;34m\u001b[0m\u001b[0;34m\u001b[0m\u001b[0m\n",
            "\u001b[0;32m/usr/local/lib/python3.7/dist-packages/pyglet/gl/__init__.py\u001b[0m in \u001b[0;36m<module>\u001b[0;34m\u001b[0m\n\u001b[1;32m    230\u001b[0m     \u001b[0;31m# trickery is for circular import\u001b[0m\u001b[0;34m\u001b[0m\u001b[0;34m\u001b[0m\u001b[0;34m\u001b[0m\u001b[0m\n\u001b[1;32m    231\u001b[0m     \u001b[0m_pyglet\u001b[0m\u001b[0;34m.\u001b[0m\u001b[0mgl\u001b[0m \u001b[0;34m=\u001b[0m \u001b[0m_sys\u001b[0m\u001b[0;34m.\u001b[0m\u001b[0mmodules\u001b[0m\u001b[0;34m[\u001b[0m\u001b[0m__name__\u001b[0m\u001b[0;34m]\u001b[0m\u001b[0;34m\u001b[0m\u001b[0;34m\u001b[0m\u001b[0m\n\u001b[0;32m--> 232\u001b[0;31m     \u001b[0;32mimport\u001b[0m \u001b[0mpyglet\u001b[0m\u001b[0;34m.\u001b[0m\u001b[0mwindow\u001b[0m\u001b[0;34m\u001b[0m\u001b[0;34m\u001b[0m\u001b[0m\n\u001b[0m",
            "\u001b[0;32m/usr/local/lib/python3.7/dist-packages/pyglet/window/__init__.py\u001b[0m in \u001b[0;36m<module>\u001b[0;34m\u001b[0m\n\u001b[1;32m   1917\u001b[0m \u001b[0;32mif\u001b[0m \u001b[0;32mnot\u001b[0m \u001b[0m_is_pyglet_doc_run\u001b[0m\u001b[0;34m:\u001b[0m\u001b[0;34m\u001b[0m\u001b[0;34m\u001b[0m\u001b[0m\n\u001b[1;32m   1918\u001b[0m     \u001b[0mpyglet\u001b[0m\u001b[0;34m.\u001b[0m\u001b[0mwindow\u001b[0m \u001b[0;34m=\u001b[0m \u001b[0msys\u001b[0m\u001b[0;34m.\u001b[0m\u001b[0mmodules\u001b[0m\u001b[0;34m[\u001b[0m\u001b[0m__name__\u001b[0m\u001b[0;34m]\u001b[0m\u001b[0;34m\u001b[0m\u001b[0;34m\u001b[0m\u001b[0m\n\u001b[0;32m-> 1919\u001b[0;31m     \u001b[0mgl\u001b[0m\u001b[0;34m.\u001b[0m\u001b[0m_create_shadow_window\u001b[0m\u001b[0;34m(\u001b[0m\u001b[0;34m)\u001b[0m\u001b[0;34m\u001b[0m\u001b[0;34m\u001b[0m\u001b[0m\n\u001b[0m",
            "\u001b[0;32m/usr/local/lib/python3.7/dist-packages/pyglet/gl/__init__.py\u001b[0m in \u001b[0;36m_create_shadow_window\u001b[0;34m()\u001b[0m\n\u001b[1;32m    204\u001b[0m \u001b[0;34m\u001b[0m\u001b[0m\n\u001b[1;32m    205\u001b[0m     \u001b[0;32mfrom\u001b[0m \u001b[0mpyglet\u001b[0m\u001b[0;34m.\u001b[0m\u001b[0mwindow\u001b[0m \u001b[0;32mimport\u001b[0m \u001b[0mWindow\u001b[0m\u001b[0;34m\u001b[0m\u001b[0;34m\u001b[0m\u001b[0m\n\u001b[0;32m--> 206\u001b[0;31m     \u001b[0m_shadow_window\u001b[0m \u001b[0;34m=\u001b[0m \u001b[0mWindow\u001b[0m\u001b[0;34m(\u001b[0m\u001b[0mwidth\u001b[0m\u001b[0;34m=\u001b[0m\u001b[0;36m1\u001b[0m\u001b[0;34m,\u001b[0m \u001b[0mheight\u001b[0m\u001b[0;34m=\u001b[0m\u001b[0;36m1\u001b[0m\u001b[0;34m,\u001b[0m \u001b[0mvisible\u001b[0m\u001b[0;34m=\u001b[0m\u001b[0;32mFalse\u001b[0m\u001b[0;34m)\u001b[0m\u001b[0;34m\u001b[0m\u001b[0;34m\u001b[0m\u001b[0m\n\u001b[0m\u001b[1;32m    207\u001b[0m     \u001b[0m_shadow_window\u001b[0m\u001b[0;34m.\u001b[0m\u001b[0mswitch_to\u001b[0m\u001b[0;34m(\u001b[0m\u001b[0;34m)\u001b[0m\u001b[0;34m\u001b[0m\u001b[0;34m\u001b[0m\u001b[0m\n\u001b[1;32m    208\u001b[0m \u001b[0;34m\u001b[0m\u001b[0m\n",
            "\u001b[0;32m/usr/local/lib/python3.7/dist-packages/pyglet/window/headless/__init__.py\u001b[0m in \u001b[0;36m__init__\u001b[0;34m(self, *args, **kwargs)\u001b[0m\n\u001b[1;32m     58\u001b[0m \u001b[0;34m\u001b[0m\u001b[0m\n\u001b[1;32m     59\u001b[0m     \u001b[0;32mdef\u001b[0m \u001b[0m__init__\u001b[0m\u001b[0;34m(\u001b[0m\u001b[0mself\u001b[0m\u001b[0;34m,\u001b[0m \u001b[0;34m*\u001b[0m\u001b[0margs\u001b[0m\u001b[0;34m,\u001b[0m \u001b[0;34m**\u001b[0m\u001b[0mkwargs\u001b[0m\u001b[0;34m)\u001b[0m\u001b[0;34m:\u001b[0m\u001b[0;34m\u001b[0m\u001b[0;34m\u001b[0m\u001b[0m\n\u001b[0;32m---> 60\u001b[0;31m         \u001b[0msuper\u001b[0m\u001b[0;34m(\u001b[0m\u001b[0;34m)\u001b[0m\u001b[0;34m.\u001b[0m\u001b[0m__init__\u001b[0m\u001b[0;34m(\u001b[0m\u001b[0;34m*\u001b[0m\u001b[0margs\u001b[0m\u001b[0;34m,\u001b[0m \u001b[0;34m**\u001b[0m\u001b[0mkwargs\u001b[0m\u001b[0;34m)\u001b[0m\u001b[0;34m\u001b[0m\u001b[0;34m\u001b[0m\u001b[0m\n\u001b[0m\u001b[1;32m     61\u001b[0m \u001b[0;34m\u001b[0m\u001b[0m\n\u001b[1;32m     62\u001b[0m     \u001b[0;32mdef\u001b[0m \u001b[0m_recreate\u001b[0m\u001b[0;34m(\u001b[0m\u001b[0mself\u001b[0m\u001b[0;34m,\u001b[0m \u001b[0mchanges\u001b[0m\u001b[0;34m)\u001b[0m\u001b[0;34m:\u001b[0m\u001b[0;34m\u001b[0m\u001b[0;34m\u001b[0m\u001b[0m\n",
            "\u001b[0;32m/usr/local/lib/python3.7/dist-packages/pyglet/window/__init__.py\u001b[0m in \u001b[0;36m__init__\u001b[0;34m(self, width, height, caption, resizable, style, fullscreen, visible, vsync, file_drops, display, screen, config, context, mode)\u001b[0m\n\u001b[1;32m    604\u001b[0m                     \u001b[0;32mpass\u001b[0m\u001b[0;34m\u001b[0m\u001b[0;34m\u001b[0m\u001b[0m\n\u001b[1;32m    605\u001b[0m             \u001b[0;32mif\u001b[0m \u001b[0;32mnot\u001b[0m \u001b[0mconfig\u001b[0m\u001b[0;34m:\u001b[0m\u001b[0;34m\u001b[0m\u001b[0;34m\u001b[0m\u001b[0m\n\u001b[0;32m--> 606\u001b[0;31m                 \u001b[0;32mraise\u001b[0m \u001b[0mNoSuchConfigException\u001b[0m\u001b[0;34m(\u001b[0m\u001b[0;34m'No standard config is available.'\u001b[0m\u001b[0;34m)\u001b[0m\u001b[0;34m\u001b[0m\u001b[0;34m\u001b[0m\u001b[0m\n\u001b[0m\u001b[1;32m    607\u001b[0m \u001b[0;34m\u001b[0m\u001b[0m\n\u001b[1;32m    608\u001b[0m         \u001b[0;31m# Necessary on Windows. More investigation needed:\u001b[0m\u001b[0;34m\u001b[0m\u001b[0;34m\u001b[0m\u001b[0;34m\u001b[0m\u001b[0m\n",
            "\u001b[0;31mNoSuchConfigException\u001b[0m: No standard config is available."
          ]
        }
      ]
    },
    {
      "cell_type": "code",
      "execution_count": 2,
      "metadata": {
        "id": "tgpqAWJSUWC3"
      },
      "outputs": [],
      "source": [
        "# Hyperparameters\n",
        "test_results = True\n",
        "T = 15\n",
        "N = 10\n",
        "n_from_index = 0 # How distant the first point is\n",
        "frame_rate = 10\n",
        "n_samples = 300"
      ]
    },
    {
      "cell_type": "code",
      "execution_count": 3,
      "metadata": {
        "colab": {
          "base_uri": "https://localhost:8080/"
        },
        "id": "WaZH566DUWC7",
        "outputId": "f132b07f-e2f4-431e-c2b3-a52ef63e649f"
      },
      "outputs": [
        {
          "output_type": "stream",
          "name": "stdout",
          "text": [
            "Looking in indexes: https://pypi.org/simple, https://us-python.pkg.dev/colab-wheels/public/simple/\n",
            "Requirement already satisfied: casadi in /usr/local/lib/python3.7/dist-packages (3.5.5)\n"
          ]
        }
      ],
      "source": [
        "import gym_duckietown\n",
        "import matplotlib.pyplot as plt\n",
        "import numpy as np\n",
        "\n",
        "!pip install casadi\n",
        "from casadi import *"
      ]
    },
    {
      "cell_type": "code",
      "source": [
        "map_name = \"Duckietown-small_loop-v0\" #@param ['Duckietown-straight_road-v0','Duckietown-4way-v0','Duckietown-udem1-v0','Duckietown-small_loop-v0','Duckietown-small_loop_cw-v0','Duckietown-zigzag_dists-v0','Duckietown-loop_obstacles-v0','Duckietown-loop_pedestrians-v0']"
      ],
      "metadata": {
        "id": "ek2GK5VXY83t"
      },
      "execution_count": 4,
      "outputs": []
    },
    {
      "cell_type": "code",
      "execution_count": 5,
      "metadata": {
        "id": "MVAlw0p3UWC9"
      },
      "outputs": [],
      "source": [
        "plt.rcParams['figure.figsize'] = [7, 7]"
      ]
    },
    {
      "cell_type": "code",
      "execution_count": 6,
      "metadata": {
        "id": "rz2uzRNBUWC_"
      },
      "outputs": [],
      "source": [
        "#gym_duckietown is very chatty\n",
        "import logging\n",
        "gym_duckietown.logger.setLevel(logging.WARNING)"
      ]
    },
    {
      "cell_type": "code",
      "execution_count": 7,
      "metadata": {
        "colab": {
          "base_uri": "https://localhost:8080/",
          "height": 486
        },
        "id": "uKD8pERGUWDB",
        "outputId": "0fe7e760-e388-42cb-8af4-fa63535df2c8"
      },
      "outputs": [
        {
          "output_type": "error",
          "ename": "ImportError",
          "evalue": "ignored",
          "traceback": [
            "\u001b[0;31m---------------------------------------------------------------------------\u001b[0m",
            "\u001b[0;31mImportError\u001b[0m                               Traceback (most recent call last)",
            "\u001b[0;32m<ipython-input-7-0cea53f1dc0e>\u001b[0m in \u001b[0;36m<module>\u001b[0;34m\u001b[0m\n\u001b[1;32m      1\u001b[0m \u001b[0mdisplay\u001b[0m \u001b[0;34m=\u001b[0m \u001b[0mDisplay\u001b[0m\u001b[0;34m(\u001b[0m\u001b[0mvisible\u001b[0m\u001b[0;34m=\u001b[0m\u001b[0;36m0\u001b[0m\u001b[0;34m,\u001b[0m \u001b[0msize\u001b[0m\u001b[0;34m=\u001b[0m\u001b[0;34m(\u001b[0m\u001b[0;36m1400\u001b[0m\u001b[0;34m,\u001b[0m \u001b[0;36m900\u001b[0m\u001b[0;34m)\u001b[0m\u001b[0;34m)\u001b[0m\u001b[0;34m\u001b[0m\u001b[0;34m\u001b[0m\u001b[0m\n\u001b[1;32m      2\u001b[0m \u001b[0mdisplay\u001b[0m\u001b[0;34m.\u001b[0m\u001b[0mstart\u001b[0m\u001b[0;34m(\u001b[0m\u001b[0;34m)\u001b[0m\u001b[0;34m\u001b[0m\u001b[0;34m\u001b[0m\u001b[0m\n\u001b[0;32m----> 3\u001b[0;31m \u001b[0menv\u001b[0m \u001b[0;34m=\u001b[0m \u001b[0mgym\u001b[0m\u001b[0;34m.\u001b[0m\u001b[0mmake\u001b[0m\u001b[0;34m(\u001b[0m\u001b[0mmap_name\u001b[0m\u001b[0;34m)\u001b[0m\u001b[0;34m\u001b[0m\u001b[0;34m\u001b[0m\u001b[0m\n\u001b[0m",
            "\u001b[0;32m/usr/local/lib/python3.7/dist-packages/gym/envs/registration.py\u001b[0m in \u001b[0;36mmake\u001b[0;34m(id, **kwargs)\u001b[0m\n\u001b[1;32m    233\u001b[0m \u001b[0;34m\u001b[0m\u001b[0m\n\u001b[1;32m    234\u001b[0m \u001b[0;32mdef\u001b[0m \u001b[0mmake\u001b[0m\u001b[0;34m(\u001b[0m\u001b[0mid\u001b[0m\u001b[0;34m,\u001b[0m \u001b[0;34m**\u001b[0m\u001b[0mkwargs\u001b[0m\u001b[0;34m)\u001b[0m\u001b[0;34m:\u001b[0m\u001b[0;34m\u001b[0m\u001b[0;34m\u001b[0m\u001b[0m\n\u001b[0;32m--> 235\u001b[0;31m     \u001b[0;32mreturn\u001b[0m \u001b[0mregistry\u001b[0m\u001b[0;34m.\u001b[0m\u001b[0mmake\u001b[0m\u001b[0;34m(\u001b[0m\u001b[0mid\u001b[0m\u001b[0;34m,\u001b[0m \u001b[0;34m**\u001b[0m\u001b[0mkwargs\u001b[0m\u001b[0;34m)\u001b[0m\u001b[0;34m\u001b[0m\u001b[0;34m\u001b[0m\u001b[0m\n\u001b[0m\u001b[1;32m    236\u001b[0m \u001b[0;34m\u001b[0m\u001b[0m\n\u001b[1;32m    237\u001b[0m \u001b[0;34m\u001b[0m\u001b[0m\n",
            "\u001b[0;32m/usr/local/lib/python3.7/dist-packages/gym/envs/registration.py\u001b[0m in \u001b[0;36mmake\u001b[0;34m(self, path, **kwargs)\u001b[0m\n\u001b[1;32m    127\u001b[0m             \u001b[0mlogger\u001b[0m\u001b[0;34m.\u001b[0m\u001b[0minfo\u001b[0m\u001b[0;34m(\u001b[0m\u001b[0;34m\"Making new env: %s\"\u001b[0m\u001b[0;34m,\u001b[0m \u001b[0mpath\u001b[0m\u001b[0;34m)\u001b[0m\u001b[0;34m\u001b[0m\u001b[0;34m\u001b[0m\u001b[0m\n\u001b[1;32m    128\u001b[0m         \u001b[0mspec\u001b[0m \u001b[0;34m=\u001b[0m \u001b[0mself\u001b[0m\u001b[0;34m.\u001b[0m\u001b[0mspec\u001b[0m\u001b[0;34m(\u001b[0m\u001b[0mpath\u001b[0m\u001b[0;34m)\u001b[0m\u001b[0;34m\u001b[0m\u001b[0;34m\u001b[0m\u001b[0m\n\u001b[0;32m--> 129\u001b[0;31m         \u001b[0menv\u001b[0m \u001b[0;34m=\u001b[0m \u001b[0mspec\u001b[0m\u001b[0;34m.\u001b[0m\u001b[0mmake\u001b[0m\u001b[0;34m(\u001b[0m\u001b[0;34m**\u001b[0m\u001b[0mkwargs\u001b[0m\u001b[0;34m)\u001b[0m\u001b[0;34m\u001b[0m\u001b[0;34m\u001b[0m\u001b[0m\n\u001b[0m\u001b[1;32m    130\u001b[0m         \u001b[0;32mreturn\u001b[0m \u001b[0menv\u001b[0m\u001b[0;34m\u001b[0m\u001b[0;34m\u001b[0m\u001b[0m\n\u001b[1;32m    131\u001b[0m \u001b[0;34m\u001b[0m\u001b[0m\n",
            "\u001b[0;32m/usr/local/lib/python3.7/dist-packages/gym/envs/registration.py\u001b[0m in \u001b[0;36mmake\u001b[0;34m(self, **kwargs)\u001b[0m\n\u001b[1;32m     87\u001b[0m             \u001b[0menv\u001b[0m \u001b[0;34m=\u001b[0m \u001b[0mself\u001b[0m\u001b[0;34m.\u001b[0m\u001b[0mentry_point\u001b[0m\u001b[0;34m(\u001b[0m\u001b[0;34m**\u001b[0m\u001b[0m_kwargs\u001b[0m\u001b[0;34m)\u001b[0m\u001b[0;34m\u001b[0m\u001b[0;34m\u001b[0m\u001b[0m\n\u001b[1;32m     88\u001b[0m         \u001b[0;32melse\u001b[0m\u001b[0;34m:\u001b[0m\u001b[0;34m\u001b[0m\u001b[0;34m\u001b[0m\u001b[0m\n\u001b[0;32m---> 89\u001b[0;31m             \u001b[0mcls\u001b[0m \u001b[0;34m=\u001b[0m \u001b[0mload\u001b[0m\u001b[0;34m(\u001b[0m\u001b[0mself\u001b[0m\u001b[0;34m.\u001b[0m\u001b[0mentry_point\u001b[0m\u001b[0;34m)\u001b[0m\u001b[0;34m\u001b[0m\u001b[0;34m\u001b[0m\u001b[0m\n\u001b[0m\u001b[1;32m     90\u001b[0m             \u001b[0menv\u001b[0m \u001b[0;34m=\u001b[0m \u001b[0mcls\u001b[0m\u001b[0;34m(\u001b[0m\u001b[0;34m**\u001b[0m\u001b[0m_kwargs\u001b[0m\u001b[0;34m)\u001b[0m\u001b[0;34m\u001b[0m\u001b[0;34m\u001b[0m\u001b[0m\n\u001b[1;32m     91\u001b[0m \u001b[0;34m\u001b[0m\u001b[0m\n",
            "\u001b[0;32m/usr/local/lib/python3.7/dist-packages/gym/envs/registration.py\u001b[0m in \u001b[0;36mload\u001b[0;34m(name)\u001b[0m\n\u001b[1;32m     25\u001b[0m \u001b[0;32mdef\u001b[0m \u001b[0mload\u001b[0m\u001b[0;34m(\u001b[0m\u001b[0mname\u001b[0m\u001b[0;34m)\u001b[0m\u001b[0;34m:\u001b[0m\u001b[0;34m\u001b[0m\u001b[0;34m\u001b[0m\u001b[0m\n\u001b[1;32m     26\u001b[0m     \u001b[0mmod_name\u001b[0m\u001b[0;34m,\u001b[0m \u001b[0mattr_name\u001b[0m \u001b[0;34m=\u001b[0m \u001b[0mname\u001b[0m\u001b[0;34m.\u001b[0m\u001b[0msplit\u001b[0m\u001b[0;34m(\u001b[0m\u001b[0;34m\":\"\u001b[0m\u001b[0;34m)\u001b[0m\u001b[0;34m\u001b[0m\u001b[0;34m\u001b[0m\u001b[0m\n\u001b[0;32m---> 27\u001b[0;31m     \u001b[0mmod\u001b[0m \u001b[0;34m=\u001b[0m \u001b[0mimportlib\u001b[0m\u001b[0;34m.\u001b[0m\u001b[0mimport_module\u001b[0m\u001b[0;34m(\u001b[0m\u001b[0mmod_name\u001b[0m\u001b[0;34m)\u001b[0m\u001b[0;34m\u001b[0m\u001b[0;34m\u001b[0m\u001b[0m\n\u001b[0m\u001b[1;32m     28\u001b[0m     \u001b[0mfn\u001b[0m \u001b[0;34m=\u001b[0m \u001b[0mgetattr\u001b[0m\u001b[0;34m(\u001b[0m\u001b[0mmod\u001b[0m\u001b[0;34m,\u001b[0m \u001b[0mattr_name\u001b[0m\u001b[0;34m)\u001b[0m\u001b[0;34m\u001b[0m\u001b[0;34m\u001b[0m\u001b[0m\n\u001b[1;32m     29\u001b[0m     \u001b[0;32mreturn\u001b[0m \u001b[0mfn\u001b[0m\u001b[0;34m\u001b[0m\u001b[0;34m\u001b[0m\u001b[0m\n",
            "\u001b[0;32m/usr/lib/python3.7/importlib/__init__.py\u001b[0m in \u001b[0;36mimport_module\u001b[0;34m(name, package)\u001b[0m\n\u001b[1;32m    125\u001b[0m                 \u001b[0;32mbreak\u001b[0m\u001b[0;34m\u001b[0m\u001b[0;34m\u001b[0m\u001b[0m\n\u001b[1;32m    126\u001b[0m             \u001b[0mlevel\u001b[0m \u001b[0;34m+=\u001b[0m \u001b[0;36m1\u001b[0m\u001b[0;34m\u001b[0m\u001b[0;34m\u001b[0m\u001b[0m\n\u001b[0;32m--> 127\u001b[0;31m     \u001b[0;32mreturn\u001b[0m \u001b[0m_bootstrap\u001b[0m\u001b[0;34m.\u001b[0m\u001b[0m_gcd_import\u001b[0m\u001b[0;34m(\u001b[0m\u001b[0mname\u001b[0m\u001b[0;34m[\u001b[0m\u001b[0mlevel\u001b[0m\u001b[0;34m:\u001b[0m\u001b[0;34m]\u001b[0m\u001b[0;34m,\u001b[0m \u001b[0mpackage\u001b[0m\u001b[0;34m,\u001b[0m \u001b[0mlevel\u001b[0m\u001b[0;34m)\u001b[0m\u001b[0;34m\u001b[0m\u001b[0;34m\u001b[0m\u001b[0m\n\u001b[0m\u001b[1;32m    128\u001b[0m \u001b[0;34m\u001b[0m\u001b[0m\n\u001b[1;32m    129\u001b[0m \u001b[0;34m\u001b[0m\u001b[0m\n",
            "\u001b[0;32m/usr/lib/python3.7/importlib/_bootstrap.py\u001b[0m in \u001b[0;36m_gcd_import\u001b[0;34m(name, package, level)\u001b[0m\n",
            "\u001b[0;32m/usr/lib/python3.7/importlib/_bootstrap.py\u001b[0m in \u001b[0;36m_find_and_load\u001b[0;34m(name, import_)\u001b[0m\n",
            "\u001b[0;32m/usr/lib/python3.7/importlib/_bootstrap.py\u001b[0m in \u001b[0;36m_find_and_load_unlocked\u001b[0;34m(name, import_)\u001b[0m\n",
            "\u001b[0;32m/usr/lib/python3.7/importlib/_bootstrap.py\u001b[0m in \u001b[0;36m_load_unlocked\u001b[0;34m(spec)\u001b[0m\n",
            "\u001b[0;32m/usr/lib/python3.7/importlib/_bootstrap_external.py\u001b[0m in \u001b[0;36mexec_module\u001b[0;34m(self, module)\u001b[0m\n",
            "\u001b[0;32m/usr/lib/python3.7/importlib/_bootstrap.py\u001b[0m in \u001b[0;36m_call_with_frames_removed\u001b[0;34m(f, *args, **kwds)\u001b[0m\n",
            "\u001b[0;32m/content/gym-duckietown/gym_duckietown/envs/__init__.py\u001b[0m in \u001b[0;36m<module>\u001b[0;34m\u001b[0m\n\u001b[1;32m      2\u001b[0m \u001b[0;31m# noinspection PyUnresolvedReferences\u001b[0m\u001b[0;34m\u001b[0m\u001b[0;34m\u001b[0m\u001b[0;34m\u001b[0m\u001b[0m\n\u001b[1;32m      3\u001b[0m \u001b[0;32mfrom\u001b[0m \u001b[0mgym_duckietown\u001b[0m\u001b[0;34m.\u001b[0m\u001b[0mwrappers\u001b[0m \u001b[0;32mimport\u001b[0m \u001b[0mDiscreteWrapper\u001b[0m\u001b[0;34m\u001b[0m\u001b[0;34m\u001b[0m\u001b[0m\n\u001b[0;32m----> 4\u001b[0;31m \u001b[0;32mfrom\u001b[0m \u001b[0mgym_duckietown\u001b[0m\u001b[0;34m.\u001b[0m\u001b[0menvs\u001b[0m\u001b[0;34m.\u001b[0m\u001b[0mduckietown_env\u001b[0m \u001b[0;32mimport\u001b[0m \u001b[0mDuckietownEnv\u001b[0m\u001b[0;34m\u001b[0m\u001b[0;34m\u001b[0m\u001b[0m\n\u001b[0m\u001b[1;32m      5\u001b[0m \u001b[0;32mfrom\u001b[0m \u001b[0mgym_duckietown\u001b[0m\u001b[0;34m.\u001b[0m\u001b[0menvs\u001b[0m\u001b[0;34m.\u001b[0m\u001b[0mduckiebot_env\u001b[0m \u001b[0;32mimport\u001b[0m \u001b[0mDuckiebotEnv\u001b[0m\u001b[0;34m\u001b[0m\u001b[0;34m\u001b[0m\u001b[0m\n\u001b[1;32m      6\u001b[0m \u001b[0;32mfrom\u001b[0m \u001b[0mgym_duckietown\u001b[0m\u001b[0;34m.\u001b[0m\u001b[0menvs\u001b[0m\u001b[0;34m.\u001b[0m\u001b[0mmultimap_env\u001b[0m \u001b[0;32mimport\u001b[0m \u001b[0mMultiMapEnv\u001b[0m\u001b[0;34m\u001b[0m\u001b[0;34m\u001b[0m\u001b[0m\n",
            "\u001b[0;32m/content/gym-duckietown/gym_duckietown/envs/duckietown_env.py\u001b[0m in \u001b[0;36m<module>\u001b[0;34m\u001b[0m\n\u001b[1;32m      3\u001b[0m \u001b[0;32mfrom\u001b[0m \u001b[0mgym\u001b[0m \u001b[0;32mimport\u001b[0m \u001b[0mspaces\u001b[0m\u001b[0;34m\u001b[0m\u001b[0;34m\u001b[0m\u001b[0m\n\u001b[1;32m      4\u001b[0m \u001b[0;34m\u001b[0m\u001b[0m\n\u001b[0;32m----> 5\u001b[0;31m \u001b[0;32mfrom\u001b[0m \u001b[0;34m.\u001b[0m\u001b[0;34m.\u001b[0m\u001b[0msimulator\u001b[0m \u001b[0;32mimport\u001b[0m \u001b[0mSimulator\u001b[0m\u001b[0;34m\u001b[0m\u001b[0;34m\u001b[0m\u001b[0m\n\u001b[0m\u001b[1;32m      6\u001b[0m \u001b[0;32mfrom\u001b[0m \u001b[0;34m.\u001b[0m\u001b[0;34m.\u001b[0m \u001b[0;32mimport\u001b[0m \u001b[0mlogger\u001b[0m\u001b[0;34m\u001b[0m\u001b[0;34m\u001b[0m\u001b[0m\n\u001b[1;32m      7\u001b[0m \u001b[0;34m\u001b[0m\u001b[0m\n",
            "\u001b[0;32m/content/gym-duckietown/gym_duckietown/simulator.py\u001b[0m in \u001b[0;36m<module>\u001b[0;34m\u001b[0m\n\u001b[1;32m      6\u001b[0m \u001b[0;32mfrom\u001b[0m \u001b[0mdataclasses\u001b[0m \u001b[0;32mimport\u001b[0m \u001b[0mdataclass\u001b[0m\u001b[0;34m\u001b[0m\u001b[0;34m\u001b[0m\u001b[0m\n\u001b[1;32m      7\u001b[0m \u001b[0;32mfrom\u001b[0m \u001b[0mtyping\u001b[0m \u001b[0;32mimport\u001b[0m \u001b[0mTuple\u001b[0m\u001b[0;34m\u001b[0m\u001b[0;34m\u001b[0m\u001b[0m\n\u001b[0;32m----> 8\u001b[0;31m \u001b[0;32mimport\u001b[0m \u001b[0mgeometry\u001b[0m\u001b[0;34m\u001b[0m\u001b[0;34m\u001b[0m\u001b[0m\n\u001b[0m\u001b[1;32m      9\u001b[0m \u001b[0;34m\u001b[0m\u001b[0m\n\u001b[1;32m     10\u001b[0m \u001b[0;34m@\u001b[0m\u001b[0mdataclass\u001b[0m\u001b[0;34m\u001b[0m\u001b[0;34m\u001b[0m\u001b[0m\n",
            "\u001b[0;32m/usr/local/lib/python3.7/dist-packages/geometry/__init__.py\u001b[0m in \u001b[0;36m<module>\u001b[0;34m\u001b[0m\n\u001b[1;32m     46\u001b[0m     \u001b[0mdevelopment\u001b[0m \u001b[0;34m=\u001b[0m \u001b[0;32mFalse\u001b[0m\u001b[0;34m\u001b[0m\u001b[0;34m\u001b[0m\u001b[0m\n\u001b[1;32m     47\u001b[0m \u001b[0;34m\u001b[0m\u001b[0m\n\u001b[0;32m---> 48\u001b[0;31m \u001b[0;32mfrom\u001b[0m \u001b[0;34m.\u001b[0m\u001b[0mbasic_utils\u001b[0m \u001b[0;32mimport\u001b[0m \u001b[0;34m*\u001b[0m\u001b[0;34m\u001b[0m\u001b[0;34m\u001b[0m\u001b[0m\n\u001b[0m\u001b[1;32m     49\u001b[0m \u001b[0;32mfrom\u001b[0m \u001b[0;34m.\u001b[0m\u001b[0mconstants\u001b[0m \u001b[0;32mimport\u001b[0m \u001b[0;34m*\u001b[0m\u001b[0;34m\u001b[0m\u001b[0;34m\u001b[0m\u001b[0m\n\u001b[1;32m     50\u001b[0m \u001b[0;32mfrom\u001b[0m \u001b[0;34m.\u001b[0m\u001b[0mdistances\u001b[0m \u001b[0;32mimport\u001b[0m \u001b[0;34m*\u001b[0m\u001b[0;34m\u001b[0m\u001b[0;34m\u001b[0m\u001b[0m\n",
            "\u001b[0;32m/usr/local/lib/python3.7/dist-packages/geometry/basic_utils.py\u001b[0m in \u001b[0;36m<module>\u001b[0;34m\u001b[0m\n\u001b[1;32m      2\u001b[0m \u001b[0;32mimport\u001b[0m \u001b[0mwarnings\u001b[0m\u001b[0;34m\u001b[0m\u001b[0;34m\u001b[0m\u001b[0m\n\u001b[1;32m      3\u001b[0m \u001b[0;34m\u001b[0m\u001b[0m\n\u001b[0;32m----> 4\u001b[0;31m \u001b[0;32mfrom\u001b[0m \u001b[0mcontracts\u001b[0m \u001b[0;32mimport\u001b[0m \u001b[0mcontract\u001b[0m\u001b[0;34m,\u001b[0m \u001b[0mnew_contract\u001b[0m\u001b[0;34m\u001b[0m\u001b[0;34m\u001b[0m\u001b[0m\n\u001b[0m\u001b[1;32m      5\u001b[0m \u001b[0;34m\u001b[0m\u001b[0m\n\u001b[1;32m      6\u001b[0m \u001b[0;32mimport\u001b[0m \u001b[0mnumpy\u001b[0m \u001b[0;32mas\u001b[0m \u001b[0mnp\u001b[0m\u001b[0;34m\u001b[0m\u001b[0;34m\u001b[0m\u001b[0m\n",
            "\u001b[0;32m/usr/local/lib/python3.7/dist-packages/contracts/__init__.py\u001b[0m in \u001b[0;36m<module>\u001b[0;34m\u001b[0m\n\u001b[1;32m     42\u001b[0m \u001b[0;34m\u001b[0m\u001b[0m\n\u001b[1;32m     43\u001b[0m \u001b[0;31m# And after everything else is loaded, load the  utils\u001b[0m\u001b[0;34m\u001b[0m\u001b[0;34m\u001b[0m\u001b[0;34m\u001b[0m\u001b[0m\n\u001b[0;32m---> 44\u001b[0;31m \u001b[0;32mfrom\u001b[0m \u001b[0;34m.\u001b[0m\u001b[0museful_contracts\u001b[0m \u001b[0;32mimport\u001b[0m \u001b[0;34m*\u001b[0m\u001b[0;34m\u001b[0m\u001b[0;34m\u001b[0m\u001b[0m\n\u001b[0m\u001b[1;32m     45\u001b[0m \u001b[0;31m# After everything is loaded, load aliases\u001b[0m\u001b[0;34m\u001b[0m\u001b[0;34m\u001b[0m\u001b[0;34m\u001b[0m\u001b[0m\n\u001b[1;32m     46\u001b[0m \u001b[0;31m# from .library import miscellaneous_aliases  # @UnusedImport\u001b[0m\u001b[0;34m\u001b[0m\u001b[0;34m\u001b[0m\u001b[0;34m\u001b[0m\u001b[0m\n",
            "\u001b[0;32m/usr/local/lib/python3.7/dist-packages/contracts/useful_contracts/__init__.py\u001b[0m in \u001b[0;36m<module>\u001b[0;34m\u001b[0m\n\u001b[1;32m      6\u001b[0m     \u001b[0;32mpass\u001b[0m\u001b[0;34m\u001b[0m\u001b[0;34m\u001b[0m\u001b[0m\n\u001b[1;32m      7\u001b[0m \u001b[0;32melse\u001b[0m\u001b[0;34m:\u001b[0m\u001b[0;34m\u001b[0m\u001b[0;34m\u001b[0m\u001b[0m\n\u001b[0;32m----> 8\u001b[0;31m     \u001b[0;32mfrom\u001b[0m \u001b[0;34m.\u001b[0m\u001b[0mnumpy_specific\u001b[0m \u001b[0;32mimport\u001b[0m \u001b[0;34m*\u001b[0m\u001b[0;34m\u001b[0m\u001b[0;34m\u001b[0m\u001b[0m\n\u001b[0m\u001b[1;32m      9\u001b[0m \u001b[0;34m\u001b[0m\u001b[0m\n\u001b[1;32m     10\u001b[0m \u001b[0;32mfrom\u001b[0m \u001b[0;34m.\u001b[0m\u001b[0mnumbers\u001b[0m \u001b[0;32mimport\u001b[0m \u001b[0;34m*\u001b[0m\u001b[0;34m\u001b[0m\u001b[0;34m\u001b[0m\u001b[0m\n",
            "\u001b[0;32m/usr/local/lib/python3.7/dist-packages/contracts/useful_contracts/numpy_specific.py\u001b[0m in \u001b[0;36m<module>\u001b[0;34m\u001b[0m\n\u001b[1;32m      5\u001b[0m \u001b[0m__all__\u001b[0m \u001b[0;34m=\u001b[0m \u001b[0;34m[\u001b[0m\u001b[0;34m'finite'\u001b[0m\u001b[0;34m]\u001b[0m\u001b[0;34m\u001b[0m\u001b[0;34m\u001b[0m\u001b[0m\n\u001b[1;32m      6\u001b[0m \u001b[0;34m\u001b[0m\u001b[0m\n\u001b[0;32m----> 7\u001b[0;31m \u001b[0;34m@\u001b[0m\u001b[0mnew_contract\u001b[0m\u001b[0;34m\u001b[0m\u001b[0;34m\u001b[0m\u001b[0m\n\u001b[0m\u001b[1;32m      8\u001b[0m \u001b[0;32mdef\u001b[0m \u001b[0mfinite\u001b[0m\u001b[0;34m(\u001b[0m\u001b[0mx\u001b[0m\u001b[0;34m)\u001b[0m\u001b[0;34m:\u001b[0m\u001b[0;34m\u001b[0m\u001b[0;34m\u001b[0m\u001b[0m\n\u001b[1;32m      9\u001b[0m     \u001b[0;32mreturn\u001b[0m \u001b[0mnp\u001b[0m\u001b[0;34m.\u001b[0m\u001b[0misfinite\u001b[0m\u001b[0;34m(\u001b[0m\u001b[0mx\u001b[0m\u001b[0;34m)\u001b[0m\u001b[0;34m.\u001b[0m\u001b[0mall\u001b[0m\u001b[0;34m(\u001b[0m\u001b[0;34m)\u001b[0m\u001b[0;34m\u001b[0m\u001b[0;34m\u001b[0m\u001b[0m\n",
            "\u001b[0;32m/usr/local/lib/python3.7/dist-packages/contracts/__init__.py\u001b[0m in \u001b[0;36mnew_contract\u001b[0;34m(*args)\u001b[0m\n\u001b[1;32m     26\u001b[0m \u001b[0;34m\u001b[0m\u001b[0m\n\u001b[1;32m     27\u001b[0m \u001b[0;32mdef\u001b[0m \u001b[0mnew_contract\u001b[0m\u001b[0;34m(\u001b[0m\u001b[0;34m*\u001b[0m\u001b[0margs\u001b[0m\u001b[0;34m)\u001b[0m\u001b[0;34m:\u001b[0m\u001b[0;34m\u001b[0m\u001b[0;34m\u001b[0m\u001b[0m\n\u001b[0;32m---> 28\u001b[0;31m     \u001b[0;32mreturn\u001b[0m \u001b[0mnew_contract_main\u001b[0m\u001b[0;34m(\u001b[0m\u001b[0;34m*\u001b[0m\u001b[0margs\u001b[0m\u001b[0;34m)\u001b[0m\u001b[0;34m\u001b[0m\u001b[0;34m\u001b[0m\u001b[0m\n\u001b[0m\u001b[1;32m     29\u001b[0m \u001b[0;34m\u001b[0m\u001b[0m\n\u001b[1;32m     30\u001b[0m \u001b[0;34m\u001b[0m\u001b[0m\n",
            "\u001b[0;32m/usr/local/lib/python3.7/dist-packages/contracts/main.py\u001b[0m in \u001b[0;36mnew_contract\u001b[0;34m(*args)\u001b[0m\n\u001b[1;32m    551\u001b[0m             \u001b[0;32mreturn\u001b[0m \u001b[0mfunction\u001b[0m\u001b[0;34m\u001b[0m\u001b[0;34m\u001b[0m\u001b[0m\n\u001b[1;32m    552\u001b[0m         \u001b[0midentifier\u001b[0m \u001b[0;34m=\u001b[0m \u001b[0mfunction\u001b[0m\u001b[0;34m.\u001b[0m\u001b[0m__name__\u001b[0m\u001b[0;34m\u001b[0m\u001b[0;34m\u001b[0m\u001b[0m\n\u001b[0;32m--> 553\u001b[0;31m         \u001b[0mnew_contract_impl\u001b[0m\u001b[0;34m(\u001b[0m\u001b[0midentifier\u001b[0m\u001b[0;34m,\u001b[0m \u001b[0mfunction\u001b[0m\u001b[0;34m)\u001b[0m\u001b[0;34m\u001b[0m\u001b[0;34m\u001b[0m\u001b[0m\n\u001b[0m\u001b[1;32m    554\u001b[0m         \u001b[0;32mreturn\u001b[0m \u001b[0mfunction\u001b[0m\u001b[0;34m\u001b[0m\u001b[0;34m\u001b[0m\u001b[0m\n\u001b[1;32m    555\u001b[0m     \u001b[0;32melse\u001b[0m\u001b[0;34m:\u001b[0m\u001b[0;34m\u001b[0m\u001b[0;34m\u001b[0m\u001b[0m\n",
            "\u001b[0;32m/usr/local/lib/python3.7/dist-packages/contracts/main.py\u001b[0m in \u001b[0;36mnew_contract_impl\u001b[0;34m(identifier, condition)\u001b[0m\n\u001b[1;32m    561\u001b[0m \u001b[0;32mdef\u001b[0m \u001b[0mnew_contract_impl\u001b[0m\u001b[0;34m(\u001b[0m\u001b[0midentifier\u001b[0m\u001b[0;34m,\u001b[0m \u001b[0mcondition\u001b[0m\u001b[0;34m)\u001b[0m\u001b[0;34m:\u001b[0m\u001b[0;34m\u001b[0m\u001b[0;34m\u001b[0m\u001b[0m\n\u001b[1;32m    562\u001b[0m \u001b[0;34m\u001b[0m\u001b[0m\n\u001b[0;32m--> 563\u001b[0;31m     \u001b[0;32mfrom\u001b[0m \u001b[0;34m.\u001b[0m\u001b[0msyntax\u001b[0m \u001b[0;32mimport\u001b[0m \u001b[0mParseException\u001b[0m\u001b[0;34m\u001b[0m\u001b[0;34m\u001b[0m\u001b[0m\n\u001b[0m\u001b[1;32m    564\u001b[0m     \u001b[0;32mfrom\u001b[0m \u001b[0;34m.\u001b[0m\u001b[0mlibrary\u001b[0m\u001b[0;34m.\u001b[0m\u001b[0mextensions\u001b[0m \u001b[0;32mimport\u001b[0m \u001b[0mCheckCallableWithSelf\u001b[0m\u001b[0;34m\u001b[0m\u001b[0;34m\u001b[0m\u001b[0m\n\u001b[1;32m    565\u001b[0m     from .library import (CheckCallable, Extension, SeparateContext,\n",
            "\u001b[0;32m/usr/local/lib/python3.7/dist-packages/contracts/syntax.py\u001b[0m in \u001b[0;36m<module>\u001b[0;34m\u001b[0m\n\u001b[1;32m      4\u001b[0m \u001b[0;34m\u001b[0m\u001b[0m\n\u001b[1;32m      5\u001b[0m \u001b[0;31m# All the imports from pyparsing go here\u001b[0m\u001b[0;34m\u001b[0m\u001b[0;34m\u001b[0m\u001b[0;34m\u001b[0m\u001b[0m\n\u001b[0;32m----> 6\u001b[0;31m from pyparsing import (delimitedList, Forward, Literal,\n\u001b[0m\u001b[1;32m      7\u001b[0m                        \u001b[0mstringEnd\u001b[0m\u001b[0;34m,\u001b[0m \u001b[0mnums\u001b[0m\u001b[0;34m,\u001b[0m \u001b[0mWord\u001b[0m\u001b[0;34m,\u001b[0m \u001b[0mCaselessLiteral\u001b[0m\u001b[0;34m,\u001b[0m \u001b[0mCombine\u001b[0m\u001b[0;34m,\u001b[0m\u001b[0;34m\u001b[0m\u001b[0;34m\u001b[0m\u001b[0m\n\u001b[1;32m      8\u001b[0m                        \u001b[0mOptional\u001b[0m\u001b[0;34m,\u001b[0m \u001b[0mSuppress\u001b[0m\u001b[0;34m,\u001b[0m \u001b[0mOneOrMore\u001b[0m\u001b[0;34m,\u001b[0m \u001b[0mZeroOrMore\u001b[0m\u001b[0;34m,\u001b[0m \u001b[0mopAssoc\u001b[0m\u001b[0;34m,\u001b[0m\u001b[0;34m\u001b[0m\u001b[0;34m\u001b[0m\u001b[0m\n",
            "\u001b[0;31mImportError\u001b[0m: cannot import name 'operatorPrecedence' from 'pyparsing' (/usr/local/lib/python3.7/dist-packages/pyparsing/__init__.py)",
            "",
            "\u001b[0;31m---------------------------------------------------------------------------\u001b[0;32m\nNOTE: If your import is failing due to a missing package, you can\nmanually install dependencies using either !pip or !apt.\n\nTo view examples of installing some common dependencies, click the\n\"Open Examples\" button below.\n\u001b[0;31m---------------------------------------------------------------------------\u001b[0m\n"
          ],
          "errorDetails": {
            "actions": [
              {
                "action": "open_url",
                "actionText": "Open Examples",
                "url": "/notebooks/snippets/importing_libraries.ipynb"
              }
            ]
          }
        }
      ],
      "source": [
        "display = Display(visible=0, size=(1400, 900))\n",
        "display.start()\n",
        "env = gym.make(map_name)"
      ]
    },
    {
      "cell_type": "code",
      "execution_count": null,
      "metadata": {
        "id": "z89iU64pUWDD"
      },
      "outputs": [],
      "source": [
        "env.unwrapped.start_pose = [[0.11699990272521976, 0, 0.41029359288296474], pi/2]"
      ]
    },
    {
      "cell_type": "code",
      "execution_count": null,
      "metadata": {
        "id": "j9NVgt_WUWDE"
      },
      "outputs": [],
      "source": [
        "dt = 1.0 / env.frame_rate"
      ]
    },
    {
      "cell_type": "code",
      "execution_count": null,
      "metadata": {
        "id": "rXdb4eV9UWDF"
      },
      "outputs": [],
      "source": [
        "env.reset()\n",
        "traj = get_trajectory(env, samples=n_samples, method=\"distance\", last_value_distance=1)"
      ]
    },
    {
      "cell_type": "code",
      "execution_count": null,
      "metadata": {
        "id": "PgSDraKqUWDG"
      },
      "outputs": [],
      "source": [
        "pose = get_position(env)\n",
        "pose"
      ]
    },
    {
      "cell_type": "code",
      "execution_count": null,
      "metadata": {
        "id": "pmStASafUWDJ"
      },
      "outputs": [],
      "source": [
        "from scipy import spatial\n",
        "distance,index = spatial.KDTree(traj).query([pose.x, pose.y])\n",
        "index += n_from_index\n",
        "plt.plot(*traj.T, \"r--\")\n",
        "plt.scatter(pose.x, pose.y, c=\"r\")\n",
        "plt.scatter(traj[index,0], traj[index,1], c=\"g\")"
      ]
    },
    {
      "cell_type": "code",
      "execution_count": null,
      "metadata": {
        "id": "YAKxwA1jUWDK"
      },
      "outputs": [],
      "source": [
        "f\"Samples must be at least: {np.round(np.sum( np.sqrt(np.sum( np.diff(traj, axis=0)**2, axis=1 )) ) / (0.6*dt))}\""
      ]
    },
    {
      "cell_type": "code",
      "execution_count": null,
      "metadata": {
        "id": "XvZ1aW8PUWDM"
      },
      "outputs": [],
      "source": [
        "utils.show_on_map_array(env, traj[:,:2])"
      ]
    },
    {
      "cell_type": "code",
      "execution_count": null,
      "metadata": {
        "id": "yYFaZsaWUWDN"
      },
      "outputs": [],
      "source": [
        "get_position(env)"
      ]
    },
    {
      "cell_type": "code",
      "execution_count": null,
      "metadata": {
        "id": "uEqejWvTUWDN"
      },
      "outputs": [],
      "source": [
        "# # Compute the angle between every consecutive points in traj\n",
        "# angles = np.zeros(traj.shape[0])\n",
        "# for i in range(traj.shape[0]-1):\n",
        "#     angles[i] = np.arctan2(traj[i+1,1]-traj[i,1], traj[i+1,0]-traj[i,0])\n",
        "# angles[-1] = np.arctan2(traj[0,1]-traj[-1,1], traj[0,0]-traj[-1,0])"
      ]
    },
    {
      "cell_type": "code",
      "execution_count": null,
      "metadata": {
        "id": "lJBBfSweUWDO"
      },
      "outputs": [],
      "source": [
        "# Compute the angle between every consecutive points in traj\n",
        "angles = np.zeros(traj.shape[0])\n",
        "angles[:-1] = np.arctan2(traj[1:,1]-traj[:-1,1], traj[1:,0]-traj[:-1,0])\n",
        "angles[-1] = np.arctan2(traj[0,1]-traj[-1,1], traj[0,0]-traj[-1,0])"
      ]
    },
    {
      "cell_type": "code",
      "execution_count": null,
      "metadata": {
        "id": "VRxIVVKLUWDO"
      },
      "outputs": [],
      "source": [
        "# Add angles to traj\n",
        "traj = np.concatenate((traj, angles.reshape(-1,1)), axis=1)"
      ]
    },
    {
      "cell_type": "code",
      "execution_count": null,
      "metadata": {
        "id": "7ytXbt6oUWDP"
      },
      "outputs": [],
      "source": [
        "# Drop values to fix weird final angle\n",
        "# traj = traj[1:-1]"
      ]
    },
    {
      "cell_type": "markdown",
      "metadata": {
        "id": "iBnIzZskUWDP"
      },
      "source": [
        "Plot angles:\n",
        "\n",
        "If faces right red, else blue"
      ]
    },
    {
      "cell_type": "code",
      "execution_count": null,
      "metadata": {
        "id": "Q6WtBw_2UWDR"
      },
      "outputs": [],
      "source": [
        "c=\"r\"\n",
        "for x, y, t in traj[::3]:\n",
        "    dx = 0.007*np.cos(t)\n",
        "    if x+dx < x:\n",
        "        c = \"b\"\n",
        "    else:\n",
        "        c = \"r\"\n",
        "    plt.arrow(x, y, dx, 0.008*np.sin(t), color=c, head_width=0.02)"
      ]
    },
    {
      "cell_type": "code",
      "execution_count": null,
      "metadata": {
        "id": "KYFi4xulUWDS"
      },
      "outputs": [],
      "source": [
        "traj[index]"
      ]
    },
    {
      "cell_type": "code",
      "execution_count": null,
      "metadata": {
        "id": "7dTzzbzVUWDT"
      },
      "outputs": [],
      "source": [
        "index = DM(index)\n",
        "traj = DM(traj)"
      ]
    },
    {
      "cell_type": "markdown",
      "metadata": {
        "id": "7x9x1oMMUWDT"
      },
      "source": [
        "Initialize states, inputs, and system dynamic equation"
      ]
    },
    {
      "cell_type": "code",
      "execution_count": null,
      "metadata": {
        "id": "DG5cyd5tUWDT"
      },
      "outputs": [],
      "source": [
        "up = 5\n",
        "wp = 4\n",
        "# parameters for forced dynamics\n",
        "u_alpha_r = 1.5\n",
        "u_alpha_l = 1.5\n",
        "w_alpha_r = 15  # modify this for trim\n",
        "w_alpha_l = 15"
      ]
    },
    {
      "cell_type": "code",
      "execution_count": null,
      "metadata": {
        "id": "WD93UD4WUWDU"
      },
      "outputs": [],
      "source": [
        "def model_F(dt=0.033):\n",
        "    \"\"\"\n",
        "    Return the model casadi function tuned according to the parameter found in the thesis.\n",
        "\n",
        "    :param dt: the time step\n",
        "    \"\"\"\n",
        "    # IDEAL PARAMS\n",
        "    u1 = 5\n",
        "    u2 = 0\n",
        "    u3 = 0\n",
        "    w1 = 4\n",
        "    w2 = 0\n",
        "    w3 = 0\n",
        "    # parameters for forced dynamics\n",
        "    u_alpha_r = 1.5\n",
        "    u_alpha_l = 1.5\n",
        "    w_alpha_r = 15  # modify this for trim\n",
        "    w_alpha_l = 15\n",
        "\n",
        "    # States\n",
        "    x0 = MX.sym('x')\n",
        "    y0 = MX.sym('y')\n",
        "    th0 = MX.sym('th')\n",
        "    w0 = MX.sym('w')\n",
        "    v0 = MX.sym('v')\n",
        "    x = vertcat(x0, y0, th0, v0, w0) # Always vertically concatenate the states --> [n_x,1]\n",
        "    # Inputs\n",
        "    wl = MX.sym('wl')\n",
        "    wr = MX.sym('wr')\n",
        "    u = vertcat(wl, wr) # Always vertically concatenate the inputs --> [n_u,1]\n",
        "    \n",
        "    # V =  [[wl], [wr]]\n",
        "    V = vertcat(wr, wl)\n",
        "\n",
        "    f_dynamic = vertcat(-u1 * v0 - u2 * w0 + u3 * w0 ** 2, -w1 * w0 - w2 * v0 - w3 * v0 * w0)\n",
        "    # input Matrix\n",
        "    B = DM([[u_alpha_r, u_alpha_l], [w_alpha_r, -w_alpha_l]])\n",
        "    # forced response\n",
        "    f_forced = B@V\n",
        "    # acceleration\n",
        "    X_dot_dot = f_dynamic + f_forced\n",
        "    \n",
        "    v1 = v0 + X_dot_dot[0] * dt\n",
        "    w1 = w0 + X_dot_dot[1] * dt\n",
        "    x1 = x0 + v0*dt*np.cos(th0 + w0*dt/2)\n",
        "    y1 = y0 + v0*dt*np.sin(th0 + w0*dt/2)\n",
        "    # Cannot use atan2 because x1 and y1 are approximated while th1 is not\n",
        "    theta1 = th0 + w0*dt\n",
        "    dae = vertcat(x1, y1, theta1, v1, w1)\n",
        "    F = Function('F',[x,u],[dae],['x','u'],['dae'])\n",
        "    return F"
      ]
    },
    {
      "cell_type": "code",
      "execution_count": 3,
      "metadata": {
        "colab": {
          "base_uri": "https://localhost:8080/",
          "height": 167
        },
        "id": "TyWp4KIaUWDX",
        "outputId": "29b959c7-757b-4dfd-a81b-0331c40c9f14"
      },
      "outputs": [
        {
          "output_type": "error",
          "ename": "NameError",
          "evalue": "ignored",
          "traceback": [
            "\u001b[0;31m---------------------------------------------------------------------------\u001b[0m",
            "\u001b[0;31mNameError\u001b[0m                                 Traceback (most recent call last)",
            "\u001b[0;32m<ipython-input-3-e10955423f0d>\u001b[0m in \u001b[0;36m<module>\u001b[0;34m\u001b[0m\n\u001b[0;32m----> 1\u001b[0;31m \u001b[0mpose\u001b[0m \u001b[0;34m=\u001b[0m \u001b[0mget_position\u001b[0m\u001b[0;34m(\u001b[0m\u001b[0menv\u001b[0m\u001b[0;34m)\u001b[0m\u001b[0;34m\u001b[0m\u001b[0;34m\u001b[0m\u001b[0m\n\u001b[0m",
            "\u001b[0;31mNameError\u001b[0m: name 'get_position' is not defined"
          ]
        }
      ],
      "source": [
        "pose = get_position(env)"
      ]
    },
    {
      "cell_type": "markdown",
      "metadata": {
        "id": "rPKDCemAUWDY"
      },
      "source": [
        "DAE"
      ]
    },
    {
      "cell_type": "code",
      "execution_count": null,
      "metadata": {
        "id": "qe8pySzHUWDY"
      },
      "outputs": [],
      "source": [
        "# States\n",
        "x0 = MX.sym('x')\n",
        "y0 = MX.sym('y')\n",
        "th0 = MX.sym('th')\n",
        "v0 = MX.sym('v')\n",
        "w0 = MX.sym('w')\n",
        "x = vertcat(x0, y0, th0, v0, w0) # Always vertically concatenate the states --> [n_x,1]\n",
        "# Inputs\n",
        "wl = MX.sym('wl')\n",
        "wr = MX.sym('wr')\n",
        "u = vertcat(wl, wr) # Always vertically concatenate the inputs --> [n_u,1]\n",
        "# System dynamics (CAN BE NONLINEAR! ;))\n",
        "# x_long_dot_dot = -u1*v0 + u_alpha_r*wr + u_alpha_l*wl\n",
        "# w_dot_dot = -w1*w0 + w_alpha_r*wr - w_alpha_l*wl\n",
        "v1 = (1-up*dt)*v0 + u_alpha_r*dt*wr + u_alpha_l*dt*wl\n",
        "w1 = (1-wp*dt)*w0 + w_alpha_r*dt*wr - w_alpha_l*dt*wl\n",
        "x1 = x0 + v0*dt*np.cos(th0 + w0*dt/2)\n",
        "y1 = y0 + v0*dt*np.sin(th0 + w0*dt/2)\n",
        "# Cannot use atan2 because x1 and y1 are approximated while th1 is not\n",
        "theta1 = th0 + w0*dt\n",
        "dae = vertcat(x1, y1, theta1, v1, w1)\n",
        "F = Function('F',[x,u],[dae],['x','u'],['dae'])\n",
        "if test_results:\n",
        "    print(F([pose.x, pose.y, pose.theta, 0, 0], [1, 1]))"
      ]
    },
    {
      "cell_type": "code",
      "execution_count": null,
      "metadata": {
        "id": "H9iYQI7VUWDZ"
      },
      "outputs": [],
      "source": [
        "F = model_F(dt=1/frame_rate)"
      ]
    },
    {
      "cell_type": "code",
      "execution_count": null,
      "metadata": {
        "id": "pqiA7aumUWDZ"
      },
      "outputs": [],
      "source": [
        "N_test=20\n",
        "# Test the problem definition\n",
        "sim = F.mapaccum(N_test) # To call the F function N times\n",
        "x0 = [pose.x, pose.y, pose.theta, 0, 0]\n",
        "\n",
        "res = sim(x0, [1, 0.2])\n",
        "fig = plt.figure()\n",
        "tgrid = np.linspace(0,T,N)\n",
        "# plt.plot(tgrid, np.column_stack((x0, res)).T)\n",
        "plt.plot(res[0, :], res[1, :], 'r*')\n",
        "env.reset()\n",
        "for action in [[1, 0.2]]*(N_test+3):\n",
        "    obs, reward, done, info = env.step(action)\n",
        "    p = get_position(env)\n",
        "    plt.scatter(p.x, p.y, c='b')\n",
        "_ = env.reset()"
      ]
    },
    {
      "cell_type": "code",
      "execution_count": null,
      "metadata": {
        "id": "ajJS6KH5UWDZ"
      },
      "outputs": [],
      "source": [
        "delay = round(0.15/dt)\n",
        "u_delay0 = DM(np.zeros((2, delay)))\n",
        "# N += delay\n",
        "\n",
        "# Initial reference point\n",
        "r0 = repmat(traj[index, :2].T, 1, N+1)\n",
        "# Initial reference angles\n",
        "t0 = repmat(traj[index, 2].T, 1, N+1)\n",
        "\n",
        "# With preview\n",
        "# Initial reference point\n",
        "r0 = traj[index:index+N+1, :2].T\n",
        "t0 = traj[index:index+N+1, 2].T"
      ]
    },
    {
      "cell_type": "code",
      "execution_count": null,
      "metadata": {
        "id": "1oYFougUUWDa"
      },
      "outputs": [],
      "source": [
        "def mod(n, base):\n",
        "    return n - floor(n/base) * base"
      ]
    },
    {
      "cell_type": "code",
      "execution_count": null,
      "metadata": {
        "id": "zPEN4maVUWDa"
      },
      "outputs": [],
      "source": [
        "opti = Opti()\n",
        "\n",
        "x = opti.variable(5,N+1)    # States with dimension (n_x, prediction_horizon+1) (x(0),...,x(N+1))\n",
        "u = opti.variable(2,N)#-delay)      # Inputs with dimension (n_u, prediction_horizon) (u(0),...,u(N))\n",
        "\n",
        "p = opti.parameter(5,1)     # Parameter to set the initial state conditions (x(0))\n",
        "r = opti.parameter(2,N+1)   # Parameter to set the initial index\n",
        "tr = opti.parameter(1,N+1)   # Parameter to set the initial reference angles\n",
        "u_delay = opti.parameter(2,delay) # Parameter to set the delay\n",
        "\n",
        "Q = opti.parameter(1)\n",
        "Q2 = opti.parameter(1)\n",
        "Q3 = opti.parameter(1)\n",
        "R = opti.parameter(1)\n",
        "\n",
        "# With delay:\n",
        "# Q, Q2, Q3, R = 100, 5e-4, 1, 1e-3\n",
        "obj = Q*sumsqr(x[:2, :]-r) + Q2*sumsqr(mod(x[2, :]-tr+pi, 2*pi)-pi) + Q3*sumsqr(x[3, :]-0.6) + R*sumsqr(u)\n",
        "# atan method is faster than mod (20s vs 23s on 1000 iterations) but it allows car to go backward\n",
        "# obj = Q*sumsqr(x[:2, :]-r) + Q2*sumsqr(atan2(sin(x[2, :]-tr), cos(x[2, :]-tr))) + R*sumsqr(u)\n",
        "\n",
        "opti.minimize(obj)          # Setup the problem \n",
        "\n",
        "# Constraints Definition\n",
        "\n",
        "# 1) System dynamics constraint over the prediction horizon\n",
        "for k in range(0,N):\n",
        "   # opti.subject_to(x[:,k+1]==F(x[:,k],horzcat(u_delay, u)[:, k])) # Horzacat to include delay\n",
        "   opti.subject_to(x[:,k+1]==F(x[:,k],u[:,k])) # No delay\n",
        "    \n",
        "# 2) Additional states/inputs constraints \n",
        "opti.subject_to(vec(u) <= 0.5)\n",
        "opti.subject_to(vec(u) >= -0.1)\n",
        "# 3) Force the state variable at instant 0 to be equal to the parameter value containing x0 value\n",
        "opti.subject_to(x[:,0] == p)\n",
        "\n",
        "opti.set_value(p,[pose.x, pose.y, pose.theta, 0, 0]) # Set the initial x0 value\n",
        "opti.set_value(r,r0) # Set the initial reference points\n",
        "opti.set_value(tr,t0) # Set the initial reference angles\n",
        "opti.set_value(u_delay, u_delay0) # Initial delay\n",
        "\n",
        "opti.set_value(Q, 100)\n",
        "opti.set_value(Q2, 5e-4)\n",
        "opti.set_value(Q3, 1)\n",
        "opti.set_value(R, 1e-3)\n",
        "\n",
        "# Ipopt\n",
        "opts = dict()\n",
        "opts[\"ipopt.print_level\"] = 1\n",
        "opts[\"print_time\"] = False\n",
        "opti.solver('ipopt',opts)\n",
        "\n",
        "# Test over 1 time horizon\n",
        "if test_results:\n",
        "    sol = opti.solve()"
      ]
    },
    {
      "cell_type": "code",
      "execution_count": null,
      "metadata": {
        "id": "HG31kfgfUWDb"
      },
      "outputs": [],
      "source": [
        "# This instruction transfom all the Opti problem defined above into a callable function\n",
        "M = opti.to_function('M',[p, r, tr, u_delay, Q, Q2, Q3, R],[u[:,0]],['p', 'r', 'tr', 'u_delay', 'Q', 'Q2', 'Q3', 'R'],['u_opt'])"
      ]
    },
    {
      "cell_type": "code",
      "execution_count": null,
      "metadata": {
        "id": "gHQRcW2jUWDb"
      },
      "outputs": [],
      "source": [
        "# MPC loop\n",
        "X_log = np.empty((5,0))\n",
        "U_log = np.empty((2,0))\n",
        "\n",
        "x = [pose.x, pose.y, pose.theta, 0, 0]\n",
        "r = r0\n",
        "tr = t0\n",
        "idx = index\n",
        "u_delay = u_delay0\n",
        "errors = []\n",
        "error_x = []\n",
        "error_y = []\n",
        "error_theta = []\n",
        "\n",
        "kdtree = spatial.KDTree(traj[:, :2])\n",
        "\n",
        "for i in range(900):\n",
        "    u = M(x, r, tr, u_delay, 1e3, 0, 0, 0)\n",
        "\n",
        "    U_log = np.column_stack((U_log, u))\n",
        "    X_log = np.column_stack((X_log, x))\n",
        "\n",
        "    # u_delay = np.column_stack((u_delay, u))[:, -delay:]\n",
        "\n",
        "    # simulate\n",
        "    x = F(x,u)\n",
        "\n",
        "    distance = (traj[idx, 0] - x[0])**2 + (traj[idx, 1] - x[1])**2\n",
        "    errors.append(distance)\n",
        "    error_x.append(traj[idx, 0] - x[0])\n",
        "    error_y.append(traj[idx, 1] - x[1])\n",
        "    error_theta.append(mod(x[2]-traj[idx, 2]+pi, 2*pi)-pi)\n",
        "\n",
        "    _,idx = kdtree.query(np.array([x[0], x[1]]).reshape(-1))\n",
        "    try:\n",
        "        r = traj[idx:idx+N+1, :2].T\n",
        "        tr = traj[idx:idx+N+1, 2].T\n",
        "    except Exception:\n",
        "        print(i)\n",
        "        break"
      ]
    },
    {
      "cell_type": "code",
      "execution_count": null,
      "metadata": {
        "id": "CjaZJhySUWDc"
      },
      "outputs": [],
      "source": [
        "f\"Max reached speed: {X_log[3,:].max()}, max speed is 0.6\""
      ]
    },
    {
      "cell_type": "code",
      "execution_count": null,
      "metadata": {
        "id": "ZVe398q3UWDc"
      },
      "outputs": [],
      "source": [
        "errors = np.array(errors).reshape(-1)\n",
        "f\"Mean error: {errors.mean()}\""
      ]
    },
    {
      "cell_type": "code",
      "execution_count": null,
      "metadata": {
        "id": "fKQsrM38UWDd"
      },
      "outputs": [],
      "source": [
        "fig = plt.figure(constrained_layout=True, figsize=(10, 5))\n",
        "ax_dict = fig.subplot_mosaic(\"\"\"AC\"\"\")\n",
        "ax_dict[\"A\"].text(X_log[0,0], X_log[1,0], 'START')\n",
        "ax_dict[\"A\"].plot(traj[:,0], traj[:,1], \"b\")\n",
        "ax_dict[\"A\"].plot(traj[index,0], traj[index,1], 'go')\n",
        "ax_dict[\"A\"].plot(X_log[0,:], X_log[1,:], \"r\")\n",
        "ax_dict[\"A\"].plot(traj[idx, 0], traj[idx,1], 'yo')\n",
        "utils.show_on_map_array(env, np.array([X_log[0,:], X_log[1,:]]).T, fig=ax_dict[\"C\"])"
      ]
    },
    {
      "cell_type": "code",
      "execution_count": null,
      "metadata": {
        "id": "gfuMDqloUWDd"
      },
      "outputs": [],
      "source": [
        "plt.figure(figsize=(10,5))\n",
        "plt.xticks(np.arange(0, len(errors)*dt+1, 1.0))\n",
        "plt.plot(np.arange(len(errors))*dt, np.sqrt(errors))\n",
        "plt.axhline(y=0.025, color='r', linestyle='-')\n",
        "plt.xlabel(\"Time (s)\")\n",
        "plt.ylabel(\"Distance from reference (m)\")"
      ]
    },
    {
      "cell_type": "code",
      "execution_count": null,
      "metadata": {
        "id": "fXVmce2zUWDe"
      },
      "outputs": [],
      "source": [
        "fig = plt.figure(constrained_layout=True, figsize=(16, 10))\n",
        "ax_dict = fig.subplot_mosaic(\"\"\"A\n",
        "        B\n",
        "        C\"\"\")\n",
        "error_x = np.array(error_x).reshape(-1)\n",
        "ax_dict[\"A\"].plot(np.arange(len(error_x))*dt, np.abs(error_x))\n",
        "ax_dict[\"A\"].set_title(\"Error in x\")\n",
        "ax_dict[\"A\"].set_ylabel(\"Distance from x (m)\")\n",
        "error_y = np.array(error_y).reshape(-1)\n",
        "ax_dict[\"B\"].plot(np.arange(len(error_y))*dt, np.abs(error_y))\n",
        "ax_dict[\"B\"].set_title(\"Error in y\")\n",
        "ax_dict[\"B\"].set_ylabel(\"Distance from y (m)\")\n",
        "error_theta_scaled = np.rad2deg(np.array(error_theta).reshape(-1))\n",
        "ax_dict[\"C\"].plot(np.arange(len(error_theta_scaled))*dt, np.abs(error_theta_scaled))\n",
        "ax_dict[\"C\"].set_title(\"Error in theta\")\n",
        "ax_dict[\"C\"].set_ylabel(\"Distance from theta (deg)\")\n",
        "ax_dict[\"C\"].set_xlabel(\"Time (s)\")"
      ]
    },
    {
      "cell_type": "markdown",
      "metadata": {
        "id": "r3UBXNotUWDe"
      },
      "source": [
        "## Parameters sensitivity"
      ]
    },
    {
      "cell_type": "code",
      "execution_count": null,
      "metadata": {
        "id": "ZT47GGAcUWDf"
      },
      "outputs": [],
      "source": [
        "td_graph = False"
      ]
    },
    {
      "cell_type": "markdown",
      "metadata": {
        "id": "ewt0U829UWDf"
      },
      "source": [
        "### Multi parameter sensitivity"
      ]
    },
    {
      "cell_type": "code",
      "execution_count": null,
      "metadata": {
        "id": "Glu9q05JUWDf"
      },
      "outputs": [],
      "source": [
        "if td_graph:\n",
        "    errors_Q = []\n",
        "\n",
        "    for Q_ in np.logspace(-4, 2, 20):\n",
        "        errors_Q2 = []\n",
        "        for Q2_ in np.logspace(-4, 2, 20):\n",
        "            X_log = np.empty((5,0))\n",
        "            U_log = np.empty((2,0))\n",
        "\n",
        "            x = [pose.x, pose.y, pose.theta, 0, 0]\n",
        "            r = r0\n",
        "            tr = t0\n",
        "            idx = index\n",
        "            u_delay = u_delay0\n",
        "            errors = []\n",
        "            error_x = []\n",
        "            error_y = []\n",
        "            error_theta = []\n",
        "\n",
        "            kdtree = spatial.KDTree(traj[:, :2])\n",
        "            for i in range(50):\n",
        "                u = M(x, r, tr, u_delay, Q_, Q2_, 1, 1)\n",
        "\n",
        "                U_log = np.column_stack((U_log, u))\n",
        "                X_log = np.column_stack((X_log, x))\n",
        "\n",
        "                u_delay = np.column_stack((u_delay, u))[:, -delay:]\n",
        "\n",
        "                # simulate\n",
        "                x = F(x,u)\n",
        "\n",
        "                distance = (traj[idx, 0] - x[0])**2 + (traj[idx, 1] - x[1])**2\n",
        "                errors.append(distance)\n",
        "                error_x.append(traj[idx, 0] - x[0])\n",
        "                error_y.append(traj[idx, 1] - x[1])\n",
        "                error_theta.append(mod(x[2]-traj[idx, 2]+pi, 2*pi)-pi)\n",
        "\n",
        "                _,idx = kdtree.query(np.array([x[0], x[1]]).reshape(-1))\n",
        "                r = traj[idx:idx+N+1, :2].T\n",
        "                tr = traj[idx:idx+N+1, 2].T\n",
        "            errors_Q2.append(np.array(errors).reshape(-1).sum())\n",
        "        errors_Q.append(errors_Q2)"
      ]
    },
    {
      "cell_type": "code",
      "execution_count": null,
      "metadata": {
        "id": "FFnhrPPLUWDg"
      },
      "outputs": [],
      "source": [
        "if td_graph:\n",
        "    import matplotlib.ticker as mticker\n",
        "    import matplotlib as mpl\n",
        "\n",
        "    mpl.style.use(\"default\")\n",
        "    ax = plt.axes(projection='3d')\n",
        "    ax.plot_wireframe(np.log10(np.logspace(-4, 2, 20)), np.log10(np.logspace(-4, 2, 20)), np.array(errors_Q), label=\"J\")\n",
        "\n",
        "    # My axis should display 10⁻¹ but you can switch to e-notation 1.00e+01\n",
        "    def log_tick_formatter(val, pos=None):\n",
        "        return f\"$10^{{{int(val)}}}$\"  # remove int() if you don't use MaxNLocator\n",
        "        #return f\"{10**val:.2e}\"      # e-Notation\n",
        "\n",
        "    ax.xaxis.set_major_formatter(mticker.FuncFormatter(log_tick_formatter))\n",
        "    ax.xaxis.set_major_locator(mticker.MaxNLocator(integer=True))\n",
        "\n",
        "    ax.yaxis.set_major_formatter(mticker.FuncFormatter(log_tick_formatter))\n",
        "    ax.yaxis.set_major_locator(mticker.MaxNLocator(integer=True))\n",
        "\n",
        "    ax.set_xlabel('Q1', fontsize=15, rotation=0, labelpad=10)\n",
        "    ax.set_ylabel('Q2', fontsize=15, labelpad=15)\n",
        "    ax.set_zlabel('J', fontsize=15, rotation=0, labelpad=10)\n",
        "    ax.yaxis.set_rotate_label(False)\n",
        "\n",
        "    ax.grid(True)\n",
        "\n",
        "    ax.set_title('Q1 vs Q2')"
      ]
    },
    {
      "cell_type": "markdown",
      "metadata": {
        "id": "EMVn9Mb3UWDh"
      },
      "source": [
        "#### Sensitivity to Q1/Q2\n",
        "FIxed Q3 and R"
      ]
    },
    {
      "cell_type": "code",
      "execution_count": null,
      "metadata": {
        "id": "VQewLL5mUWDh"
      },
      "outputs": [],
      "source": [
        "errors_Q = []\n",
        "\n",
        "for Q_ in np.logspace(-2, 3, 30):\n",
        "    X_log = np.empty((5,0))\n",
        "    U_log = np.empty((2,0))\n",
        "\n",
        "    x = [pose.x, pose.y, pose.theta, 0, 0]\n",
        "    r = r0\n",
        "    tr = t0\n",
        "    idx = index\n",
        "    u_delay = u_delay0\n",
        "    errors = []\n",
        "    error_x = []\n",
        "    error_y = []\n",
        "    error_theta = []\n",
        "\n",
        "    kdtree = spatial.KDTree(traj[:, :2])\n",
        "    for i in range(50):\n",
        "        u = M(x, r, tr, u_delay, Q_, 1, 1e-2, 1)\n",
        "\n",
        "        U_log = np.column_stack((U_log, u))\n",
        "        X_log = np.column_stack((X_log, x))\n",
        "\n",
        "        u_delay = np.column_stack((u_delay, u))[:, -delay:]\n",
        "\n",
        "        # simulate\n",
        "        x = F(x,u)\n",
        "\n",
        "        distance = (traj[idx, 0] - x[0])**2 + (traj[idx, 1] - x[1])**2\n",
        "        errors.append(distance)\n",
        "        error_x.append(traj[idx, 0] - x[0])\n",
        "        error_y.append(traj[idx, 1] - x[1])\n",
        "        error_theta.append(mod(x[2]-traj[idx, 2]+pi, 2*pi)-pi)\n",
        "\n",
        "        _,idx = kdtree.query(np.array([x[0], x[1]]).reshape(-1))\n",
        "        r = traj[idx:idx+N+1, :2].T\n",
        "        tr = traj[idx:idx+N+1, 2].T\n",
        "    errors_Q.append(np.array(errors).reshape(-1).sum())"
      ]
    },
    {
      "cell_type": "code",
      "execution_count": null,
      "metadata": {
        "id": "8ShEwlTfUWDi"
      },
      "outputs": [],
      "source": [
        "fig, ax = plt.subplots()\n",
        "x = np.logspace(-2, 3, 30)\n",
        "ax.plot(x, errors_Q)\n",
        "ax.set_xlabel('Q1/Q2', fontsize=15, rotation=0, labelpad=10)\n",
        "ax.set_ylabel('J', fontsize=15, labelpad=15, rotation=0)\n",
        "ax.grid()\n",
        "\n",
        "# Set x scale to logarithmic\n",
        "ax.set_xscale('log')"
      ]
    },
    {
      "cell_type": "markdown",
      "metadata": {
        "id": "4E2jBdERUWDi"
      },
      "source": [
        "### Sensitivity to Q1 vs Q3"
      ]
    },
    {
      "cell_type": "code",
      "execution_count": null,
      "metadata": {
        "id": "YEK8vHJcUWDj"
      },
      "outputs": [],
      "source": [
        "errors_Q2 = []\n",
        "\n",
        "for Q2_ in np.logspace(-2, 3, 30):\n",
        "    X_log = np.empty((5,0))\n",
        "    U_log = np.empty((2,0))\n",
        "\n",
        "    x = [pose.x, pose.y, pose.theta, 0, 0]\n",
        "    r = r0\n",
        "    tr = t0\n",
        "    idx = index\n",
        "    u_delay = u_delay0\n",
        "    errors = []\n",
        "\n",
        "    kdtree = spatial.KDTree(traj[:, :2])\n",
        "    for i in range(50):\n",
        "        u = M(x, r, tr, u_delay, Q2_, 1e-2, 1, 1)\n",
        "\n",
        "        U_log = np.column_stack((U_log, u))\n",
        "        X_log = np.column_stack((X_log, x))\n",
        "\n",
        "        u_delay = np.column_stack((u_delay, u))[:, -delay:]\n",
        "\n",
        "        # simulate\n",
        "        x = F(x,u)\n",
        "\n",
        "        distance = (traj[idx, 0] - x[0])**2 + (traj[idx, 1] - x[1])**2\n",
        "        errors.append(distance)\n",
        "\n",
        "        _,idx = kdtree.query(np.array([x[0], x[1]]).reshape(-1))\n",
        "        r = traj[idx:idx+N+1, :2].T\n",
        "        tr = traj[idx:idx+N+1, 2].T\n",
        "    errors_Q2.append(np.array(errors).reshape(-1).sum())"
      ]
    },
    {
      "cell_type": "code",
      "execution_count": null,
      "metadata": {
        "id": "RjYz6GTlUWDj"
      },
      "outputs": [],
      "source": [
        "fig, ax = plt.subplots()\n",
        "x = np.logspace(-2, 3, 30)\n",
        "ax.plot(x, errors_Q2)\n",
        "ax.set_xlabel('Q1/Q3', fontsize=15, rotation=0, labelpad=10)\n",
        "ax.set_ylabel('J', fontsize=15, labelpad=15, rotation=0)\n",
        "ax.grid()\n",
        "\n",
        "# Set x scale to logarithmic\n",
        "ax.set_xscale('log')"
      ]
    },
    {
      "cell_type": "markdown",
      "metadata": {
        "id": "75YGOsxCUWDk"
      },
      "source": [
        "### Sensitivity to Q2/Q3"
      ]
    },
    {
      "cell_type": "code",
      "execution_count": null,
      "metadata": {
        "id": "bcorFU0GUWDl"
      },
      "outputs": [],
      "source": [
        "errors_Q3 = []\n",
        "\n",
        "for Q3_ in np.logspace(-5, 5, 40):\n",
        "    X_log = np.empty((5,0))\n",
        "    U_log = np.empty((2,0))\n",
        "\n",
        "    x = [pose.x, pose.y, pose.theta, 0, 0]\n",
        "    r = r0\n",
        "    tr = t0\n",
        "    idx = index\n",
        "    u_delay = u_delay0\n",
        "    errors = []\n",
        "\n",
        "    kdtree = spatial.KDTree(traj[:, :2])\n",
        "    for i in range(50):\n",
        "        u = M(x, r, tr, u_delay, 1e2, Q3_, 1, 1)\n",
        "\n",
        "        U_log = np.column_stack((U_log, u))\n",
        "        X_log = np.column_stack((X_log, x))\n",
        "\n",
        "        u_delay = np.column_stack((u_delay, u))[:, -delay:]\n",
        "\n",
        "        # simulate\n",
        "        x = F(x,u)\n",
        "\n",
        "        distance = (traj[idx, 0] - x[0])**2 + (traj[idx, 1] - x[1])**2\n",
        "        errors.append(distance)\n",
        "\n",
        "        _,idx = kdtree.query(np.array([x[0], x[1]]).reshape(-1))\n",
        "        r = traj[idx:idx+N+1, :2].T\n",
        "        tr = traj[idx:idx+N+1, 2].T\n",
        "    errors_Q3.append(np.array(errors).reshape(-1).sum())"
      ]
    },
    {
      "cell_type": "code",
      "execution_count": null,
      "metadata": {
        "id": "7ArFUR1wUWDl"
      },
      "outputs": [],
      "source": [
        "fig, ax = plt.subplots()\n",
        "x = np.logspace(-5, 5, 40)\n",
        "ax.plot(x, errors_Q3)\n",
        "\n",
        "ax.set_xlabel('Q2/Q3', fontsize=15, rotation=0, labelpad=10)\n",
        "ax.set_ylabel('J', fontsize=15, labelpad=15, rotation=0)\n",
        "ax.grid()\n",
        "\n",
        "# Set x scale to logarithmic\n",
        "ax.set_xscale('log')"
      ]
    },
    {
      "cell_type": "markdown",
      "metadata": {
        "id": "H00cKEWbUWDm"
      },
      "source": [
        "### Sensitivity to R"
      ]
    },
    {
      "cell_type": "code",
      "execution_count": null,
      "metadata": {
        "id": "vrxSNVoMUWDm"
      },
      "outputs": [],
      "source": [
        "sens_R = False\n",
        "\n",
        "if sens_R:\n",
        "    errors_R = []\n",
        "\n",
        "    for R_ in np.logspace(-4, 2, 20):\n",
        "        X_log = np.empty((5,0))\n",
        "        U_log = np.empty((2,0))\n",
        "\n",
        "        x = [pose.x, pose.y, pose.theta, 0, 0]\n",
        "        r = r0\n",
        "        tr = t0\n",
        "        idx = index\n",
        "        u_delay = u_delay0\n",
        "        errors = []\n",
        "\n",
        "        kdtree = spatial.KDTree(traj[:, :2])\n",
        "        for i in range(50):\n",
        "            u = M(x, r, tr, u_delay, 100, 5e-4, 1, R_)\n",
        "\n",
        "            U_log = np.column_stack((U_log, u))\n",
        "            X_log = np.column_stack((X_log, x))\n",
        "\n",
        "            u_delay = np.column_stack((u_delay, u))[:, -delay:]\n",
        "\n",
        "            # simulate\n",
        "            x = F(x,u)\n",
        "\n",
        "            distance = (traj[idx, 0] - x[0])**2 + (traj[idx, 1] - x[1])**2\n",
        "            errors.append(distance)\n",
        "\n",
        "            _,idx = kdtree.query(np.array([x[0], x[1]]).reshape(-1))\n",
        "            r = traj[idx:idx+N+1, :2].T\n",
        "            tr = traj[idx:idx+N+1, 2].T\n",
        "        errors_R.append(np.array(errors).reshape(-1).sum())"
      ]
    },
    {
      "cell_type": "code",
      "execution_count": null,
      "metadata": {
        "id": "aYVEGHucUWDn"
      },
      "outputs": [],
      "source": [
        "if sens_R:\n",
        "    fig, ax = plt.subplots()\n",
        "    x = np.logspace(-4, 2, 20)\n",
        "    ax.plot(x, errors_R)\n",
        "\n",
        "    # Set x scale to logarithmic\n",
        "    ax.set_xscale('log')"
      ]
    },
    {
      "cell_type": "markdown",
      "metadata": {
        "id": "iqa3lbbLUWDo"
      },
      "source": [
        "If you want to save the MPC controller, i.e. the M function for later use, you can do it!"
      ]
    },
    {
      "cell_type": "code",
      "execution_count": null,
      "metadata": {
        "id": "eopUozw_UWDp"
      },
      "outputs": [],
      "source": [
        "M.save('controllers/N10_max03_fittedspeed_Ts05.casadi')"
      ]
    },
    {
      "cell_type": "markdown",
      "metadata": {
        "id": "qTqb551dUWDp"
      },
      "source": [
        "### Gym simulation"
      ]
    },
    {
      "cell_type": "markdown",
      "metadata": {
        "id": "zol3q5pbUWDq"
      },
      "source": [
        "The MPC does not consider the delay yet!"
      ]
    },
    {
      "cell_type": "code",
      "execution_count": null,
      "metadata": {
        "id": "Kfwlcv5uUWDr"
      },
      "outputs": [],
      "source": [
        "record = False\n",
        "\n",
        "if record:\n",
        "    import imageio\n",
        "    import cv2\n",
        "\n",
        "    env.reset()\n",
        "    pose = get_position(env)\n",
        "    images = []\n",
        "    positions = []\n",
        "    odoms = [pose]\n",
        "    actions = [[0,0]]*10\n",
        "    v0 = 0\n",
        "    w0 = 0\n",
        "    for action in U_log.T:\n",
        "        env.step(action)\n",
        "        positions.append(get_position(env))\n",
        "        img = env.render(mode='rgb_array')\n",
        "        img = cv2.resize(img, dsize=(400, 300), interpolation=cv2.INTER_CUBIC)\n",
        "        images.append(img)\n",
        "\n",
        "        p, v0, w0 = my_odometry(action, odoms[-1].x, odoms[-1].y, odoms[-1].theta, v0, w0, dt=dt)\n",
        "        odoms.append(p)\n",
        "        actions.append(action)\n",
        "\n",
        "    imageio.mimsave(\"assets/mpc_run.gif\", images, format='GIF', fps=env.frame_rate)"
      ]
    },
    {
      "cell_type": "code",
      "execution_count": null,
      "metadata": {
        "id": "R-gJ__EYUWDr"
      },
      "outputs": [],
      "source": [
        "if record:\n",
        "    plt.plot(*np.array([[p.x, p.y] for p in positions]).T, c='g', label='true', linewidth=5)\n",
        "    plt.plot(*np.array([[p.x, p.y] for p in odoms]).T, c='r', label='odom')\n",
        "    plt.legend()"
      ]
    },
    {
      "cell_type": "code",
      "execution_count": null,
      "metadata": {
        "id": "j-s6hB2yUWDs"
      },
      "outputs": [],
      "source": [
        "if record:\n",
        "    utils.show_on_map(env, positions)"
      ]
    },
    {
      "cell_type": "code",
      "execution_count": null,
      "metadata": {
        "id": "6mw0G0iRUWDs"
      },
      "outputs": [],
      "source": [
        "from IPython.display import HTML, display\n",
        "# Trick to prevent cache use\n",
        "display(HTML('<img src=\"assets/mpc_run.gif?%d\" width=\"750\" align=\"center\">' % np.random.randint(10)))"
      ]
    }
  ],
  "metadata": {
    "kernelspec": {
      "display_name": "Python 3.8.10 ('RACE')",
      "language": "python",
      "name": "python3"
    },
    "language_info": {
      "codemirror_mode": {
        "name": "ipython",
        "version": 3
      },
      "file_extension": ".py",
      "mimetype": "text/x-python",
      "name": "python",
      "nbconvert_exporter": "python",
      "pygments_lexer": "ipython3",
      "version": "3.8.10"
    },
    "vscode": {
      "interpreter": {
        "hash": "07a813fbc0dfa3687c2d7a37dec1fec4acefea469c7e6d8e3ba4eb0d49ad0cad"
      }
    },
    "colab": {
      "provenance": [],
      "include_colab_link": true
    }
  },
  "nbformat": 4,
  "nbformat_minor": 0
}