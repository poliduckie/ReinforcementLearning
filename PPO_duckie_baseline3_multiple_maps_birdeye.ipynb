{
  "nbformat": 4,
  "nbformat_minor": 0,
  "metadata": {
    "colab": {
      "name": "PPO_duckie_baseline3_multiple_maps_davide.ipynb",
      "provenance": [],
      "collapsed_sections": [],
      "include_colab_link": true
    },
    "kernelspec": {
      "name": "python3",
      "display_name": "Python 3"
    },
    "language_info": {
      "name": "python"
    },
    "accelerator": "GPU"
  },
  "cells": [
    {
      "cell_type": "markdown",
      "metadata": {
        "id": "view-in-github",
        "colab_type": "text"
      },
      "source": [
        "<a href=\"https://colab.research.google.com/github/poliduckie/ReinforcementLearning/blob/main/PPO_duckie_baseline3_multiple_maps_birdeye.ipynb\" target=\"_parent\"><img src=\"https://colab.research.google.com/assets/colab-badge.svg\" alt=\"Open In Colab\"/></a>"
      ]
    },
    {
      "cell_type": "code",
      "metadata": {
        "colab": {
          "base_uri": "https://localhost:8080/"
        },
        "id": "J8KzZYdBq2SA",
        "outputId": "0090940f-3097-4ea0-c1af-a3d6092a3521"
      },
      "source": [
        "import os \n",
        "branch = \"master\" #@param ['master', 'daffy']\n",
        "if branch == \"daffy\":\n",
        "  !pip install duckietown-gym-daffy\n",
        "else:\n",
        "  if not os.path.isdir('gym-duckietown') and not os.path.isdir('../gym-duckietown'):\n",
        "    !git clone --branch {branch} https://github.com/duckietown/gym-duckietown.git\n",
        "    !pip3 install -e gym-duckietown\n",
        "  if \"/gym-duckietown\" not in os.getcwd():\n",
        "    os.chdir('gym-duckietown')\n",
        "!apt install xvfb -y\n",
        "!pip3 install pyvirtualdisplay\n",
        "\n",
        "from pyvirtualdisplay import Display\n",
        "import numpy as np\n",
        "import matplotlib.pyplot as plt\n",
        "from IPython import display as ipythondisplay\n",
        "%matplotlib inline\n",
        "\n",
        "## used to copy the model to the gdrive folder\n",
        "import shutil\n",
        "\n",
        "!apt update && apt install cmake libopenmpi-dev python3-dev zlib1g-dev\n",
        "!pip install stable-baselines3[extra]\n",
        "\n",
        "## imports for the ObsWrapper\n",
        "import cv2\n",
        "import gym\n",
        "from gym.spaces import Box\n",
        "\n",
        "import gym_duckietown"
      ],
      "execution_count": 1,
      "outputs": [
        {
          "output_type": "stream",
          "name": "stdout",
          "text": [
            "Reading package lists... Done\n",
            "Building dependency tree       \n",
            "Reading state information... Done\n",
            "xvfb is already the newest version (2:1.19.6-1ubuntu4.9).\n",
            "0 upgraded, 0 newly installed, 0 to remove and 42 not upgraded.\n",
            "Requirement already satisfied: pyvirtualdisplay in /usr/local/lib/python3.7/dist-packages (2.2)\n",
            "Requirement already satisfied: EasyProcess in /usr/local/lib/python3.7/dist-packages (from pyvirtualdisplay) (0.3)\n",
            "Hit:1 https://cloud.r-project.org/bin/linux/ubuntu bionic-cran40/ InRelease\n",
            "Ign:2 https://developer.download.nvidia.com/compute/cuda/repos/ubuntu1804/x86_64  InRelease\n",
            "Ign:3 https://developer.download.nvidia.com/compute/machine-learning/repos/ubuntu1804/x86_64  InRelease\n",
            "Hit:4 http://security.ubuntu.com/ubuntu bionic-security InRelease\n",
            "Hit:5 https://developer.download.nvidia.com/compute/cuda/repos/ubuntu1804/x86_64  Release\n",
            "Hit:6 http://archive.ubuntu.com/ubuntu bionic InRelease\n",
            "Hit:7 http://ppa.launchpad.net/c2d4u.team/c2d4u4.0+/ubuntu bionic InRelease\n",
            "Hit:8 https://developer.download.nvidia.com/compute/machine-learning/repos/ubuntu1804/x86_64  Release\n",
            "Hit:9 http://archive.ubuntu.com/ubuntu bionic-updates InRelease\n",
            "Hit:10 http://archive.ubuntu.com/ubuntu bionic-backports InRelease\n",
            "Hit:11 http://ppa.launchpad.net/cran/libgit2/ubuntu bionic InRelease\n",
            "Hit:13 http://ppa.launchpad.net/deadsnakes/ppa/ubuntu bionic InRelease\n",
            "Hit:14 http://ppa.launchpad.net/graphics-drivers/ppa/ubuntu bionic InRelease\n",
            "Reading package lists... Done\n",
            "Building dependency tree       \n",
            "Reading state information... Done\n",
            "42 packages can be upgraded. Run 'apt list --upgradable' to see them.\n",
            "Reading package lists... Done\n",
            "Building dependency tree       \n",
            "Reading state information... Done\n",
            "zlib1g-dev is already the newest version (1:1.2.11.dfsg-0ubuntu2).\n",
            "libopenmpi-dev is already the newest version (2.1.1-8).\n",
            "cmake is already the newest version (3.10.2-1ubuntu2.18.04.2).\n",
            "python3-dev is already the newest version (3.6.7-1~18.04).\n",
            "0 upgraded, 0 newly installed, 0 to remove and 42 not upgraded.\n",
            "Requirement already satisfied: stable-baselines3[extra] in /usr/local/lib/python3.7/dist-packages (1.3.0)\n",
            "Requirement already satisfied: matplotlib in /usr/local/lib/python3.7/dist-packages (from stable-baselines3[extra]) (3.2.2)\n",
            "Requirement already satisfied: numpy in /usr/local/lib/python3.7/dist-packages (from stable-baselines3[extra]) (1.19.5)\n",
            "Requirement already satisfied: torch>=1.8.1 in /usr/local/lib/python3.7/dist-packages (from stable-baselines3[extra]) (1.10.0+cu111)\n",
            "Requirement already satisfied: cloudpickle in /usr/local/lib/python3.7/dist-packages (from stable-baselines3[extra]) (1.3.0)\n",
            "Requirement already satisfied: gym<0.20,>=0.17 in /usr/local/lib/python3.7/dist-packages (from stable-baselines3[extra]) (0.17.3)\n",
            "Requirement already satisfied: pandas in /usr/local/lib/python3.7/dist-packages (from stable-baselines3[extra]) (1.1.5)\n",
            "Requirement already satisfied: atari-py~=0.2.0 in /usr/local/lib/python3.7/dist-packages (from stable-baselines3[extra]) (0.2.9)\n",
            "Requirement already satisfied: opencv-python in /usr/local/lib/python3.7/dist-packages (from stable-baselines3[extra]) (4.1.2.30)\n",
            "Requirement already satisfied: tensorboard>=2.2.0 in /usr/local/lib/python3.7/dist-packages (from stable-baselines3[extra]) (2.7.0)\n",
            "Requirement already satisfied: pillow in /usr/local/lib/python3.7/dist-packages (from stable-baselines3[extra]) (7.1.2)\n",
            "Requirement already satisfied: psutil in /usr/local/lib/python3.7/dist-packages (from stable-baselines3[extra]) (5.4.8)\n",
            "Requirement already satisfied: six in /usr/local/lib/python3.7/dist-packages (from atari-py~=0.2.0->stable-baselines3[extra]) (1.15.0)\n",
            "Requirement already satisfied: scipy in /usr/local/lib/python3.7/dist-packages (from gym<0.20,>=0.17->stable-baselines3[extra]) (1.4.1)\n",
            "Requirement already satisfied: pyglet<=1.5.0,>=1.4.0 in /usr/local/lib/python3.7/dist-packages (from gym<0.20,>=0.17->stable-baselines3[extra]) (1.5.0)\n",
            "Requirement already satisfied: future in /usr/local/lib/python3.7/dist-packages (from pyglet<=1.5.0,>=1.4.0->gym<0.20,>=0.17->stable-baselines3[extra]) (0.16.0)\n",
            "Requirement already satisfied: absl-py>=0.4 in /usr/local/lib/python3.7/dist-packages (from tensorboard>=2.2.0->stable-baselines3[extra]) (0.12.0)\n",
            "Requirement already satisfied: google-auth<3,>=1.6.3 in /usr/local/lib/python3.7/dist-packages (from tensorboard>=2.2.0->stable-baselines3[extra]) (1.35.0)\n",
            "Requirement already satisfied: grpcio>=1.24.3 in /usr/local/lib/python3.7/dist-packages (from tensorboard>=2.2.0->stable-baselines3[extra]) (1.42.0)\n",
            "Requirement already satisfied: requests<3,>=2.21.0 in /usr/local/lib/python3.7/dist-packages (from tensorboard>=2.2.0->stable-baselines3[extra]) (2.23.0)\n",
            "Requirement already satisfied: setuptools>=41.0.0 in /usr/local/lib/python3.7/dist-packages (from tensorboard>=2.2.0->stable-baselines3[extra]) (57.4.0)\n",
            "Requirement already satisfied: tensorboard-plugin-wit>=1.6.0 in /usr/local/lib/python3.7/dist-packages (from tensorboard>=2.2.0->stable-baselines3[extra]) (1.8.0)\n",
            "Requirement already satisfied: google-auth-oauthlib<0.5,>=0.4.1 in /usr/local/lib/python3.7/dist-packages (from tensorboard>=2.2.0->stable-baselines3[extra]) (0.4.6)\n",
            "Requirement already satisfied: wheel>=0.26 in /usr/local/lib/python3.7/dist-packages (from tensorboard>=2.2.0->stable-baselines3[extra]) (0.37.0)\n",
            "Requirement already satisfied: markdown>=2.6.8 in /usr/local/lib/python3.7/dist-packages (from tensorboard>=2.2.0->stable-baselines3[extra]) (3.3.6)\n",
            "Requirement already satisfied: protobuf>=3.6.0 in /usr/local/lib/python3.7/dist-packages (from tensorboard>=2.2.0->stable-baselines3[extra]) (3.17.3)\n",
            "Requirement already satisfied: tensorboard-data-server<0.7.0,>=0.6.0 in /usr/local/lib/python3.7/dist-packages (from tensorboard>=2.2.0->stable-baselines3[extra]) (0.6.1)\n",
            "Requirement already satisfied: werkzeug>=0.11.15 in /usr/local/lib/python3.7/dist-packages (from tensorboard>=2.2.0->stable-baselines3[extra]) (1.0.1)\n",
            "Requirement already satisfied: cachetools<5.0,>=2.0.0 in /usr/local/lib/python3.7/dist-packages (from google-auth<3,>=1.6.3->tensorboard>=2.2.0->stable-baselines3[extra]) (4.2.4)\n",
            "Requirement already satisfied: rsa<5,>=3.1.4 in /usr/local/lib/python3.7/dist-packages (from google-auth<3,>=1.6.3->tensorboard>=2.2.0->stable-baselines3[extra]) (4.7.2)\n",
            "Requirement already satisfied: pyasn1-modules>=0.2.1 in /usr/local/lib/python3.7/dist-packages (from google-auth<3,>=1.6.3->tensorboard>=2.2.0->stable-baselines3[extra]) (0.2.8)\n",
            "Requirement already satisfied: requests-oauthlib>=0.7.0 in /usr/local/lib/python3.7/dist-packages (from google-auth-oauthlib<0.5,>=0.4.1->tensorboard>=2.2.0->stable-baselines3[extra]) (1.3.0)\n",
            "Requirement already satisfied: importlib-metadata>=4.4 in /usr/local/lib/python3.7/dist-packages (from markdown>=2.6.8->tensorboard>=2.2.0->stable-baselines3[extra]) (4.8.2)\n",
            "Requirement already satisfied: zipp>=0.5 in /usr/local/lib/python3.7/dist-packages (from importlib-metadata>=4.4->markdown>=2.6.8->tensorboard>=2.2.0->stable-baselines3[extra]) (3.6.0)\n",
            "Requirement already satisfied: typing-extensions>=3.6.4 in /usr/local/lib/python3.7/dist-packages (from importlib-metadata>=4.4->markdown>=2.6.8->tensorboard>=2.2.0->stable-baselines3[extra]) (3.10.0.2)\n",
            "Requirement already satisfied: pyasn1<0.5.0,>=0.4.6 in /usr/local/lib/python3.7/dist-packages (from pyasn1-modules>=0.2.1->google-auth<3,>=1.6.3->tensorboard>=2.2.0->stable-baselines3[extra]) (0.4.8)\n",
            "Requirement already satisfied: chardet<4,>=3.0.2 in /usr/local/lib/python3.7/dist-packages (from requests<3,>=2.21.0->tensorboard>=2.2.0->stable-baselines3[extra]) (3.0.4)\n",
            "Requirement already satisfied: idna<3,>=2.5 in /usr/local/lib/python3.7/dist-packages (from requests<3,>=2.21.0->tensorboard>=2.2.0->stable-baselines3[extra]) (2.10)\n",
            "Requirement already satisfied: urllib3!=1.25.0,!=1.25.1,<1.26,>=1.21.1 in /usr/local/lib/python3.7/dist-packages (from requests<3,>=2.21.0->tensorboard>=2.2.0->stable-baselines3[extra]) (1.24.3)\n",
            "Requirement already satisfied: certifi>=2017.4.17 in /usr/local/lib/python3.7/dist-packages (from requests<3,>=2.21.0->tensorboard>=2.2.0->stable-baselines3[extra]) (2021.10.8)\n",
            "Requirement already satisfied: oauthlib>=3.0.0 in /usr/local/lib/python3.7/dist-packages (from requests-oauthlib>=0.7.0->google-auth-oauthlib<0.5,>=0.4.1->tensorboard>=2.2.0->stable-baselines3[extra]) (3.1.1)\n",
            "Requirement already satisfied: pyparsing!=2.0.4,!=2.1.2,!=2.1.6,>=2.0.1 in /usr/local/lib/python3.7/dist-packages (from matplotlib->stable-baselines3[extra]) (2.4.7)\n",
            "Requirement already satisfied: python-dateutil>=2.1 in /usr/local/lib/python3.7/dist-packages (from matplotlib->stable-baselines3[extra]) (2.8.2)\n",
            "Requirement already satisfied: cycler>=0.10 in /usr/local/lib/python3.7/dist-packages (from matplotlib->stable-baselines3[extra]) (0.11.0)\n",
            "Requirement already satisfied: kiwisolver>=1.0.1 in /usr/local/lib/python3.7/dist-packages (from matplotlib->stable-baselines3[extra]) (1.3.2)\n",
            "Requirement already satisfied: pytz>=2017.2 in /usr/local/lib/python3.7/dist-packages (from pandas->stable-baselines3[extra]) (2018.9)\n"
          ]
        }
      ]
    },
    {
      "cell_type": "code",
      "metadata": {
        "id": "CQUUEFoJrWKI"
      },
      "source": [
        "# Load the TensorBoard notebook extension\n",
        "%load_ext tensorboard"
      ],
      "execution_count": 2,
      "outputs": []
    },
    {
      "cell_type": "code",
      "metadata": {
        "id": "uURw_04sq7kR",
        "outputId": "0eed75ab-cc49-4413-ab10-41ac607ec32e",
        "colab": {
          "base_uri": "https://localhost:8080/"
        }
      },
      "source": [
        "!apt update && apt install cmake libopenmpi-dev python3-dev zlib1g-dev\n",
        "!pip install stable-baselines3[extra]\n",
        "!pip install pyparsing==2.4.7"
      ],
      "execution_count": null,
      "outputs": [
        {
          "output_type": "stream",
          "name": "stdout",
          "text": [
            "\u001b[33m\r0% [Working]\u001b[0m\r            \rHit:1 https://cloud.r-project.org/bin/linux/ubuntu bionic-cran40/ InRelease\n",
            "\u001b[33m\r0% [Connecting to archive.ubuntu.com (91.189.88.152)] [Connecting to security.u\u001b[0m\u001b[33m\r0% [1 InRelease gpgv 3,626 B] [Connecting to archive.ubuntu.com (91.189.88.152)\u001b[0m\r                                                                               \rIgn:2 https://developer.download.nvidia.com/compute/cuda/repos/ubuntu1804/x86_64  InRelease\n",
            "Ign:3 https://developer.download.nvidia.com/compute/machine-learning/repos/ubuntu1804/x86_64  InRelease\n",
            "Hit:4 https://developer.download.nvidia.com/compute/cuda/repos/ubuntu1804/x86_64  Release\n",
            "Hit:5 https://developer.download.nvidia.com/compute/machine-learning/repos/ubuntu1804/x86_64  Release\n",
            "Hit:6 http://ppa.launchpad.net/c2d4u.team/c2d4u4.0+/ubuntu bionic InRelease\n",
            "Hit:7 http://security.ubuntu.com/ubuntu bionic-security InRelease\n",
            "Hit:8 http://archive.ubuntu.com/ubuntu bionic InRelease\n",
            "Hit:9 http://archive.ubuntu.com/ubuntu bionic-updates InRelease\n",
            "Hit:10 http://ppa.launchpad.net/cran/libgit2/ubuntu bionic InRelease\n",
            "Hit:12 http://archive.ubuntu.com/ubuntu bionic-backports InRelease\n",
            "Hit:14 http://ppa.launchpad.net/deadsnakes/ppa/ubuntu bionic InRelease\n",
            "Hit:15 http://ppa.launchpad.net/graphics-drivers/ppa/ubuntu bionic InRelease\n",
            "Reading package lists... Done\n",
            "Building dependency tree       \n",
            "Reading state information... Done\n",
            "42 packages can be upgraded. Run 'apt list --upgradable' to see them.\n",
            "Reading package lists... Done\n",
            "Building dependency tree       \n",
            "Reading state information... Done\n",
            "zlib1g-dev is already the newest version (1:1.2.11.dfsg-0ubuntu2).\n",
            "libopenmpi-dev is already the newest version (2.1.1-8).\n",
            "cmake is already the newest version (3.10.2-1ubuntu2.18.04.2).\n",
            "python3-dev is already the newest version (3.6.7-1~18.04).\n",
            "0 upgraded, 0 newly installed, 0 to remove and 42 not upgraded.\n",
            "Requirement already satisfied: stable-baselines3[extra] in /usr/local/lib/python3.7/dist-packages (1.3.0)\n",
            "Requirement already satisfied: cloudpickle in /usr/local/lib/python3.7/dist-packages (from stable-baselines3[extra]) (1.3.0)\n",
            "Requirement already satisfied: matplotlib in /usr/local/lib/python3.7/dist-packages (from stable-baselines3[extra]) (3.2.2)\n",
            "Requirement already satisfied: pandas in /usr/local/lib/python3.7/dist-packages (from stable-baselines3[extra]) (1.1.5)\n",
            "Requirement already satisfied: torch>=1.8.1 in /usr/local/lib/python3.7/dist-packages (from stable-baselines3[extra]) (1.10.0+cu111)\n",
            "Requirement already satisfied: numpy in /usr/local/lib/python3.7/dist-packages (from stable-baselines3[extra]) (1.19.5)\n",
            "Requirement already satisfied: gym<0.20,>=0.17 in /usr/local/lib/python3.7/dist-packages (from stable-baselines3[extra]) (0.17.3)\n",
            "Requirement already satisfied: tensorboard>=2.2.0 in /usr/local/lib/python3.7/dist-packages (from stable-baselines3[extra]) (2.7.0)\n",
            "Requirement already satisfied: atari-py~=0.2.0 in /usr/local/lib/python3.7/dist-packages (from stable-baselines3[extra]) (0.2.9)\n",
            "Requirement already satisfied: opencv-python in /usr/local/lib/python3.7/dist-packages (from stable-baselines3[extra]) (4.1.2.30)\n",
            "Requirement already satisfied: pillow in /usr/local/lib/python3.7/dist-packages (from stable-baselines3[extra]) (7.1.2)\n",
            "Requirement already satisfied: psutil in /usr/local/lib/python3.7/dist-packages (from stable-baselines3[extra]) (5.4.8)\n",
            "Requirement already satisfied: six in /usr/local/lib/python3.7/dist-packages (from atari-py~=0.2.0->stable-baselines3[extra]) (1.15.0)\n",
            "Requirement already satisfied: pyglet<=1.5.0,>=1.4.0 in /usr/local/lib/python3.7/dist-packages (from gym<0.20,>=0.17->stable-baselines3[extra]) (1.5.0)\n",
            "Requirement already satisfied: scipy in /usr/local/lib/python3.7/dist-packages (from gym<0.20,>=0.17->stable-baselines3[extra]) (1.4.1)\n",
            "Requirement already satisfied: future in /usr/local/lib/python3.7/dist-packages (from pyglet<=1.5.0,>=1.4.0->gym<0.20,>=0.17->stable-baselines3[extra]) (0.16.0)\n",
            "Requirement already satisfied: tensorboard-plugin-wit>=1.6.0 in /usr/local/lib/python3.7/dist-packages (from tensorboard>=2.2.0->stable-baselines3[extra]) (1.8.0)\n",
            "Requirement already satisfied: absl-py>=0.4 in /usr/local/lib/python3.7/dist-packages (from tensorboard>=2.2.0->stable-baselines3[extra]) (0.12.0)\n",
            "Requirement already satisfied: setuptools>=41.0.0 in /usr/local/lib/python3.7/dist-packages (from tensorboard>=2.2.0->stable-baselines3[extra]) (57.4.0)\n",
            "Requirement already satisfied: grpcio>=1.24.3 in /usr/local/lib/python3.7/dist-packages (from tensorboard>=2.2.0->stable-baselines3[extra]) (1.42.0)\n",
            "Requirement already satisfied: google-auth-oauthlib<0.5,>=0.4.1 in /usr/local/lib/python3.7/dist-packages (from tensorboard>=2.2.0->stable-baselines3[extra]) (0.4.6)\n",
            "Requirement already satisfied: markdown>=2.6.8 in /usr/local/lib/python3.7/dist-packages (from tensorboard>=2.2.0->stable-baselines3[extra]) (3.3.6)\n",
            "Requirement already satisfied: protobuf>=3.6.0 in /usr/local/lib/python3.7/dist-packages (from tensorboard>=2.2.0->stable-baselines3[extra]) (3.17.3)\n",
            "Requirement already satisfied: wheel>=0.26 in /usr/local/lib/python3.7/dist-packages (from tensorboard>=2.2.0->stable-baselines3[extra]) (0.37.0)\n",
            "Requirement already satisfied: tensorboard-data-server<0.7.0,>=0.6.0 in /usr/local/lib/python3.7/dist-packages (from tensorboard>=2.2.0->stable-baselines3[extra]) (0.6.1)\n",
            "Requirement already satisfied: werkzeug>=0.11.15 in /usr/local/lib/python3.7/dist-packages (from tensorboard>=2.2.0->stable-baselines3[extra]) (1.0.1)\n",
            "Requirement already satisfied: requests<3,>=2.21.0 in /usr/local/lib/python3.7/dist-packages (from tensorboard>=2.2.0->stable-baselines3[extra]) (2.23.0)\n",
            "Requirement already satisfied: google-auth<3,>=1.6.3 in /usr/local/lib/python3.7/dist-packages (from tensorboard>=2.2.0->stable-baselines3[extra]) (1.35.0)\n",
            "Requirement already satisfied: rsa<5,>=3.1.4 in /usr/local/lib/python3.7/dist-packages (from google-auth<3,>=1.6.3->tensorboard>=2.2.0->stable-baselines3[extra]) (4.7.2)\n",
            "Requirement already satisfied: cachetools<5.0,>=2.0.0 in /usr/local/lib/python3.7/dist-packages (from google-auth<3,>=1.6.3->tensorboard>=2.2.0->stable-baselines3[extra]) (4.2.4)\n",
            "Requirement already satisfied: pyasn1-modules>=0.2.1 in /usr/local/lib/python3.7/dist-packages (from google-auth<3,>=1.6.3->tensorboard>=2.2.0->stable-baselines3[extra]) (0.2.8)\n",
            "Requirement already satisfied: requests-oauthlib>=0.7.0 in /usr/local/lib/python3.7/dist-packages (from google-auth-oauthlib<0.5,>=0.4.1->tensorboard>=2.2.0->stable-baselines3[extra]) (1.3.0)\n",
            "Requirement already satisfied: importlib-metadata>=4.4 in /usr/local/lib/python3.7/dist-packages (from markdown>=2.6.8->tensorboard>=2.2.0->stable-baselines3[extra]) (4.8.2)\n",
            "Requirement already satisfied: typing-extensions>=3.6.4 in /usr/local/lib/python3.7/dist-packages (from importlib-metadata>=4.4->markdown>=2.6.8->tensorboard>=2.2.0->stable-baselines3[extra]) (3.10.0.2)\n",
            "Requirement already satisfied: zipp>=0.5 in /usr/local/lib/python3.7/dist-packages (from importlib-metadata>=4.4->markdown>=2.6.8->tensorboard>=2.2.0->stable-baselines3[extra]) (3.6.0)\n",
            "Requirement already satisfied: pyasn1<0.5.0,>=0.4.6 in /usr/local/lib/python3.7/dist-packages (from pyasn1-modules>=0.2.1->google-auth<3,>=1.6.3->tensorboard>=2.2.0->stable-baselines3[extra]) (0.4.8)\n",
            "Requirement already satisfied: urllib3!=1.25.0,!=1.25.1,<1.26,>=1.21.1 in /usr/local/lib/python3.7/dist-packages (from requests<3,>=2.21.0->tensorboard>=2.2.0->stable-baselines3[extra]) (1.24.3)\n",
            "Requirement already satisfied: certifi>=2017.4.17 in /usr/local/lib/python3.7/dist-packages (from requests<3,>=2.21.0->tensorboard>=2.2.0->stable-baselines3[extra]) (2021.10.8)\n",
            "Requirement already satisfied: chardet<4,>=3.0.2 in /usr/local/lib/python3.7/dist-packages (from requests<3,>=2.21.0->tensorboard>=2.2.0->stable-baselines3[extra]) (3.0.4)\n",
            "Requirement already satisfied: idna<3,>=2.5 in /usr/local/lib/python3.7/dist-packages (from requests<3,>=2.21.0->tensorboard>=2.2.0->stable-baselines3[extra]) (2.10)\n",
            "Requirement already satisfied: oauthlib>=3.0.0 in /usr/local/lib/python3.7/dist-packages (from requests-oauthlib>=0.7.0->google-auth-oauthlib<0.5,>=0.4.1->tensorboard>=2.2.0->stable-baselines3[extra]) (3.1.1)\n",
            "Requirement already satisfied: kiwisolver>=1.0.1 in /usr/local/lib/python3.7/dist-packages (from matplotlib->stable-baselines3[extra]) (1.3.2)\n",
            "Requirement already satisfied: cycler>=0.10 in /usr/local/lib/python3.7/dist-packages (from matplotlib->stable-baselines3[extra]) (0.11.0)\n",
            "Requirement already satisfied: pyparsing!=2.0.4,!=2.1.2,!=2.1.6,>=2.0.1 in /usr/local/lib/python3.7/dist-packages (from matplotlib->stable-baselines3[extra]) (2.4.7)\n",
            "Requirement already satisfied: python-dateutil>=2.1 in /usr/local/lib/python3.7/dist-packages (from matplotlib->stable-baselines3[extra]) (2.8.2)\n",
            "Requirement already satisfied: pytz>=2017.2 in /usr/local/lib/python3.7/dist-packages (from pandas->stable-baselines3[extra]) (2018.9)\n"
          ]
        }
      ]
    },
    {
      "cell_type": "code",
      "metadata": {
        "id": "dqc7MMrbrFx6"
      },
      "source": [
        "map_name = \"Duckietown-zigzag_dists-v0\" #@param ['Duckietown-straight_road-v0','Duckietown-4way-v0','Duckietown-udem1-v0','Duckietown-small_loop-v0','Duckietown-small_loop_cw-v0','Duckietown-zigzag_dists-v0','Duckietown-loop_obstacles-v0','Duckietown-loop_pedestrians-v0']"
      ],
      "execution_count": null,
      "outputs": []
    },
    {
      "cell_type": "code",
      "metadata": {
        "id": "khYrCo6brLdy"
      },
      "source": [
        "import cv2\n",
        "import gym\n",
        "from gym.spaces import Box\n",
        "\n",
        "cutted_img_height = 350 #@param {type: \"slider\", min: 0, max: 480, step:1}\n",
        "resize_ratio = 0.35 #@param {type: \"slider\", min: 0.0, max: 1.0, step:0.01}\n",
        "\n",
        "img_height = 480\n",
        "top_crop = img_height - cutted_img_height\n",
        "\n",
        "img_final_height = int(cutted_img_height * resize_ratio)\n",
        "img_final_width = int(640 * resize_ratio)\n",
        "\n",
        "def cropimg(img):\n",
        "    \"\"\"\n",
        "    Crop top of image top_crop px, they are noise most of the time\n",
        "\n",
        "    :param img: (RGB image as np array) Image to be cropped\n",
        "    \"\"\"\n",
        "    return img[top_crop:,:]\n",
        "\n",
        "def houghtransform(img):\n",
        "    \"\"\"\n",
        "    Apply Hough Line transform, for theory see:\n",
        "    https://opencv-python-tutroals.readthedocs.io/en/latest/py_tutorials/py_imgproc/py_houghlines/py_houghlines.html\n",
        "\n",
        "    :param img: (RGB image as np array)\n",
        "    \"\"\"\n",
        "    frame_BGR = cv2.cvtColor(img, cv2.COLOR_RGB2BGR)\n",
        "    #gray = cv2.cvtColor(img,cv2.COLOR_RGB2GRAY, 3)\n",
        "    edges = cv2.Canny(frame_BGR,50,150,apertureSize = 3)\n",
        "    #minLineLength = 100\n",
        "    #maxLineGap = 10\n",
        "    #lines = cv2.HoughLinesP(edges,1,np.pi/180,100,minLineLength,maxLineGap)\n",
        "    #for x1,y1,x2,y2 in lines[0]:\n",
        "    #    cv2.line(img,(x1,y1),(x2,y2),(0,255,0),2)\n",
        "    imgRGB = cv2.cvtColor(edges, cv2.COLOR_BGR2RGB)\n",
        "    return imgRGB\n",
        "\n",
        "def resizeimg(img, ratio):\n",
        "    \"\"\"\n",
        "    Resize image\n",
        "    :param img: (np array)\n",
        "    :param ratio: (float) 0<ratio<1\n",
        "    \"\"\"\n",
        "    return cv2.resize(img, (0,0), fx=ratio, fy=ratio) \n",
        "  \n",
        "def takeyellow(img):\n",
        "    \"\"\"\n",
        "    Extract yellow lines, for color ranges see:\n",
        "    https://stackoverflow.com/questions/48109650/how-to-detect-two-different-colors-using-cv2-inrange-in-python-opencv\n",
        "\n",
        "    :param img: (RGB image as np array)\n",
        "    \"\"\"\n",
        "    frame_HSV = cv2.cvtColor(img, cv2.COLOR_RGB2HSV)\n",
        "    frame_threshold = cv2.inRange(frame_HSV, (20,100,100), (50, 255, 255))\n",
        "    imgRGB = cv2.cvtColor(frame_threshold, cv2.COLOR_GRAY2RGB)\n",
        "    return imgRGB\n",
        "\n",
        "def takewhiteyellow(img):\n",
        "    \"\"\"\n",
        "    Extract white and yellow lines\n",
        "\n",
        "    :param img: (RGB image as np array)\n",
        "    \"\"\"\n",
        "    #white\n",
        "    sensitivity = 100\n",
        "    lower_white = np.array([0,0,255-sensitivity])\n",
        "    upper_white = np.array([255,sensitivity,255])\n",
        "    frame_HSV = cv2.cvtColor(img, cv2.COLOR_RGB2HSV)\n",
        "    maskwhite = cv2.inRange(frame_HSV, lower_white, upper_white)\n",
        "    img[maskwhite > 0] = (255, 0, 0)\n",
        "    img[maskwhite == 0] = (0,0,0)\n",
        "    #yellow\n",
        "    maskyellow = cv2.inRange(frame_HSV, (15,70,70), (50, 255, 255))\n",
        "    img[maskyellow > 0] = (0, 255, 0)\n",
        "    return img\n",
        "\n",
        "def white_balance(img):\n",
        "    \"\"\"\n",
        "    Grayworld assumption:\n",
        "    https://stackoverflow.com/questions/46390779/automatic-white-balancing-with-grayworld-assumption/46391574\n",
        "\n",
        "    :param img: (RGB image as np array)\n",
        "    \"\"\"\n",
        "    result = cv2.cvtColor(img, cv2.COLOR_RGB2LAB)\n",
        "    avg_a = np.average(result[:, :, 1])\n",
        "    avg_b = np.average(result[:, :, 2])\n",
        "    result[:, :, 1] = result[:, :, 1] - ((avg_a - 128) * (result[:, :, 0] / 255.0) * 1.1)\n",
        "    result[:, :, 2] = result[:, :, 2] - ((avg_b - 128) * (result[:, :, 0] / 255.0) * 1.1)\n",
        "    result = cv2.cvtColor(result, cv2.COLOR_LAB2RGB)\n",
        "    return result\n",
        "\n",
        "def birdeye(img, test=False):\n",
        "    \"\"\"\n",
        "    Apply perspective transform to image, for theory see:\n",
        "    https://docs.opencv.org/3.4/da/d6e/tutorial_py_geometric_transformations.html\n",
        "\n",
        "    Also:\n",
        "    https://stackoverflow.com/questions/48264861/birds-eye-view-opencv\n",
        "    \"\"\"\n",
        "    black_wd = int(2500*resize_ratio)\n",
        "    black_img = np.zeros(shape=(img.shape[0], black_wd, 3), dtype=np.uint8)\n",
        "    x_offset=int((black_wd-img.shape[0])/2)\n",
        "    black_img[:img.shape[0], x_offset:x_offset+img.shape[1]] = img\n",
        "    img = black_img\n",
        "    row, cols, ch = img.shape\n",
        "    src = np.float32([[1060, 170], [1600, 170], [110, row/resize_ratio], [cols/resize_ratio, row/resize_ratio]])*resize_ratio\n",
        "    dst = np.float32([[0,0],[img_final_width,0],[0,img_final_height],[img_final_width,img_final_height]])\n",
        "    M = cv2.getPerspectiveTransform(src, dst)\n",
        "    img_transformed = cv2.warpPerspective(img, M, (cols, row))\n",
        "    img_cutted_to_480_640 = img_transformed[:img_final_height, :img_final_width]\n",
        "    return img_cutted_to_480_640\n",
        "\n",
        "\n",
        "class ObsWrapper(gym.ObservationWrapper):\n",
        "    def __init__(self, env):\n",
        "        super(ObsWrapper, self).__init__(env)\n",
        "        self.observation_space = Box(0, 255, (img_final_height, img_final_width, 3), dtype=self.observation_space.dtype)\n",
        "        self.accept_start_angle_deg = 4\n",
        "        self.env = env\n",
        "\n",
        "    def observation(self, obs):\n",
        "        # cropped = cropimg(obs)\n",
        "        balanced = white_balance(obs)\n",
        "        img = takewhiteyellow(balanced)\n",
        "        bird = birdeye(img)\n",
        "        resized = resizeimg(bird, resize_ratio)\n",
        "        return bird"
      ],
      "execution_count": null,
      "outputs": []
    },
    {
      "cell_type": "code",
      "metadata": {
        "id": "f00twwNvrOfS"
      },
      "source": [
        "class NormalizeWrapper(gym.ObservationWrapper):\n",
        "    def __init__(self, env):\n",
        "        super(NormalizeWrapper, self).__init__(env)\n",
        "        self.observation_space = Box(0, 1, self.observation_space.shape, dtype=self.observation_space.dtype)\n",
        "        self.env = env\n",
        "\n",
        "    def observation(self, obs):\n",
        "        # cropped = cropimg(obs)\n",
        "        balanced = white_balance(obs)\n",
        "        img = takewhiteyellow(balanced)\n",
        "        bird = birdeye(img)\n",
        "        resized = resizeimg(bird, resize_ratio)\n",
        "        return bird"
      ],
      "execution_count": null,
      "outputs": []
    },
    {
      "cell_type": "code",
      "metadata": {
        "id": "80DTPCMFrQnl"
      },
      "source": [
        "import gym, gym_duckietown\n",
        "\n",
        "display = Display(visible=0, size=(1400, 900))\n",
        "display.start()\n",
        "\n",
        "env = gym.make(map_name)\n",
        "# env = BasicWrapper(env)\n",
        "env = ObsWrapper(env)"
      ],
      "execution_count": null,
      "outputs": []
    },
    {
      "cell_type": "code",
      "metadata": {
        "id": "lmSXPFayrR4O"
      },
      "source": [
        "class DtRewardWrapper(gym.RewardWrapper):\n",
        "    def __init__(self, env):\n",
        "        super(DtRewardWrapper, self).__init__(env)\n",
        "\n",
        "    def reward(self, reward):\n",
        "        if reward == -1000:\n",
        "            reward = -10\n",
        "        elif reward > 0:\n",
        "            reward += 10\n",
        "        else:\n",
        "            reward += 4\n",
        "\n",
        "        return reward"
      ],
      "execution_count": null,
      "outputs": []
    },
    {
      "cell_type": "code",
      "metadata": {
        "id": "A8-daazVrdzw"
      },
      "source": [
        "#env = DtRewardWrapper(env)"
      ],
      "execution_count": null,
      "outputs": []
    },
    {
      "cell_type": "code",
      "metadata": {
        "id": "mObAhd-YRaqI"
      },
      "source": [
        "class ActionWrapper(gym.ActionWrapper):\n",
        "    \"\"\"\n",
        "    Wrapper to change the range of possible actions.\n",
        "    \"\"\"\n",
        "    def __init__(self, env):\n",
        "        super(ActionWrapper, self).__init__(env)\n",
        "        # This line stops the car from moving backwards\n",
        "        self.action_space = Box(low=np.array([0.1, -0.5]), high=np.array([1.0, 0.5]), dtype=np.float32)\n",
        "        # Default:\n",
        "        # self.action_space = Box(low=np.array([-1.0, -1.0]), high=np.array([1.0, 1.0]), dtype=np.float32)\n",
        "        self.env = env\n",
        "    \n",
        "    def action(self, act):\n",
        "        return act"
      ],
      "execution_count": null,
      "outputs": []
    },
    {
      "cell_type": "code",
      "metadata": {
        "id": "oCChSCmn_974"
      },
      "source": [
        "class ActionNoiseWrapper(gym.ActionWrapper):\n",
        "    \"\"\"\n",
        "    Wrapper to change the range of possible actions.\n",
        "    \"\"\"\n",
        "    def __init__(self, env):\n",
        "        super(ActionNoiseWrapper, self).__init__(env)\n",
        "        self.env = env\n",
        "    \n",
        "    def action(self, act):\n",
        "        #create noise with normal distribution(mean 0, 0.01 std)\n",
        "        noise = np.random.normal(0, 0.01, act.shape)\n",
        "        #add noise to the signal\n",
        "        act = act + noise\n",
        "        return act"
      ],
      "execution_count": null,
      "outputs": []
    },
    {
      "cell_type": "code",
      "metadata": {
        "id": "Y4MauAU_Sjky"
      },
      "source": [
        "env = ActionWrapper(env)"
      ],
      "execution_count": null,
      "outputs": []
    },
    {
      "cell_type": "code",
      "metadata": {
        "id": "6uFD1v14rzgD"
      },
      "source": [
        "%tensorboard --logdir ./ppo_duckieloop/"
      ],
      "execution_count": null,
      "outputs": []
    },
    {
      "cell_type": "code",
      "metadata": {
        "id": "fg0vpmUEx_Dy"
      },
      "source": [
        "import os\n",
        "from stable_baselines3.common.monitor import Monitor\n",
        "\n",
        "# Create log dir\n",
        "log_dir = \"./ppo_duckieloop/\"\n",
        "os.makedirs(log_dir, exist_ok=True)\n",
        "\n",
        "# Logs will be saved in log_dir/monitor.csv\n",
        "env = Monitor(env, log_dir)"
      ],
      "execution_count": null,
      "outputs": []
    },
    {
      "cell_type": "code",
      "metadata": {
        "id": "CDBSy7NwrgBY"
      },
      "source": [
        "from stable_baselines3 import PPO\n",
        "from stable_baselines3.common.env_util import make_vec_env\n",
        "\n",
        "from stable_baselines3.common.evaluation import evaluate_policy\n",
        "\n",
        "# MultiInputPolicy does not work with this env:\n",
        "# https://github.com/hill-a/stable-baselines/issues/417\n",
        "\n",
        "model = PPO(\n",
        "    \"MlpPolicy\",\n",
        "    env,\n",
        "    verbose=False,\n",
        "    tensorboard_log=\"./ppo_duckieloop/\",\n",
        "    gamma=0.99,\n",
        "    # https://arxiv.org/abs/2005.05719\n",
        "    use_sde=True,\n",
        "    # https://www.researchgate.net/figure/TD3-Hyperparameters_tbl2_341341608\n",
        "    sde_sample_freq=64, # def: -1\n",
        "    # https://github.com/hill-a/stable-baselines/issues/213\n",
        "    # https://en.wikipedia.org/wiki/Kullback%E2%80%93Leibler_divergence\n",
        "    # target kl sets an early stopping limit if the kl diverges too much\n",
        "    # target_kl\n",
        "    )\n"
      ],
      "execution_count": null,
      "outputs": []
    },
    {
      "cell_type": "code",
      "metadata": {
        "id": "wrOAOqL8c_Bf"
      },
      "source": [
        "run = \"True\" #@param ['True', 'False']"
      ],
      "execution_count": null,
      "outputs": []
    },
    {
      "cell_type": "code",
      "metadata": {
        "id": "GmljkF1cpiJB"
      },
      "source": [
        "map_name = \"Duckietown-zigzag_dists-v0\" #@param ['Duckietown-straight_road-v0','Duckietown-4way-v0','Duckietown-udem1-v0','Duckietown-small_loop-v0','Duckietown-small_loop_cw-v0','Duckietown-zigzag_dists-v0','Duckietown-loop_obstacles-v0','Duckietown-loop_pedestrians-v0']\n"
      ],
      "execution_count": null,
      "outputs": []
    },
    {
      "cell_type": "code",
      "metadata": {
        "id": "lRSjGkYkbZEc"
      },
      "source": [
        "N_ITERATIONS = 20\n",
        "## maps without obstacles\n",
        "map_names = ['Duckietown-straight_road-v0','Duckietown-straight_road-v0','Duckietown-straight_road-v0','Duckietown-small_loop-v0','Duckietown-small_loop_cw-v0','Duckietown-small_loop-v0','Duckietown-small_loop_cw-v0','Duckietown-small_loop-v0','Duckietown-small_loop_cw-v0','Duckietown-zigzag_dists-v0','Duckietown-zigzag_dists-v0','Duckietown-zigzag_dists-v0','Duckietown-zigzag_dists-v0','Duckietown-zigzag_dists-v0','Duckietown-zigzag_dists-v0','Duckietown-zigzag_dists-v0','Duckietown-zigzag_dists-v0','Duckietown-zigzag_dists-v0','Duckietown-zigzag_dists-v0','Duckietown-zigzag_dists-v0']\n",
        "if run==\"True\":\n",
        "  print(\"Starting...\")\n",
        "  for time in range(N_ITERATIONS):\n",
        "    env_new = gym.make(map_names[time%len(map_names)])\n",
        "    env_new = ObsWrapper(env_new)\n",
        "    env_new = ActionWrapper(env_new)\n",
        "    env_new = Monitor(env_new, log_dir)\n",
        "    model.set_env(env_new)\n",
        "    if run==\"True\":\n",
        "      model.learn(total_timesteps=int(1e4), tb_log_name=\"run_\"+str(time))\n",
        "      mean_reward, std_reward = evaluate_policy(model, model.get_env(), n_eval_episodes=10)\n",
        "      model.save(\"ppo\"+map_name+str(1e4*time))\n",
        "      print(f\"#{time} Trained 10000 timesteps, mean_reward: {mean_reward}, std_reward: {std_reward}\")\n",
        "    else:\n",
        "      break  \n",
        "  ipythondisplay.clear_output(wait=True)"
      ],
      "execution_count": null,
      "outputs": []
    },
    {
      "cell_type": "code",
      "metadata": {
        "id": "GppOASInee3i"
      },
      "source": [
        "env_new = gym.make(map_name)\n",
        "env_new = ObsWrapper(env_new)\n",
        "env_new = Monitor(env_new, log_dir)"
      ],
      "execution_count": null,
      "outputs": []
    },
    {
      "cell_type": "code",
      "metadata": {
        "id": "PYZsC8mUo48x"
      },
      "source": [
        "# Set up fake display; otherwise rendering will fail\n",
        "import os\n",
        "os.system(\"Xvfb :1 -screen 0 1024x768x24 &\")\n",
        "os.environ['DISPLAY'] = ':1'"
      ],
      "execution_count": null,
      "outputs": []
    },
    {
      "cell_type": "code",
      "metadata": {
        "id": "bck9nmp9pkQ8"
      },
      "source": [
        "import base64\n",
        "from pathlib import Path\n",
        "\n",
        "from IPython import display as ipythondisplay\n",
        "\n",
        "def show_videos(video_path='', prefix=''):\n",
        "  \"\"\"\n",
        "  Taken from https://github.com/eleurent/highway-env\n",
        "\n",
        "  :param video_path: (str) Path to the folder containing videos\n",
        "  :param prefix: (str) Filter the video, showing only the only starting with this prefix\n",
        "  \"\"\"\n",
        "  html = []\n",
        "  for mp4 in Path(video_path).glob(\"{}*.mp4\".format(prefix)):\n",
        "      video_b64 = base64.b64encode(mp4.read_bytes())\n",
        "      html.append('''<video alt=\"{}\" autoplay \n",
        "                    loop controls style=\"height: 400px;\">\n",
        "                    <source src=\"data:video/mp4;base64,{}\" type=\"video/mp4\" />\n",
        "                </video>'''.format(mp4, video_b64.decode('ascii')))\n",
        "  ipythondisplay.display(ipythondisplay.HTML(data=\"<br>\".join(html)))"
      ],
      "execution_count": null,
      "outputs": []
    },
    {
      "cell_type": "code",
      "metadata": {
        "id": "PVg1qYFLplb6"
      },
      "source": [
        "from stable_baselines3.common.vec_env import VecVideoRecorder, DummyVecEnv\n",
        "\n",
        "def record_video(model, video_length=500, prefix='', video_folder='videos/'):\n",
        "  \"\"\"\n",
        "  :param model: (RL model)\n",
        "  :param video_length: (int)\n",
        "  :param prefix: (str)\n",
        "  :param video_folder: (str)\n",
        "  \"\"\"\n",
        "  eval_env = DummyVecEnv([lambda: DtRewardWrapper(ObsWrapper(gym.make(map_name, accept_start_angle_deg=4)))])\n",
        "  # Start the video at step=0 and record 500 steps\n",
        "  eval_env = VecVideoRecorder(eval_env, video_folder=video_folder,\n",
        "                              record_video_trigger=lambda step: step == 0, video_length=video_length,\n",
        "                              name_prefix=prefix)\n",
        "\n",
        "  obs = eval_env.reset()\n",
        "  for _ in range(video_length):\n",
        "    action, _ = model.predict(obs)\n",
        "    obs, reward, done, _ = eval_env.step(action)\n",
        "    if done and reward < 0:\n",
        "      print(\"*** CRASHED ***\")\n",
        "      print(reward)\n",
        "    elif done:\n",
        "      print(\"SAFE\")\n",
        "      print(reward)\n",
        "    \n",
        "\n",
        "  # Close the video recorder\n",
        "  eval_env.close()"
      ],
      "execution_count": null,
      "outputs": []
    },
    {
      "cell_type": "code",
      "metadata": {
        "id": "ZQPpl0I3poeO"
      },
      "source": [
        "load = False\n",
        "\n",
        "if load:\n",
        "    time_to_load = 8\n",
        "    model_to_be_loaded = \"ppo\"+map_name+str(1e4*time_to_load)\n",
        "    model = PPO.load(model_to_be_loaded)\n",
        "record_video(model, video_length=500, prefix=map_name)"
      ],
      "execution_count": null,
      "outputs": []
    },
    {
      "cell_type": "code",
      "metadata": {
        "id": "q3xqBZuPptB0"
      },
      "source": [
        "if True:\n",
        "  show_videos('videos', prefix=map_name)"
      ],
      "execution_count": null,
      "outputs": []
    },
    {
      "cell_type": "code",
      "metadata": {
        "id": "tDkP0LLNO0rH"
      },
      "source": [
        "done = False\n",
        "obs = env.reset()\n",
        "actions = []\n",
        "while not done:\n",
        "  action, _ = model.predict(obs)\n",
        "  obs, rewad, done, _ = env.step(action)\n",
        "  actions.append(action)"
      ],
      "execution_count": null,
      "outputs": []
    },
    {
      "cell_type": "code",
      "metadata": {
        "id": "kuwGaYlfP7ZW"
      },
      "source": [
        "actions[:10]"
      ],
      "execution_count": null,
      "outputs": []
    },
    {
      "cell_type": "code",
      "metadata": {
        "id": "aByDOq2KP-aW"
      },
      "source": [
        "env.action_space"
      ],
      "execution_count": null,
      "outputs": []
    },
    {
      "cell_type": "code",
      "metadata": {
        "id": "614UcZDdS1NE"
      },
      "source": [
        "env.action_space.sample()"
      ],
      "execution_count": null,
      "outputs": []
    },
    {
      "cell_type": "code",
      "metadata": {
        "id": "hmuVObDrTA7D"
      },
      "source": [
        ""
      ],
      "execution_count": null,
      "outputs": []
    }
  ]
}