{
  "nbformat": 4,
  "nbformat_minor": 0,
  "metadata": {
    "colab": {
      "name": "duckietown_stablebaseline.ipynb",
      "provenance": [],
      "collapsed_sections": [],
      "include_colab_link": true
    },
    "kernelspec": {
      "name": "python3",
      "display_name": "Python 3"
    },
    "accelerator": "GPU"
  },
  "cells": [
    {
      "cell_type": "markdown",
      "metadata": {
        "id": "view-in-github",
        "colab_type": "text"
      },
      "source": [
        "<a href=\"https://colab.research.google.com/github/poliduckie/ReinforcementLearning/blob/main/notebooks/autoencoder.ipynb\" target=\"_parent\"><img src=\"https://colab.research.google.com/assets/colab-badge.svg\" alt=\"Open In Colab\"/></a>"
      ]
    },
    {
      "cell_type": "markdown",
      "metadata": {
        "id": "pWs-smIR_BD8"
      },
      "source": [
        "#Train duckietown with stable baseline"
      ]
    },
    {
      "cell_type": "markdown",
      "metadata": {
        "id": "j6gF4aXa_GQx"
      },
      "source": [
        "Environment setup "
      ]
    },
    {
      "cell_type": "code",
      "metadata": {
        "id": "MnPw8GUh-IGW",
        "colab": {
          "base_uri": "https://localhost:8080/"
        },
        "outputId": "017abf27-a171-4b65-8937-1988cd337228"
      },
      "source": [
        "import os \n",
        "if not os.path.isdir('gym-duckietown') and not os.path.isdir('../gym-duckietown'):\n",
        "  branch = \"daffy\" #@param ['master', 'daffy']\n",
        "  !git clone --branch {branch} https://github.com/duckietown/gym-duckietown.git\n",
        "  !pip3 install -e gym-duckietown\n",
        "if \"/gym-duckietown\" not in os.getcwd():\n",
        "  os.chdir('gym-duckietown')\n",
        "!apt install xvfb -y\n",
        "!pip3 install pyvirtualdisplay\n",
        "from pyvirtualdisplay import Display\n",
        "import numpy as np\n",
        "import matplotlib.pyplot as plt\n",
        "from IPython import display as ipythondisplay\n",
        "%matplotlib inline"
      ],
      "execution_count": null,
      "outputs": [
        {
          "output_type": "stream",
          "name": "stdout",
          "text": [
            "Reading package lists... Done\n",
            "Building dependency tree       \n",
            "Reading state information... Done\n",
            "xvfb is already the newest version (2:1.19.6-1ubuntu4.10).\n",
            "The following package was automatically installed and is no longer required:\n",
            "  libnvidia-common-470\n",
            "Use 'apt autoremove' to remove it.\n",
            "0 upgraded, 0 newly installed, 0 to remove and 67 not upgraded.\n",
            "Requirement already satisfied: pyvirtualdisplay in /usr/local/lib/python3.7/dist-packages (3.0)\n"
          ]
        }
      ]
    },
    {
      "cell_type": "markdown",
      "metadata": {
        "id": "cWHDICC-_Mjo"
      },
      "source": [
        "Install stable baseline"
      ]
    },
    {
      "cell_type": "code",
      "metadata": {
        "id": "Ii2w84aUBL6x",
        "colab": {
          "base_uri": "https://localhost:8080/"
        },
        "outputId": "6f15a510-78a7-403d-a36e-af2c377d07ca"
      },
      "source": [
        "# Stable baseline requires tensorflow 1.x\n",
        "%tensorflow_version 1.x"
      ],
      "execution_count": null,
      "outputs": [
        {
          "output_type": "stream",
          "name": "stdout",
          "text": [
            "TensorFlow 1.x selected.\n"
          ]
        }
      ]
    },
    {
      "cell_type": "code",
      "metadata": {
        "id": "KSVnMupWErAZ"
      },
      "source": [
        "# Load the TensorBoard notebook extension\n",
        "%load_ext tensorboard"
      ],
      "execution_count": null,
      "outputs": []
    },
    {
      "cell_type": "code",
      "metadata": {
        "id": "-vze9xU8-PZK",
        "colab": {
          "base_uri": "https://localhost:8080/"
        },
        "outputId": "28b5ed59-c8a4-47bc-8321-db646b8c5b7f"
      },
      "source": [
        "!apt update && apt install cmake libopenmpi-dev python3-dev zlib1g-dev\n",
        "!pip3 install stable-baselines[mpi]\n",
        "#This version with mpi is apparently broken, see:\n",
        "#https://github.com/hill-a/stable-baselines/issues/464\n",
        "!pip3 install stable-baselines --upgrade"
      ],
      "execution_count": null,
      "outputs": [
        {
          "output_type": "stream",
          "name": "stdout",
          "text": [
            "Hit:1 https://cloud.r-project.org/bin/linux/ubuntu bionic-cran40/ InRelease\n",
            "Ign:2 https://developer.download.nvidia.com/compute/cuda/repos/ubuntu1804/x86_64  InRelease\n",
            "Ign:3 https://developer.download.nvidia.com/compute/machine-learning/repos/ubuntu1804/x86_64  InRelease\n",
            "Hit:4 https://developer.download.nvidia.com/compute/cuda/repos/ubuntu1804/x86_64  Release\n",
            "Hit:5 http://archive.ubuntu.com/ubuntu bionic InRelease\n",
            "Hit:6 https://developer.download.nvidia.com/compute/machine-learning/repos/ubuntu1804/x86_64  Release\n",
            "Hit:7 http://ppa.launchpad.net/c2d4u.team/c2d4u4.0+/ubuntu bionic InRelease\n",
            "Hit:8 http://security.ubuntu.com/ubuntu bionic-security InRelease\n",
            "Hit:9 http://archive.ubuntu.com/ubuntu bionic-updates InRelease\n",
            "Hit:10 http://archive.ubuntu.com/ubuntu bionic-backports InRelease\n",
            "Hit:11 http://ppa.launchpad.net/cran/libgit2/ubuntu bionic InRelease\n",
            "Hit:13 http://ppa.launchpad.net/deadsnakes/ppa/ubuntu bionic InRelease\n",
            "Hit:14 http://ppa.launchpad.net/graphics-drivers/ppa/ubuntu bionic InRelease\n",
            "Reading package lists... Done\n",
            "Building dependency tree       \n",
            "Reading state information... Done\n",
            "67 packages can be upgraded. Run 'apt list --upgradable' to see them.\n",
            "Reading package lists... Done\n",
            "Building dependency tree       \n",
            "Reading state information... Done\n",
            "zlib1g-dev is already the newest version (1:1.2.11.dfsg-0ubuntu2).\n",
            "libopenmpi-dev is already the newest version (2.1.1-8).\n",
            "cmake is already the newest version (3.10.2-1ubuntu2.18.04.2).\n",
            "python3-dev is already the newest version (3.6.7-1~18.04).\n",
            "The following package was automatically installed and is no longer required:\n",
            "  libnvidia-common-470\n",
            "Use 'apt autoremove' to remove it.\n",
            "0 upgraded, 0 newly installed, 0 to remove and 67 not upgraded.\n",
            "Requirement already satisfied: stable-baselines[mpi] in /usr/local/lib/python3.7/dist-packages (2.10.2)\n",
            "Requirement already satisfied: pandas in /usr/local/lib/python3.7/dist-packages (from stable-baselines[mpi]) (1.3.5)\n",
            "Requirement already satisfied: scipy in /usr/local/lib/python3.7/dist-packages (from stable-baselines[mpi]) (1.4.1)\n",
            "Requirement already satisfied: joblib in /usr/local/lib/python3.7/dist-packages (from stable-baselines[mpi]) (1.1.0)\n",
            "Requirement already satisfied: opencv-python in /usr/local/lib/python3.7/dist-packages (from stable-baselines[mpi]) (4.1.2.30)\n",
            "Requirement already satisfied: matplotlib in /usr/local/lib/python3.7/dist-packages (from stable-baselines[mpi]) (3.2.2)\n",
            "Requirement already satisfied: cloudpickle>=0.5.5 in /usr/local/lib/python3.7/dist-packages (from stable-baselines[mpi]) (1.3.0)\n",
            "Requirement already satisfied: gym[atari,classic_control]>=0.11 in /usr/local/lib/python3.7/dist-packages (from stable-baselines[mpi]) (0.17.3)\n",
            "Requirement already satisfied: numpy in /usr/local/lib/python3.7/dist-packages (from stable-baselines[mpi]) (1.21.5)\n",
            "Requirement already satisfied: mpi4py in /tensorflow-1.15.2/python3.7 (from stable-baselines[mpi]) (3.0.3)\n",
            "Requirement already satisfied: pyglet<=1.5.0,>=1.4.0 in /usr/local/lib/python3.7/dist-packages (from gym[atari,classic_control]>=0.11->stable-baselines[mpi]) (1.5.0)\n",
            "Requirement already satisfied: atari-py~=0.2.0 in /usr/local/lib/python3.7/dist-packages (from gym[atari,classic_control]>=0.11->stable-baselines[mpi]) (0.2.9)\n",
            "Requirement already satisfied: Pillow in /usr/local/lib/python3.7/dist-packages (from gym[atari,classic_control]>=0.11->stable-baselines[mpi]) (7.1.2)\n",
            "Requirement already satisfied: six in /usr/local/lib/python3.7/dist-packages (from atari-py~=0.2.0->gym[atari,classic_control]>=0.11->stable-baselines[mpi]) (1.15.0)\n",
            "Requirement already satisfied: future in /usr/local/lib/python3.7/dist-packages (from pyglet<=1.5.0,>=1.4.0->gym[atari,classic_control]>=0.11->stable-baselines[mpi]) (0.16.0)\n",
            "Requirement already satisfied: python-dateutil>=2.1 in /usr/local/lib/python3.7/dist-packages (from matplotlib->stable-baselines[mpi]) (2.8.2)\n",
            "Requirement already satisfied: kiwisolver>=1.0.1 in /usr/local/lib/python3.7/dist-packages (from matplotlib->stable-baselines[mpi]) (1.3.2)\n",
            "Requirement already satisfied: pyparsing!=2.0.4,!=2.1.2,!=2.1.6,>=2.0.1 in /usr/local/lib/python3.7/dist-packages (from matplotlib->stable-baselines[mpi]) (3.0.7)\n",
            "Requirement already satisfied: cycler>=0.10 in /usr/local/lib/python3.7/dist-packages (from matplotlib->stable-baselines[mpi]) (0.11.0)\n",
            "Requirement already satisfied: pytz>=2017.3 in /usr/local/lib/python3.7/dist-packages (from pandas->stable-baselines[mpi]) (2018.9)\n",
            "Requirement already satisfied: stable-baselines in /usr/local/lib/python3.7/dist-packages (2.10.2)\n",
            "Requirement already satisfied: gym[atari,classic_control]>=0.11 in /usr/local/lib/python3.7/dist-packages (from stable-baselines) (0.17.3)\n",
            "Requirement already satisfied: cloudpickle>=0.5.5 in /usr/local/lib/python3.7/dist-packages (from stable-baselines) (1.3.0)\n",
            "Requirement already satisfied: pandas in /usr/local/lib/python3.7/dist-packages (from stable-baselines) (1.3.5)\n",
            "Requirement already satisfied: opencv-python in /usr/local/lib/python3.7/dist-packages (from stable-baselines) (4.1.2.30)\n",
            "Requirement already satisfied: scipy in /usr/local/lib/python3.7/dist-packages (from stable-baselines) (1.4.1)\n",
            "Requirement already satisfied: joblib in /usr/local/lib/python3.7/dist-packages (from stable-baselines) (1.1.0)\n",
            "Requirement already satisfied: numpy in /usr/local/lib/python3.7/dist-packages (from stable-baselines) (1.21.5)\n",
            "Requirement already satisfied: matplotlib in /usr/local/lib/python3.7/dist-packages (from stable-baselines) (3.2.2)\n",
            "Requirement already satisfied: pyglet<=1.5.0,>=1.4.0 in /usr/local/lib/python3.7/dist-packages (from gym[atari,classic_control]>=0.11->stable-baselines) (1.5.0)\n",
            "Requirement already satisfied: atari-py~=0.2.0 in /usr/local/lib/python3.7/dist-packages (from gym[atari,classic_control]>=0.11->stable-baselines) (0.2.9)\n",
            "Requirement already satisfied: Pillow in /usr/local/lib/python3.7/dist-packages (from gym[atari,classic_control]>=0.11->stable-baselines) (7.1.2)\n",
            "Requirement already satisfied: six in /usr/local/lib/python3.7/dist-packages (from atari-py~=0.2.0->gym[atari,classic_control]>=0.11->stable-baselines) (1.15.0)\n",
            "Requirement already satisfied: future in /usr/local/lib/python3.7/dist-packages (from pyglet<=1.5.0,>=1.4.0->gym[atari,classic_control]>=0.11->stable-baselines) (0.16.0)\n",
            "Requirement already satisfied: pyparsing!=2.0.4,!=2.1.2,!=2.1.6,>=2.0.1 in /usr/local/lib/python3.7/dist-packages (from matplotlib->stable-baselines) (3.0.7)\n",
            "Requirement already satisfied: kiwisolver>=1.0.1 in /usr/local/lib/python3.7/dist-packages (from matplotlib->stable-baselines) (1.3.2)\n",
            "Requirement already satisfied: cycler>=0.10 in /usr/local/lib/python3.7/dist-packages (from matplotlib->stable-baselines) (0.11.0)\n",
            "Requirement already satisfied: python-dateutil>=2.1 in /usr/local/lib/python3.7/dist-packages (from matplotlib->stable-baselines) (2.8.2)\n",
            "Requirement already satisfied: pytz>=2017.3 in /usr/local/lib/python3.7/dist-packages (from pandas->stable-baselines) (2018.9)\n"
          ]
        }
      ]
    },
    {
      "cell_type": "code",
      "metadata": {
        "id": "Ckktk_4CreKz"
      },
      "source": [
        "map_name = \"Duckietown-small_loop-v0\" #@param ['Duckietown-straight_road-v0','Duckietown-4way-v0','Duckietown-udem1-v0','Duckietown-small_loop-v0','Duckietown-small_loop_cw-v0','Duckietown-zigzag_dists-v0','Duckietown-loop_obstacles-v0','Duckietown-loop_pedestrians-v0']"
      ],
      "execution_count": null,
      "outputs": []
    },
    {
      "cell_type": "markdown",
      "metadata": {
        "id": "TOWXCpQqPelZ"
      },
      "source": [
        "Wrapper to highlight lines"
      ]
    },
    {
      "cell_type": "code",
      "metadata": {
        "id": "ogq5yEuS2aer"
      },
      "source": [
        "import cv2\n",
        "import gym\n",
        "from gym.spaces import Box\n",
        "\n",
        "cutted_img_height = 350 #@param {type: \"slider\", min: 0, max: 480, step:1}\n",
        "resize_ratio = 0.35 #@param {type: \"slider\", min: 0.0, max: 1.0, step:0.01}\n",
        "\n",
        "img_height = 480\n",
        "top_crop = img_height - cutted_img_height\n",
        "\n",
        "img_final_height = int(cutted_img_height * resize_ratio)\n",
        "img_final_width = int(640 * resize_ratio)\n",
        "\n",
        "def cropimg(img):\n",
        "    \"\"\"\n",
        "    Crop top of image top_crop px, they are noise most of the time\n",
        "\n",
        "    :param img: (RGB image as np array) Image to be cropped\n",
        "    \"\"\"\n",
        "    return img[top_crop:,:]\n",
        "\n",
        "def houghtransform(img):\n",
        "    \"\"\"\n",
        "    Apply Hough Line transform, for theory see:\n",
        "    https://opencv-python-tutroals.readthedocs.io/en/latest/py_tutorials/py_imgproc/py_houghlines/py_houghlines.html\n",
        "\n",
        "    :param img: (RGB image as np array)\n",
        "    \"\"\"\n",
        "    frame_BGR = cv2.cvtColor(img, cv2.COLOR_RGB2BGR)\n",
        "    #gray = cv2.cvtColor(img,cv2.COLOR_RGB2GRAY, 3)\n",
        "    edges = cv2.Canny(frame_BGR,50,150,apertureSize = 3)\n",
        "    #minLineLength = 100\n",
        "    #maxLineGap = 10\n",
        "    #lines = cv2.HoughLinesP(edges,1,np.pi/180,100,minLineLength,maxLineGap)\n",
        "    #for x1,y1,x2,y2 in lines[0]:\n",
        "    #    cv2.line(img,(x1,y1),(x2,y2),(0,255,0),2)\n",
        "    imgRGB = cv2.cvtColor(edges, cv2.COLOR_BGR2RGB)\n",
        "    return imgRGB\n",
        "\n",
        "def resizeimg(img, ratio):\n",
        "    \"\"\"\n",
        "    Resize image\n",
        "    :param img: (np array)\n",
        "    :param ratio: (float) 0<ratio<1\n",
        "    \"\"\"\n",
        "    return cv2.resize(img, (0,0), fx=ratio, fy=ratio) \n",
        "  \n",
        "def takeyellow(img):\n",
        "    \"\"\"\n",
        "    Extract yellow lines, for color ranges see:\n",
        "    https://stackoverflow.com/questions/48109650/how-to-detect-two-different-colors-using-cv2-inrange-in-python-opencv\n",
        "\n",
        "    :param img: (RGB image as np array)\n",
        "    \"\"\"\n",
        "    frame_HSV = cv2.cvtColor(img, cv2.COLOR_RGB2HSV)\n",
        "    frame_threshold = cv2.inRange(frame_HSV, (20,100,100), (50, 255, 255))\n",
        "    imgRGB = cv2.cvtColor(frame_threshold, cv2.COLOR_GRAY2RGB)\n",
        "    return imgRGB\n",
        "\n",
        "def takewhiteyellow(img):\n",
        "    \"\"\"\n",
        "    Extract white and yellow lines\n",
        "\n",
        "    :param img: (RGB image as np array)\n",
        "    \"\"\"\n",
        "    #white\n",
        "    sensitivity = 100\n",
        "    lower_white = np.array([0,0,255-sensitivity])\n",
        "    upper_white = np.array([255,sensitivity,255])\n",
        "    frame_HSV = cv2.cvtColor(img, cv2.COLOR_RGB2HSV)\n",
        "    maskwhite = cv2.inRange(frame_HSV, lower_white, upper_white)\n",
        "    img[maskwhite > 0] = (255, 0, 0)\n",
        "    img[maskwhite == 0] = (0,0,0)\n",
        "    #yellow\n",
        "    maskyellow = cv2.inRange(frame_HSV, (15,70,70), (50, 255, 255))\n",
        "    img[maskyellow > 0] = (0, 255, 0)\n",
        "    return img\n",
        "\n",
        "def white_balance(img):\n",
        "    \"\"\"\n",
        "    Grayworld assumption:\n",
        "    https://stackoverflow.com/questions/46390779/automatic-white-balancing-with-grayworld-assumption/46391574\n",
        "\n",
        "    :param img: (RGB image as np array)\n",
        "    \"\"\"\n",
        "    result = cv2.cvtColor(img, cv2.COLOR_RGB2LAB)\n",
        "    avg_a = np.average(result[:, :, 1])\n",
        "    avg_b = np.average(result[:, :, 2])\n",
        "    result[:, :, 1] = result[:, :, 1] - ((avg_a - 128) * (result[:, :, 0] / 255.0) * 1.1)\n",
        "    result[:, :, 2] = result[:, :, 2] - ((avg_b - 128) * (result[:, :, 0] / 255.0) * 1.1)\n",
        "    result = cv2.cvtColor(result, cv2.COLOR_LAB2RGB)\n",
        "    return result\n",
        "\n",
        "class ObsWrapper(gym.ObservationWrapper):\n",
        "    def __init__(self, env):\n",
        "        super(ObsWrapper, self).__init__(env)\n",
        "        self.observation_space = Box(0, 255, (img_final_height, img_final_width, 3), dtype=self.observation_space.dtype)\n",
        "        self.accept_start_angle_deg = 4\n",
        "        self.env = env\n",
        "\n",
        "    def observation(self, obs):\n",
        "        cropped = cropimg(obs)\n",
        "        resized = resizeimg(cropped, resize_ratio)\n",
        "        balanced = white_balance(resized)\n",
        "        img = takewhiteyellow(balanced)\n",
        "        return img"
      ],
      "execution_count": null,
      "outputs": []
    },
    {
      "cell_type": "code",
      "metadata": {
        "id": "zDmisuT60rpI"
      },
      "source": [
        "class NormalizeWrapper(gym.ObservationWrapper):\n",
        "    def __init__(self, env):\n",
        "        super(NormalizeWrapper, self).__init__(env)\n",
        "        self.observation_space = Box(0, 1, self.observation_space.shape, dtype=self.observation_space.dtype)\n",
        "        self.env = env\n",
        "\n",
        "    def observation(self, obs):\n",
        "        obs = obs/255\n",
        "        return obs"
      ],
      "execution_count": null,
      "outputs": []
    },
    {
      "cell_type": "markdown",
      "metadata": {
        "id": "mVzrES9nRTAH"
      },
      "source": [
        "Wrapper result example:"
      ]
    },
    {
      "cell_type": "code",
      "metadata": {
        "id": "Tq12N95MPdap",
        "colab": {
          "base_uri": "https://localhost:8080/",
          "height": 861
        },
        "outputId": "e5f27db2-c424-496a-dce6-e17f249f5dba"
      },
      "source": [
        "import gym_duckietown\n",
        "\n",
        "display = Display(visible=0, size=(1400, 900))\n",
        "display.start()\n",
        "env = gym.make(map_name)\n",
        "env = ObsWrapper(env)\n",
        "plt.imshow(env.reset())"
      ],
      "execution_count": null,
      "outputs": [
        {
          "output_type": "stream",
          "name": "stderr",
          "text": [
            "DEBUG:commons:version: 6.2.4 *\n",
            "DEBUG:typing:version: 6.2.3\n",
            "DEBUG:duckietown_world:duckietown-world version 6.2.38 path /usr/local/lib/python3.7/dist-packages\n",
            "DEBUG:geometry:PyGeometry-z6 version 2.1.4 path /usr/local/lib/python3.7/dist-packages\n",
            "DEBUG:aido_schemas:aido-protocols version 6.0.59 path /usr/local/lib/python3.7/dist-packages\n",
            "DEBUG:nodes:version 6.2.13 path /usr/local/lib/python3.7/dist-packages pyparsing 3.0.7\n",
            "DEBUG:gym-duckietown:gym-duckietown version 6.1.31 path /content/gym-duckietown/src\n",
            "\n"
          ]
        },
        {
          "output_type": "stream",
          "name": "stdout",
          "text": [
            "{'audio': ('directsound', 'openal', 'pulse', 'silent'), 'debug_font': False, 'debug_gl': True, 'debug_gl_trace': False, 'debug_gl_trace_args': False, 'debug_graphics_batch': False, 'debug_lib': False, 'debug_media': False, 'debug_texture': False, 'debug_trace': False, 'debug_trace_args': False, 'debug_trace_depth': 1, 'debug_trace_flush': True, 'debug_win32': False, 'debug_x11': False, 'graphics_vbo': True, 'shadow_window': True, 'vsync': None, 'xsync': True, 'xlib_fullscreen_override_redirect': False, 'darwin_cocoa': True, 'search_local_libs': True}\n"
          ]
        },
        {
          "output_type": "stream",
          "name": "stderr",
          "text": [
            "INFO:gym-duckietown:Information about the graphics card:\n",
            " pyglet_version: 1.5.0\n",
            "    information: dict[4]\n",
            "                 │ \u001b[33mvendor\u001b[0m: VMware, Inc.\n",
            "                 │ \u001b[33mrenderer\u001b[0m: llvmpipe (LLVM 10.0.0, 256 bits)\n",
            "                 │ \u001b[33mversion\u001b[0m: 3.1 Mesa 20.0.8\n",
            "                 │ \u001b[33mshading-language-version\u001b[0m: 1.40\n",
            "  nvidia_around: False\n",
            "DEBUG:gym-duckietown:Falling back to non-multisampled frame buffer\n",
            "DEBUG:gym-duckietown:Falling back to non-multisampled frame buffer\n",
            "INFO:duckietown_world: data: /usr/local/lib/python3.7/dist-packages/duckietown_world/data\n",
            "DEBUG:gym-duckietown:loading map file \"/usr/local/lib/python3.7/dist-packages/duckietown_world/data/gd1/maps/small_loop.yaml\"\n",
            "INFO:gym-duckietown:done\n",
            "DEBUG:gym-duckietown:loading mesh 'duckiebot' from file_path '/usr/local/lib/python3.7/dist-packages/duckietown_world/data/gd1/meshes/duckiebot/duckiebot.obj'\n",
            "DEBUG:gym-duckietown:loading materials from /usr/local/lib/python3.7/dist-packages/duckietown_world/data/gd1/meshes/duckiebot/duckiebot.mtl\n",
            "DEBUG:gym-duckietown:loading texture: /usr/local/lib/python3.7/dist-packages/duckietown_world/data/gd1/meshes/duckiebot/circlegrid-square.jpg\n",
            "DEBUG:gym-duckietown:loading texture: /usr/local/lib/python3.7/dist-packages/duckietown_world/data/gd1/meshes/duckiebot/duckie.png\n",
            "DEBUG:gym-duckietown:loading texture: /usr/local/lib/python3.7/dist-packages/duckietown_world/data/gd1/textures/tiles-processed/photos/curve_left/texture.jpg\n",
            "DEBUG:gym-duckietown:loading texture: /usr/local/lib/python3.7/dist-packages/duckietown_world/data/gd1/textures/tiles-processed/photos/straight/texture.jpg\n",
            "DEBUG:gym-duckietown:loading texture: /usr/local/lib/python3.7/dist-packages/duckietown_world/data/gd1/textures/tiles-processed/photos/asphalt/texture.jpg\n",
            "INFO:gym-duckietown:Starting at [0.39455676 0.         1.52018442] 2.5237179213635286\n",
            "INFO:gym-duckietown:using DuckietownEnv\n",
            "/usr/local/lib/python3.7/dist-packages/gym/logger.py:30: UserWarning: \u001b[33mWARN: Box bound precision lowered by casting to float32\u001b[0m\n",
            "  warnings.warn(colorize('%s: %s'%('WARN', msg % args), 'yellow'))\n",
            "INFO:gym-duckietown:Starting at [1.62013744 0.         0.4870915 ] 1.572175809257871\n"
          ]
        },
        {
          "output_type": "execute_result",
          "data": {
            "text/plain": [
              "<matplotlib.image.AxesImage at 0x7fef869f43d0>"
            ]
          },
          "metadata": {},
          "execution_count": 8
        },
        {
          "output_type": "display_data",
          "data": {
            "image/png": "[encoded data removed]",
            "text/plain": [
              "<Figure size 432x288 with 1 Axes>"
            ]
          },
          "metadata": {
            "needs_background": "light"
          }
        }
      ]
    },
    {
      "cell_type": "code",
      "source": [
        "n = 10000\n",
        "x_train = []\n",
        "for i in range (n):\n",
        "  x_train.append(env.reset())"
      ],
      "metadata": {
        "colab": {
          "base_uri": "https://localhost:8080/"
        },
        "id": "j0QymGmaCrM2",
        "outputId": "08411e78-e506-44e5-ce43-416c995e4bb2"
      },
      "execution_count": null,
      "outputs": [
        {
          "output_type": "stream",
          "name": "stderr",
          "text": [
            "INFO:gym-duckietown:Starting at [1.42025422 0.         0.44069523] 4.720976604722487\n",
            "INFO:gym-duckietown:Starting at [0.10869467 0.         1.54832614] 2.1248408765298796\n",
            "DEBUG:gym-duckietown:No tile found at [1.79664663 0.         0.84907835] (3, 1)\n",
            "DEBUG:gym-duckietown:Invalid pose. Collision free: True On drivable area: False\n",
            "DEBUG:gym-duckietown:safety_factor: 1.3\n",
            "DEBUG:gym-duckietown:pos: [1.70769366 0.         0.88899851]\n",
            "DEBUG:gym-duckietown:l_pos: [1.79664663 0.         0.84907835]\n",
            "DEBUG:gym-duckietown:r_pos: [1.61874069 0.         0.92891867]\n",
            "DEBUG:gym-duckietown:f_pos: [1.75559785 0.         0.99574207]\n",
            "INFO:gym-duckietown:Starting at [1.58522443 0.         1.0983637 ] 4.1439305306994\n",
            "DEBUG:gym-duckietown:[0.72411411 0.         0.60120614] corresponds to tile at (1, 1) which is not drivable: {'coords': (1, 1), 'kind': 'asphalt', 'angle': 1, 'drivable': False, 'texture': <gym_duckietown.graphics.Texture object at 0x7fef884c5550>, 'color': array([0.96750463, 1.12805994, 1.19442275, 1.        ])}\n",
            "DEBUG:gym-duckietown:Invalid pose. Collision free: True On drivable area: False\n",
            "DEBUG:gym-duckietown:safety_factor: 1.3\n",
            "DEBUG:gym-duckietown:pos: [0.77127695 0.         0.51587199]\n",
            "DEBUG:gym-duckietown:l_pos: [0.72411411 0.         0.60120614]\n",
            "DEBUG:gym-duckietown:r_pos: [0.81843979 0.         0.43053785]\n",
            "DEBUG:gym-duckietown:f_pos: [0.66887597 0.         0.45927658]\n",
            "INFO:gym-duckietown:Starting at [0.88222918 0.         0.20866615] 3.6055213577392156\n",
            "INFO:gym-duckietown:Starting at [0.83250892 0.         1.28591638] 0.878242919475828\n",
            "INFO:gym-duckietown:Starting at [1.05688206 0.         0.16290215] 3.0925530254979154\n",
            "INFO:gym-duckietown:Starting at [0.3092144  0.         1.14655759] 5.17665402989044\n",
            "INFO:gym-duckietown:Starting at [1.43855158 0.         1.4198178 ] 4.494501877442992\n",
            "INFO:gym-duckietown:Starting at [0.23541516 0.         0.94492103] 1.784030850008836\n",
            "INFO:gym-duckietown:Starting at [0.75787002 0.         1.37734887] 2.4721163029626276\n",
            "INFO:gym-duckietown:Starting at [1.41790045 0.         1.43929498] 3.5755566089717297\n",
            "DEBUG:gym-duckietown:No tile found at [1.78192234 0.         1.07648597] (3, 1)\n",
            "DEBUG:gym-duckietown:Invalid pose. Collision free: True On drivable area: False\n",
            "DEBUG:gym-duckietown:safety_factor: 1.3\n",
            "DEBUG:gym-duckietown:pos: [1.67332086 0.         1.0329576 ]\n",
            "DEBUG:gym-duckietown:l_pos: [1.7095945  0.         0.94245637]\n",
            "DEBUG:gym-duckietown:r_pos: [1.63704722 0.         1.12345884]\n",
            "DEBUG:gym-duckietown:f_pos: [1.78192234 0.         1.07648597]\n",
            "DEBUG:gym-duckietown:[1.11444152 0.         0.64354313] corresponds to tile at (1, 1) which is not drivable: {'coords': (1, 1), 'kind': 'asphalt', 'angle': 1, 'drivable': False, 'texture': <gym_duckietown.graphics.Texture object at 0x7fef867180d0>, 'color': array([1.18669923, 1.12619769, 0.90230624, 1.        ])}\n",
            "DEBUG:gym-duckietown:Invalid pose. Collision free: True On drivable area: False\n",
            "DEBUG:gym-duckietown:safety_factor: 1.3\n",
            "DEBUG:gym-duckietown:pos: [1.21154838 0.         0.65228996]\n",
            "DEBUG:gym-duckietown:l_pos: [1.30865524 0.         0.66103679]\n",
            "DEBUG:gym-duckietown:r_pos: [1.11444152 0.         0.64354313]\n",
            "DEBUG:gym-duckietown:f_pos: [1.20105218 0.         0.76881819]\n",
            "INFO:gym-duckietown:Starting at [1.42710339 0.         1.01570778] 4.531032234381199\n",
            "DEBUG:gym-duckietown:No tile found at [ 1.50386314  0.         -0.00345769] (2, -1)\n",
            "DEBUG:gym-duckietown:Invalid pose. Collision free: True On drivable area: False\n",
            "DEBUG:gym-duckietown:safety_factor: 1.3\n",
            "DEBUG:gym-duckietown:pos: [ 1.50386314  0.         -0.00345769]\n",
            "DEBUG:gym-duckietown:l_pos: [1.59813323 0.         0.02143004]\n",
            "DEBUG:gym-duckietown:r_pos: [ 1.40959305  0.         -0.02834543]\n",
            "DEBUG:gym-duckietown:f_pos: [1.47399786 0.         0.10966642]\n",
            "INFO:gym-duckietown:Starting at [1.5066698  0.         0.22398203] 2.7159097468620557\n",
            "INFO:gym-duckietown:Starting at [0.56302897 0.         0.43917275] 0.6707277263094669\n",
            "INFO:gym-duckietown:Starting at [0.16224864 0.         1.04684493] 2.57851120793952\n",
            "INFO:gym-duckietown:Starting at [1.61317905 0.         1.31773329] 4.63900997463182\n",
            "INFO:gym-duckietown:Starting at [0.12309265 0.         0.46951459] 1.1614166359997524\n",
            "INFO:gym-duckietown:Starting at [1.17612056 0.         0.24125432] 5.365693907437218\n",
            "INFO:gym-duckietown:Starting at [0.52055232 0.         0.08939769] 3.971485648752842\n",
            "INFO:gym-duckietown:Starting at [0.47860261 0.         0.38250205] 0.5393081713026249\n",
            "INFO:gym-duckietown:Starting at [1.46011598 0.         1.58992961] 3.741803635819683\n",
            "DEBUG:gym-duckietown:No tile found at [1.76030373 0.         0.31158576] (3, 0)\n",
            "DEBUG:gym-duckietown:Invalid pose. Collision free: True On drivable area: False\n",
            "DEBUG:gym-duckietown:safety_factor: 1.3\n",
            "DEBUG:gym-duckietown:pos: [1.68276452 0.         0.25247636]\n",
            "DEBUG:gym-duckietown:l_pos: [1.76030373 0.         0.31158576]\n",
            "DEBUG:gym-duckietown:r_pos: [1.60522532 0.         0.19336696]\n",
            "DEBUG:gym-duckietown:f_pos: [1.61183324 0.         0.34552341]\n",
            "INFO:gym-duckietown:Starting at [1.44914846 0.         0.45118064] 2.0846595479419476\n",
            "INFO:gym-duckietown:Starting at [0.24755189 0.         1.20375166] 4.377436973187446\n",
            "INFO:gym-duckietown:Starting at [0.38009975 0.         0.33975669] 4.615629758111421\n",
            "INFO:gym-duckietown:Starting at [0.19498027 0.         1.42952973] 2.1050333399205834\n",
            "INFO:gym-duckietown:Starting at [0.97430649 0.         1.2710637 ] 5.237400231976669\n",
            "INFO:gym-duckietown:Starting at [0.94913325 0.         1.39128109] 2.4520177274714037\n",
            "INFO:gym-duckietown:Starting at [0.20480043 0.         0.23049579] 3.933221970558827\n",
            "INFO:gym-duckietown:Starting at [1.36548668 0.         0.33677191] 0.035930735640095815\n",
            "INFO:gym-duckietown:Starting at [1.33162968 0.         0.76592938] 4.852998930896497\n",
            "DEBUG:gym-duckietown:No tile found at [1.78025657 0.         0.63978633] (3, 1)\n",
            "DEBUG:gym-duckietown:Invalid pose. Collision free: True On drivable area: False\n",
            "DEBUG:gym-duckietown:safety_factor: 1.3\n",
            "DEBUG:gym-duckietown:pos: [1.73134665 0.         0.72413128]\n",
            "DEBUG:gym-duckietown:l_pos: [1.68243674 0.         0.80847623]\n",
            "DEBUG:gym-duckietown:r_pos: [1.78025657 0.         0.63978633]\n",
            "DEBUG:gym-duckietown:f_pos: [1.63013272 0.         0.66543938]\n",
            "DEBUG:gym-duckietown:No tile found at [1.77561713 0.         0.61840659] (3, 1)\n",
            "DEBUG:gym-duckietown:Invalid pose. Collision free: True On drivable area: False\n",
            "DEBUG:gym-duckietown:safety_factor: 1.3\n",
            "DEBUG:gym-duckietown:pos: [1.6886767  0.         0.66253833]\n",
            "DEBUG:gym-duckietown:l_pos: [1.77561713 0.         0.61840659]\n",
            "DEBUG:gym-duckietown:r_pos: [1.60173626 0.         0.70667007]\n",
            "DEBUG:gym-duckietown:f_pos: [1.74163478 0.         0.76686685]\n",
            "INFO:gym-duckietown:Starting at [1.60741237 0.         0.86747219] 1.6789137653255186\n",
            "INFO:gym-duckietown:Starting at [0.55066325 0.         1.58822828] 0.7845895220980158\n",
            "DEBUG:gym-duckietown:No tile found at [ 1.40292266  0.         -0.0628526 ] (2, -1)\n",
            "DEBUG:gym-duckietown:Invalid pose. Collision free: True On drivable area: False\n",
            "DEBUG:gym-duckietown:safety_factor: 1.3\n",
            "DEBUG:gym-duckietown:pos: [1.41358211 0.         0.03406296]\n",
            "DEBUG:gym-duckietown:l_pos: [1.42424157 0.         0.13097852]\n",
            "DEBUG:gym-duckietown:r_pos: [ 1.40292266  0.         -0.0628526 ]\n",
            "DEBUG:gym-duckietown:f_pos: [1.29728344 0.         0.04685431]\n",
            "INFO:gym-duckietown:Starting at [1.57472064 0.         0.32563862] 1.5073586383314264\n",
            "INFO:gym-duckietown:Starting at [0.81009845 0.         1.46969748] 2.943329345926884\n",
            "DEBUG:gym-duckietown:[0.75759413 0.         0.61160996] corresponds to tile at (1, 1) which is not drivable: {'coords': (1, 1), 'kind': 'asphalt', 'angle': 1, 'drivable': False, 'texture': <gym_duckietown.graphics.Texture object at 0x7fef8667df90>, 'color': array([0.96970562, 1.15591012, 0.87234383, 1.        ])}\n",
            "DEBUG:gym-duckietown:Invalid pose. Collision free: True On drivable area: False\n",
            "DEBUG:gym-duckietown:safety_factor: 1.3\n",
            "DEBUG:gym-duckietown:pos: [0.73952417 0.         0.51579907]\n",
            "DEBUG:gym-duckietown:l_pos: [0.75759413 0.         0.61160996]\n",
            "DEBUG:gym-duckietown:r_pos: [0.72145422 0.         0.41998818]\n",
            "DEBUG:gym-duckietown:f_pos: [0.6245511  0.         0.53748302]\n",
            "DEBUG:gym-duckietown:[1.03620614 0.         0.61153996] corresponds to tile at (1, 1) which is not drivable: {'coords': (1, 1), 'kind': 'asphalt', 'angle': 1, 'drivable': False, 'texture': <gym_duckietown.graphics.Texture object at 0x7fef8667df90>, 'color': array([0.96970562, 1.15591012, 0.87234383, 1.        ])}\n",
            "DEBUG:gym-duckietown:Invalid pose. Collision free: True On drivable area: False\n",
            "DEBUG:gym-duckietown:safety_factor: 1.3\n",
            "DEBUG:gym-duckietown:pos: [1.0243077 0.        0.5147687]\n",
            "DEBUG:gym-duckietown:l_pos: [1.01240925 0.         0.41799743]\n",
            "DEBUG:gym-duckietown:r_pos: [1.03620614 0.         0.61153996]\n",
            "DEBUG:gym-duckietown:f_pos: [1.14043321 0.         0.50049056]\n",
            "INFO:gym-duckietown:Starting at [0.66414351 0.         0.1050516 ] 0.23302765865586575\n",
            "INFO:gym-duckietown:Starting at [0.38227703 0.         0.33090237] 3.972379576312659\n",
            "INFO:gym-duckietown:Starting at [0.98664383 0.         0.30038444] 2.824661428868707\n",
            "INFO:gym-duckietown:Starting at [1.45662331 0.         0.14416261] 1.9230316369433955\n",
            "DEBUG:gym-duckietown:No tile found at [0.20605564 0.         1.78107095] (0, 3)\n",
            "DEBUG:gym-duckietown:Invalid pose. Collision free: True On drivable area: False\n",
            "DEBUG:gym-duckietown:safety_factor: 1.3\n",
            "DEBUG:gym-duckietown:pos: [0.28501366 0.         1.72387059]\n",
            "DEBUG:gym-duckietown:l_pos: [0.36397168 0.         1.66667023]\n",
            "DEBUG:gym-duckietown:r_pos: [0.20605564 0.         1.78107095]\n",
            "DEBUG:gym-duckietown:f_pos: [0.35365409 0.         1.81862021]\n",
            "INFO:gym-duckietown:Starting at [0.10118161 0.         1.37737202] 5.703980536639036\n",
            "DEBUG:gym-duckietown:[0.7082345 0.        0.602265 ] corresponds to tile at (1, 1) which is not drivable: {'coords': (1, 1), 'kind': 'asphalt', 'angle': 1, 'drivable': False, 'texture': <gym_duckietown.graphics.Texture object at 0x7fef884bbad0>, 'color': array([1.11631623, 0.90754223, 1.16458667, 1.        ])}\n",
            "DEBUG:gym-duckietown:Invalid pose. Collision free: True On drivable area: False\n",
            "DEBUG:gym-duckietown:safety_factor: 1.3\n",
            "DEBUG:gym-duckietown:pos: [0.73527504 0.         0.50858972]\n",
            "DEBUG:gym-duckietown:l_pos: [0.76231559 0.         0.41491444]\n",
            "DEBUG:gym-duckietown:r_pos: [0.7082345 0.        0.602265 ]\n",
            "DEBUG:gym-duckietown:f_pos: [0.84768539 0.         0.54103838]\n",
            "DEBUG:gym-duckietown:No tile found at [ 0.93300447  0.         -0.03276986] (1, -1)\n",
            "DEBUG:gym-duckietown:Invalid pose. Collision free: True On drivable area: False\n",
            "DEBUG:gym-duckietown:safety_factor: 1.3\n",
            "DEBUG:gym-duckietown:pos: [0.96253933 0.         0.06014915]\n",
            "DEBUG:gym-duckietown:l_pos: [ 0.93300447  0.         -0.03276986]\n",
            "DEBUG:gym-duckietown:r_pos: [0.99207418 0.         0.15306816]\n",
            "DEBUG:gym-duckietown:f_pos: [1.07404214 0.         0.02470732]\n",
            "INFO:gym-duckietown:Starting at [0.92297606 0.         0.22160928] 1.0434354353893092\n",
            "INFO:gym-duckietown:Starting at [0.94673981 0.         1.63512429] 3.195584755005978\n",
            "INFO:gym-duckietown:Starting at [1.62291501 0.         1.58947318] 4.709029001296383\n",
            "DEBUG:gym-duckietown:No tile found at [-0.05494164  0.          0.7335414 ] (-1, 1)\n",
            "DEBUG:gym-duckietown:Invalid pose. Collision free: True On drivable area: False\n",
            "DEBUG:gym-duckietown:safety_factor: 1.3\n",
            "DEBUG:gym-duckietown:pos: [0.06116395 0.         0.71910214]\n",
            "DEBUG:gym-duckietown:l_pos: [0.07319667 0.         0.81585679]\n",
            "DEBUG:gym-duckietown:r_pos: [0.04913123 0.         0.62234748]\n",
            "DEBUG:gym-duckietown:f_pos: [-0.05494164  0.          0.7335414 ]\n",
            "DEBUG:gym-duckietown:No tile found at [-0.00667844  0.          0.71009329] (-1, 1)\n",
            "DEBUG:gym-duckietown:Invalid pose. Collision free: True On drivable area: False\n",
            "DEBUG:gym-duckietown:safety_factor: 1.3\n",
            "DEBUG:gym-duckietown:pos: [0.09069671 0.         0.70516075]\n",
            "DEBUG:gym-duckietown:l_pos: [0.18807186 0.         0.7002282 ]\n",
            "DEBUG:gym-duckietown:r_pos: [-0.00667844  0.          0.71009329]\n",
            "DEBUG:gym-duckietown:f_pos: [0.09661577 0.         0.82201093]\n",
            "INFO:gym-duckietown:Starting at [0.38203152 0.         0.86539404] 0.7927071881775174\n",
            "DEBUG:gym-duckietown:No tile found at [1.78017375 0.         1.06242177] (3, 1)\n",
            "DEBUG:gym-duckietown:Invalid pose. Collision free: True On drivable area: False\n",
            "DEBUG:gym-duckietown:safety_factor: 1.3\n",
            "DEBUG:gym-duckietown:pos: [1.68525587 0.         1.08471183]\n",
            "DEBUG:gym-duckietown:l_pos: [1.78017375 0.         1.06242177]\n",
            "DEBUG:gym-duckietown:r_pos: [1.59033799 0.         1.10700188]\n",
            "DEBUG:gym-duckietown:f_pos: [1.71200394 0.         1.19861328]\n",
            "INFO:gym-duckietown:Starting at [1.39640866 0.         1.04457566] 0.5436956903869501\n",
            "DEBUG:gym-duckietown:No tile found at [1.45514091 0.         1.75547622] (2, 3)\n",
            "DEBUG:gym-duckietown:Invalid pose. Collision free: True On drivable area: False\n",
            "DEBUG:gym-duckietown:safety_factor: 1.3\n",
            "DEBUG:gym-duckietown:pos: [1.45514091 0.         1.75547622]\n",
            "DEBUG:gym-duckietown:l_pos: [1.35786837 0.         1.74882016]\n",
            "DEBUG:gym-duckietown:r_pos: [1.55241345 0.         1.76213228]\n",
            "DEBUG:gym-duckietown:f_pos: [1.46312819 0.         1.63874917]\n",
            "DEBUG:gym-duckietown:No tile found at [1.39136727 0.         1.79701472] (2, 3)\n",
            "DEBUG:gym-duckietown:Invalid pose. Collision free: True On drivable area: False\n",
            "DEBUG:gym-duckietown:safety_factor: 1.3\n",
            "DEBUG:gym-duckietown:pos: [1.46529646 0.         1.73344802]\n",
            "DEBUG:gym-duckietown:l_pos: [1.53922564 0.         1.66988132]\n",
            "DEBUG:gym-duckietown:r_pos: [1.39136727 0.         1.79701472]\n",
            "DEBUG:gym-duckietown:f_pos: [1.5415765  0.         1.82216304]\n",
            "INFO:gym-duckietown:Starting at [1.44383869 0.         1.41207346] 0.07834132085492838\n",
            "DEBUG:gym-duckietown:No tile found at [ 0.366105   0.        -0.0809104] (0, -1)\n",
            "DEBUG:gym-duckietown:Invalid pose. Collision free: True On drivable area: False\n",
            "DEBUG:gym-duckietown:safety_factor: 1.3\n",
            "DEBUG:gym-duckietown:pos: [0.3385228  0.         0.01260683]\n",
            "DEBUG:gym-duckietown:l_pos: [0.31094059 0.         0.10612406]\n",
            "DEBUG:gym-duckietown:r_pos: [ 0.366105   0.        -0.0809104]\n",
            "DEBUG:gym-duckietown:f_pos: [ 0.22630212  0.         -0.02049182]\n",
            "INFO:gym-duckietown:Starting at [0.21859425 0.         0.10194683] 4.0820849157700865\n",
            "INFO:gym-duckietown:Starting at [1.56604567 0.         0.50989722] 4.675612445645565\n",
            "INFO:gym-duckietown:Starting at [0.93553827 0.         0.10320476] 3.99977015535231\n",
            "DEBUG:gym-duckietown:No tile found at [ 0.85380099  0.         -0.02203427] (1, -1)\n",
            "DEBUG:gym-duckietown:Invalid pose. Collision free: True On drivable area: False\n",
            "DEBUG:gym-duckietown:safety_factor: 1.3\n",
            "DEBUG:gym-duckietown:pos: [0.77413372 0.         0.03417407]\n",
            "DEBUG:gym-duckietown:l_pos: [0.69446646 0.         0.0903824 ]\n",
            "DEBUG:gym-duckietown:r_pos: [ 0.85380099  0.         -0.02203427]\n",
            "DEBUG:gym-duckietown:f_pos: [ 0.70668372  0.         -0.06142665]\n",
            "INFO:gym-duckietown:Starting at [0.88427889 0.         0.26823138] 2.5147233767287673\n",
            "INFO:gym-duckietown:Starting at [0.34666479 0.         0.10839142] 0.6085442670784496\n",
            "INFO:gym-duckietown:Starting at [0.16251266 0.         1.15534066] 4.44969286981087\n",
            "DEBUG:gym-duckietown:No tile found at [ 0.00802989  0.         -0.01374774] (0, -1)\n",
            "DEBUG:gym-duckietown:Invalid pose. Collision free: True On drivable area: False\n",
            "DEBUG:gym-duckietown:safety_factor: 1.3\n",
            "DEBUG:gym-duckietown:pos: [0.01745776 0.         0.08329537]\n",
            "DEBUG:gym-duckietown:l_pos: [ 0.00802989  0.         -0.01374774]\n",
            "DEBUG:gym-duckietown:r_pos: [0.02688562 0.         0.18033848]\n",
            "DEBUG:gym-duckietown:f_pos: [0.13390949 0.         0.07198193]\n",
            "INFO:gym-duckietown:Starting at [0.43844544 0.         0.27110292] 2.8010629445887383\n",
            "INFO:gym-duckietown:Starting at [0.41594815 0.         0.38677609] 0.877703720281207\n",
            "DEBUG:gym-duckietown:[1.04501424 0.         0.60510479] corresponds to tile at (1, 1) which is not drivable: {'coords': (1, 1), 'kind': 'asphalt', 'angle': 1, 'drivable': False, 'texture': <gym_duckietown.graphics.Texture object at 0x7fef99ae8b50>, 'color': array([0.86335622, 0.84004905, 0.83028092, 1.        ])}\n",
            "DEBUG:gym-duckietown:Invalid pose. Collision free: True On drivable area: False\n",
            "DEBUG:gym-duckietown:safety_factor: 1.3\n",
            "DEBUG:gym-duckietown:pos: [1.06369379 0.         0.48960555]\n",
            "DEBUG:gym-duckietown:l_pos: [1.15994316 0.         0.50517184]\n",
            "DEBUG:gym-duckietown:r_pos: [0.96744443 0.         0.47403925]\n",
            "DEBUG:gym-duckietown:f_pos: [1.04501424 0.         0.60510479]\n",
            "INFO:gym-duckietown:Starting at [0.8970766  0.         0.16139346] 3.627716508681301\n",
            "INFO:gym-duckietown:Starting at [1.29878025 0.         1.22916465] 3.8206658819373067\n",
            "DEBUG:gym-duckietown:[1.14764095 0.         1.03490704] corresponds to tile at (1, 1) which is not drivable: {'coords': (1, 1), 'kind': 'asphalt', 'angle': 1, 'drivable': False, 'texture': <gym_duckietown.graphics.Texture object at 0x7fef8668c690>, 'color': array([1.00797252, 1.07783074, 0.98912798, 1.        ])}\n",
            "DEBUG:gym-duckietown:Invalid pose. Collision free: True On drivable area: False\n",
            "DEBUG:gym-duckietown:safety_factor: 1.3\n",
            "DEBUG:gym-duckietown:pos: [1.19437843 0.         0.94933918]\n",
            "DEBUG:gym-duckietown:l_pos: [1.24111591 0.         0.86377133]\n",
            "DEBUG:gym-duckietown:r_pos: [1.14764095 0.         1.03490704]\n",
            "DEBUG:gym-duckietown:f_pos: [1.29705986 0.         1.00542416]\n",
            "INFO:gym-duckietown:Starting at [1.34034227 0.         0.75653206] 4.259454414607011\n",
            "INFO:gym-duckietown:Starting at [0.1952792  0.         1.56504308] 6.27899108515564\n",
            "INFO:gym-duckietown:Starting at [1.21421654 0.         0.22883904] 5.950164485482043\n",
            "DEBUG:gym-duckietown:No tile found at [ 0.08004713  0.         -0.0013952 ] (0, -1)\n",
            "DEBUG:gym-duckietown:Invalid pose. Collision free: True On drivable area: False\n",
            "DEBUG:gym-duckietown:safety_factor: 1.3\n",
            "DEBUG:gym-duckietown:pos: [ 0.08004713  0.         -0.0013952 ]\n",
            "DEBUG:gym-duckietown:l_pos: [ 0.14070408  0.         -0.07772989]\n",
            "DEBUG:gym-duckietown:r_pos: [0.01939019 0.         0.07493949]\n",
            "DEBUG:gym-duckietown:f_pos: [0.17164876 0.         0.07139314]\n",
            "INFO:gym-duckietown:Starting at [0.57701438 0.         0.21495952] 2.9512270828698126\n",
            "INFO:gym-duckietown:Starting at [0.16833116 0.         0.14632689] 3.0289701102354663\n",
            "INFO:gym-duckietown:Starting at [0.84832377 0.         1.47091417] 3.8286770345571246\n",
            "DEBUG:gym-duckietown:No tile found at [-0.00239984  0.          1.37601354] (-1, 2)\n",
            "DEBUG:gym-duckietown:Invalid pose. Collision free: True On drivable area: False\n",
            "DEBUG:gym-duckietown:safety_factor: 1.3\n",
            "DEBUG:gym-duckietown:pos: [0.09146676 0.         1.34964478]\n",
            "DEBUG:gym-duckietown:l_pos: [0.18533336 0.         1.32327602]\n",
            "DEBUG:gym-duckietown:r_pos: [-0.00239984  0.          1.37601354]\n",
            "DEBUG:gym-duckietown:f_pos: [0.12310927 0.         1.4622847 ]\n",
            "DEBUG:gym-duckietown:No tile found at [-0.01479634  0.          1.17764973] (-1, 2)\n",
            "DEBUG:gym-duckietown:Invalid pose. Collision free: True On drivable area: False\n",
            "DEBUG:gym-duckietown:safety_factor: 1.3\n",
            "DEBUG:gym-duckietown:pos: [-0.01479634  0.          1.17764973]\n",
            "DEBUG:gym-duckietown:l_pos: [-0.03188727  0.          1.08165937]\n",
            "DEBUG:gym-duckietown:r_pos: [0.0022946 0.        1.2736401]\n",
            "DEBUG:gym-duckietown:f_pos: [0.1003921  0.         1.15714062]\n",
            "INFO:gym-duckietown:Starting at [0.12390368 0.         1.48597045] 2.95300890761721\n",
            "DEBUG:gym-duckietown:No tile found at [1.78345915 0.         0.16584596] (3, 0)\n",
            "DEBUG:gym-duckietown:Invalid pose. Collision free: True On drivable area: False\n",
            "DEBUG:gym-duckietown:safety_factor: 1.3\n",
            "DEBUG:gym-duckietown:pos: [1.68616982 0.         0.15944003]\n",
            "DEBUG:gym-duckietown:l_pos: [1.78345915 0.         0.16584596]\n",
            "DEBUG:gym-duckietown:r_pos: [1.58888048 0.         0.15303409]\n",
            "DEBUG:gym-duckietown:f_pos: [1.6784827  0.         0.27618723]\n",
            "INFO:gym-duckietown:Starting at [1.47198223 0.         0.48016151] 5.398799157483548\n",
            "DEBUG:gym-duckietown:No tile found at [-0.04579668  0.          0.06535784] (-1, 0)\n",
            "DEBUG:gym-duckietown:Invalid pose. Collision free: True On drivable area: False\n",
            "DEBUG:gym-duckietown:safety_factor: 1.3\n",
            "DEBUG:gym-duckietown:pos: [0.050768   0.         0.05188522]\n",
            "DEBUG:gym-duckietown:l_pos: [0.14733269 0.         0.03841261]\n",
            "DEBUG:gym-duckietown:r_pos: [-0.04579668  0.          0.06535784]\n",
            "DEBUG:gym-duckietown:f_pos: [0.06693515 0.         0.16776285]\n",
            "DEBUG:gym-duckietown:No tile found at [-0.02172701  0.          0.52741007] (-1, 0)\n",
            "DEBUG:gym-duckietown:Invalid pose. Collision free: True On drivable area: False\n",
            "DEBUG:gym-duckietown:safety_factor: 1.3\n",
            "DEBUG:gym-duckietown:pos: [0.03936593 0.         0.45142387]\n",
            "DEBUG:gym-duckietown:l_pos: [0.10045887 0.         0.37543766]\n",
            "DEBUG:gym-duckietown:r_pos: [-0.02172701  0.          0.52741007]\n",
            "DEBUG:gym-duckietown:f_pos: [0.13054937 0.         0.52473539]\n",
            "INFO:gym-duckietown:Starting at [0.33390696 0.         0.35300749] 4.755352738440366\n",
            "INFO:gym-duckietown:Starting at [1.54990993 0.         1.24399034] 3.8064177426316137\n",
            "INFO:gym-duckietown:Starting at [1.6438521  0.         0.97122571] 5.105402583305692\n",
            "DEBUG:gym-duckietown:No tile found at [-0.01689104  0.          1.18450821] (-1, 2)\n",
            "DEBUG:gym-duckietown:Invalid pose. Collision free: True On drivable area: False\n",
            "DEBUG:gym-duckietown:safety_factor: 1.3\n",
            "DEBUG:gym-duckietown:pos: [-0.01689104  0.          1.18450821]\n",
            "DEBUG:gym-duckietown:l_pos: [-0.0554801   0.          1.09496976]\n",
            "DEBUG:gym-duckietown:r_pos: [0.02169802 0.         1.27404666]\n",
            "DEBUG:gym-duckietown:f_pos: [0.0905551  0.         1.13820134]\n",
            "INFO:gym-duckietown:Starting at [0.48156372 0.         1.26933426] 5.843051292036046\n",
            "DEBUG:gym-duckietown:No tile found at [1.38968918 0.         1.81784916] (2, 3)\n",
            "DEBUG:gym-duckietown:Invalid pose. Collision free: True On drivable area: False\n",
            "DEBUG:gym-duckietown:safety_factor: 1.3\n",
            "DEBUG:gym-duckietown:pos: [1.34609097 0.         1.73063995]\n",
            "DEBUG:gym-duckietown:l_pos: [1.30249276 0.         1.64343074]\n",
            "DEBUG:gym-duckietown:r_pos: [1.38968918 0.         1.81784916]\n",
            "DEBUG:gym-duckietown:f_pos: [1.45074202 0.         1.6783221 ]\n",
            "DEBUG:gym-duckietown:No tile found at [1.69120653 0.         1.76748662] (2, 3)\n",
            "DEBUG:gym-duckietown:Invalid pose. Collision free: True On drivable area: False\n",
            "DEBUG:gym-duckietown:safety_factor: 1.3\n",
            "DEBUG:gym-duckietown:pos: [1.69120653 0.         1.76748662]\n",
            "DEBUG:gym-duckietown:l_pos: [1.609892   0.         1.71368888]\n",
            "DEBUG:gym-duckietown:r_pos: [1.77252106 0.         1.82128437]\n",
            "DEBUG:gym-duckietown:f_pos: [1.75576382 0.         1.66990919]\n",
            "INFO:gym-duckietown:Starting at [1.65042671 0.         1.54225139] 6.266180687707194\n",
            "INFO:gym-duckietown:Starting at [0.50980717 0.         0.38799711] 0.6766791869752796\n",
            "DEBUG:gym-duckietown:No tile found at [0.01396949 0.         1.79994253] (0, 3)\n",
            "DEBUG:gym-duckietown:Invalid pose. Collision free: True On drivable area: False\n",
            "DEBUG:gym-duckietown:safety_factor: 1.3\n",
            "DEBUG:gym-duckietown:pos: [0.0582425  0.         1.71307395]\n",
            "DEBUG:gym-duckietown:l_pos: [0.10251551 0.         1.62620537]\n",
            "DEBUG:gym-duckietown:r_pos: [0.01396949 0.         1.79994253]\n",
            "DEBUG:gym-duckietown:f_pos: [0.1624848  0.         1.76620156]\n",
            "INFO:gym-duckietown:Starting at [0.2765666  0.         1.33459099] 2.03780386958329\n",
            "INFO:gym-duckietown:Starting at [0.82186273 0.         1.27078926] 2.2210829342939635\n",
            "DEBUG:gym-duckietown:No tile found at [0.25558789 0.         1.80712356] (0, 3)\n",
            "DEBUG:gym-duckietown:Invalid pose. Collision free: True On drivable area: False\n",
            "DEBUG:gym-duckietown:safety_factor: 1.3\n",
            "DEBUG:gym-duckietown:pos: [0.33647646 0.         1.75268747]\n",
            "DEBUG:gym-duckietown:l_pos: [0.25558789 0.         1.80712356]\n",
            "DEBUG:gym-duckietown:r_pos: [0.41736504 0.         1.69825138]\n",
            "DEBUG:gym-duckietown:f_pos: [0.27115315 0.         1.65562118]\n",
            "DEBUG:gym-duckietown:No tile found at [0.32938276 0.         1.81305341] (0, 3)\n",
            "DEBUG:gym-duckietown:Invalid pose. Collision free: True On drivable area: False\n",
            "DEBUG:gym-duckietown:safety_factor: 1.3\n",
            "DEBUG:gym-duckietown:pos: [0.38867096 0.         1.73565083]\n",
            "DEBUG:gym-duckietown:l_pos: [0.44795917 0.         1.65824826]\n",
            "DEBUG:gym-duckietown:r_pos: [0.32938276 0.         1.81305341]\n",
            "DEBUG:gym-duckietown:f_pos: [0.48155406 0.         1.80679668]\n",
            "INFO:gym-duckietown:Starting at [0.07500746 0.         1.31102264] 4.194969779952113\n",
            "INFO:gym-duckietown:Starting at [0.33317856 0.         0.99638373] 1.5228258833775137\n",
            "INFO:gym-duckietown:Starting at [0.63622498 0.         0.1798734 ] 2.7989407345207016\n",
            "DEBUG:gym-duckietown:No tile found at [1.77288735 0.         1.01415692] (3, 1)\n",
            "DEBUG:gym-duckietown:Invalid pose. Collision free: True On drivable area: False\n",
            "DEBUG:gym-duckietown:safety_factor: 1.3\n",
            "DEBUG:gym-duckietown:pos: [1.66313138 0.         1.05468623]\n",
            "DEBUG:gym-duckietown:l_pos: [1.62935695 0.         0.96322292]\n",
            "DEBUG:gym-duckietown:r_pos: [1.69690581 0.         1.14614955]\n",
            "DEBUG:gym-duckietown:f_pos: [1.77288735 0.         1.01415692]\n",
            "DEBUG:gym-duckietown:No tile found at [1.78283774 0.         1.11593022] (3, 1)\n",
            "DEBUG:gym-duckietown:Invalid pose. Collision free: True On drivable area: False\n",
            "DEBUG:gym-duckietown:safety_factor: 1.3\n",
            "DEBUG:gym-duckietown:pos: [1.66763665 0.         1.09549227]\n",
            "DEBUG:gym-duckietown:l_pos: [1.68466827 0.         0.99949137]\n",
            "DEBUG:gym-duckietown:r_pos: [1.65060503 0.         1.19149318]\n",
            "DEBUG:gym-duckietown:f_pos: [1.78283774 0.         1.11593022]\n",
            "INFO:gym-duckietown:Starting at [1.50445179 0.         0.8976746 ] 1.218706333049068\n",
            "DEBUG:gym-duckietown:[0.99593295 0.         0.65693513] corresponds to tile at (1, 1) which is not drivable: {'coords': (1, 1), 'kind': 'asphalt', 'angle': 1, 'drivable': False, 'texture': <gym_duckietown.graphics.Texture object at 0x7fef8669a310>, 'color': array([1.01975825, 0.83006051, 0.85470955, 1.        ])}\n",
            "DEBUG:gym-duckietown:Invalid pose. Collision free: True On drivable area: False\n",
            "DEBUG:gym-duckietown:safety_factor: 1.3\n",
            "DEBUG:gym-duckietown:pos: [0.96185839 0.         0.5655832 ]\n",
            "DEBUG:gym-duckietown:l_pos: [0.99593295 0.         0.65693513]\n",
            "DEBUG:gym-duckietown:r_pos: [0.92778382 0.         0.47423128]\n",
            "DEBUG:gym-duckietown:f_pos: [0.85223608 0.         0.60647269]\n",
            "INFO:gym-duckietown:Starting at [0.61710934 0.         0.35552083] 1.0232944608837695\n",
            "INFO:gym-duckietown:Starting at [1.44037774 0.         0.47816079] 1.175096101448366\n",
            "DEBUG:gym-duckietown:No tile found at [-0.07713294  0.          0.80061608] (-1, 1)\n",
            "DEBUG:gym-duckietown:Invalid pose. Collision free: True On drivable area: False\n",
            "DEBUG:gym-duckietown:safety_factor: 1.3\n",
            "DEBUG:gym-duckietown:pos: [0.0151409  0.         0.83210874]\n",
            "DEBUG:gym-duckietown:l_pos: [0.10741474 0.         0.8636014 ]\n",
            "DEBUG:gym-duckietown:r_pos: [-0.07713294  0.          0.80061608]\n",
            "DEBUG:gym-duckietown:f_pos: [-0.02265029  0.          0.94283735]\n",
            "INFO:gym-duckietown:Starting at [0.43967291 0.         0.60260212] 5.182810960334132\n",
            "DEBUG:gym-duckietown:No tile found at [0.36878153 0.         1.77705532] (0, 3)\n",
            "DEBUG:gym-duckietown:Invalid pose. Collision free: True On drivable area: False\n",
            "DEBUG:gym-duckietown:safety_factor: 1.3\n",
            "DEBUG:gym-duckietown:pos: [0.30132519 0.         1.68145907]\n",
            "DEBUG:gym-duckietown:l_pos: [0.38098873 0.         1.62524546]\n",
            "DEBUG:gym-duckietown:r_pos: [0.22166165 0.         1.73767269]\n",
            "DEBUG:gym-duckietown:f_pos: [0.36878153 0.         1.77705532]\n",
            "INFO:gym-duckietown:Starting at [0.49566669 0.         1.48097521] 2.0739959981178084\n",
            "INFO:gym-duckietown:Starting at [0.12820053 0.         0.52426005] 1.5795131749006888\n",
            "DEBUG:gym-duckietown:No tile found at [-0.07541348  0.          0.20064664] (-1, 0)\n",
            "DEBUG:gym-duckietown:Invalid pose. Collision free: True On drivable area: False\n",
            "DEBUG:gym-duckietown:safety_factor: 1.3\n",
            "DEBUG:gym-duckietown:pos: [0.02025942 0.         0.18185977]\n",
            "DEBUG:gym-duckietown:l_pos: [0.11593232 0.         0.1630729 ]\n",
            "DEBUG:gym-duckietown:r_pos: [-0.07541348  0.          0.20064664]\n",
            "DEBUG:gym-duckietown:f_pos: [0.04280366 0.         0.29666725]\n",
            "DEBUG:gym-duckietown:No tile found at [-0.00652109  0.          0.37511363] (-1, 0)\n",
            "DEBUG:gym-duckietown:Invalid pose. Collision free: True On drivable area: False\n",
            "DEBUG:gym-duckietown:safety_factor: 1.3\n",
            "DEBUG:gym-duckietown:pos: [-0.00652109  0.          0.37511363]\n",
            "DEBUG:gym-duckietown:l_pos: [0.06262706 0.         0.30637656]\n",
            "DEBUG:gym-duckietown:r_pos: [-0.07566923  0.          0.44385069]\n",
            "DEBUG:gym-duckietown:f_pos: [0.07596339 0.         0.4580914 ]\n",
            "DEBUG:gym-duckietown:No tile found at [ 0.21013346  0.         -0.08206614] (0, -1)\n",
            "DEBUG:gym-duckietown:Invalid pose. Collision free: True On drivable area: False\n",
            "DEBUG:gym-duckietown:safety_factor: 1.3\n",
            "DEBUG:gym-duckietown:pos: [0.18745049 0.         0.03271401]\n",
            "DEBUG:gym-duckietown:l_pos: [0.09180037 0.         0.01381153]\n",
            "DEBUG:gym-duckietown:r_pos: [0.28310062 0.         0.05161648]\n",
            "DEBUG:gym-duckietown:f_pos: [ 0.21013346  0.         -0.08206614]\n",
            "INFO:gym-duckietown:Starting at [0.51504067 0.         0.48309516] 3.2817575578065665\n",
            "INFO:gym-duckietown:Starting at [0.38452024 0.         0.47690345] 5.390498222578216\n",
            "INFO:gym-duckietown:Starting at [1.15759847 0.         0.26178785] 3.234367248279126\n",
            "INFO:gym-duckietown:Starting at [1.60594543 0.         0.59954168] 2.3646077185071293\n",
            "INFO:gym-duckietown:Starting at [0.2071621  0.         1.33222785] 4.68037591063507\n",
            "DEBUG:gym-duckietown:No tile found at [-0.0083277   0.          1.75302918] (-1, 2)\n",
            "DEBUG:gym-duckietown:Invalid pose. Collision free: True On drivable area: False\n",
            "DEBUG:gym-duckietown:safety_factor: 1.3\n",
            "DEBUG:gym-duckietown:pos: [-0.0083277   0.          1.75302918]\n",
            "DEBUG:gym-duckietown:l_pos: [-0.09733893  0.          1.71323908]\n",
            "DEBUG:gym-duckietown:r_pos: [0.08068352 0.         1.79281928]\n",
            "DEBUG:gym-duckietown:f_pos: [0.03942042 0.         1.64621571]\n",
            "INFO:gym-duckietown:Starting at [0.4106994  0.         1.46458013] 1.6857566598017508\n",
            "INFO:gym-duckietown:Starting at [0.90024749 0.         1.46883843] 2.506842564302467\n",
            "INFO:gym-duckietown:Starting at [1.36489831 0.         1.07396934] 0.7663962014891496\n",
            "INFO:gym-duckietown:Starting at [1.62308508 0.         0.38174297] 1.9906331130228163\n",
            "INFO:gym-duckietown:Starting at [0.1525633  0.         0.07612991] 0.8827734711865618\n",
            "INFO:gym-duckietown:Starting at [1.55036119 0.         1.40558165] 1.9048974001601446\n",
            "INFO:gym-duckietown:Starting at [1.67136554 0.         0.78778264] 0.7735386985896296\n",
            "INFO:gym-duckietown:Starting at [0.1171887  0.         0.74807331] 5.342594816545453\n",
            "INFO:gym-duckietown:Starting at [0.24750936 0.         0.17930988] 2.9483337254182658\n",
            "INFO:gym-duckietown:Starting at [1.65997297 0.         0.5344859 ] 2.3451825013077277\n",
            "DEBUG:gym-duckietown:No tile found at [1.77827314 0.         1.58651428] (3, 2)\n",
            "DEBUG:gym-duckietown:Invalid pose. Collision free: True On drivable area: False\n",
            "DEBUG:gym-duckietown:safety_factor: 1.3\n",
            "DEBUG:gym-duckietown:pos: [1.68322183 0.         1.56480028]\n",
            "DEBUG:gym-duckietown:l_pos: [1.58817052 0.         1.54308628]\n",
            "DEBUG:gym-duckietown:r_pos: [1.77827314 0.         1.58651428]\n",
            "DEBUG:gym-duckietown:f_pos: [1.70927863 0.         1.4507387 ]\n",
            "INFO:gym-duckietown:Starting at [1.39475136 0.         1.24731306] 4.878461782981883\n",
            "INFO:gym-duckietown:Starting at [0.29726868 0.         0.48329818] 5.032305149681811\n",
            "INFO:gym-duckietown:Starting at [1.63929772 0.         0.73870148] 1.394729331174378\n",
            "INFO:gym-duckietown:Starting at [0.42071484 0.         0.26426378] 5.889781837037962\n",
            "DEBUG:gym-duckietown:No tile found at [ 1.75959354  0.         -0.01482722] (3, -1)\n",
            "DEBUG:gym-duckietown:Invalid pose. Collision free: True On drivable area: False\n",
            "DEBUG:gym-duckietown:safety_factor: 1.3\n",
            "DEBUG:gym-duckietown:pos: [1.70918861 0.         0.06863291]\n",
            "DEBUG:gym-duckietown:l_pos: [ 1.75959354  0.         -0.01482722]\n",
            "DEBUG:gym-duckietown:r_pos: [1.65878369 0.         0.15209305]\n",
            "DEBUG:gym-duckietown:f_pos: [1.80934077 0.         0.12911882]\n",
            "DEBUG:gym-duckietown:No tile found at [ 1.7902335   0.         -0.03304831] (3, -1)\n",
            "DEBUG:gym-duckietown:Invalid pose. Collision free: True On drivable area: False\n",
            "DEBUG:gym-duckietown:safety_factor: 1.3\n",
            "DEBUG:gym-duckietown:pos: [1.73926289 0.         0.05006756]\n",
            "DEBUG:gym-duckietown:l_pos: [1.68829228 0.         0.13318342]\n",
            "DEBUG:gym-duckietown:r_pos: [ 1.7902335   0.         -0.03304831]\n",
            "DEBUG:gym-duckietown:f_pos: [ 1.63952386  0.         -0.01109718]\n",
            "DEBUG:gym-duckietown:No tile found at [ 1.71518401  0.         -0.07571794] (2, -1)\n",
            "DEBUG:gym-duckietown:Invalid pose. Collision free: True On drivable area: False\n",
            "DEBUG:gym-duckietown:safety_factor: 1.3\n",
            "DEBUG:gym-duckietown:pos: [1.70449793 0.         0.02119469]\n",
            "DEBUG:gym-duckietown:l_pos: [1.69381186 0.         0.11810732]\n",
            "DEBUG:gym-duckietown:r_pos: [ 1.71518401  0.         -0.07571794]\n",
            "DEBUG:gym-duckietown:f_pos: [1.58820278 0.         0.0083714 ]\n",
            "INFO:gym-duckietown:Starting at [1.61631618 0.         0.28001758] 5.575883116926176\n"
          ]
        }
      ]
    },
    {
      "cell_type": "code",
      "source": [
        "x_train = [i.astype('float32') / 255. for i in x_train]\n",
        "len(x_train)"
      ],
      "metadata": {
        "id": "L-jDqxBYETwW"
      },
      "execution_count": null,
      "outputs": []
    },
    {
      "cell_type": "code",
      "source": [
        "x_test = x_train[8000:]\n",
        "x_train = x_train[:8000]\n",
        "\n",
        "x_train = [np.mean(i, axis=2) for i in x_train]\n",
        "x_test = [np.mean(i, axis=2) for i in x_test]"
      ],
      "metadata": {
        "id": "jXG22A5WEZLX"
      },
      "execution_count": null,
      "outputs": []
    },
    {
      "cell_type": "code",
      "source": [
        "x_train = np.reshape(x_train, (len(x_train), 122, 224, 1))\n",
        "x_test = np.reshape(x_test, (len(x_test), 122, 224, 1))"
      ],
      "metadata": {
        "id": "M13H_-GWIO40"
      },
      "execution_count": null,
      "outputs": []
    },
    {
      "cell_type": "code",
      "source": [
        "print(x_train.shape, x_test.shape)"
      ],
      "metadata": {
        "id": "DyAHaKYNT62L"
      },
      "execution_count": null,
      "outputs": []
    },
    {
      "cell_type": "code",
      "source": [
        "import keras\n",
        "from keras import layers\n",
        "import tensorflow as tf\n",
        "\n",
        "input_img = keras.Input(shape=(122, 224, 1))\n",
        "input_img_padding = layers.ZeroPadding2D((1,2))(input_img)\n",
        "x = layers.Conv2D(16, (3, 3), activation='relu', padding='same')(input_img_padding)\n",
        "x = layers.MaxPooling2D((2, 2), padding='same')(x)\n",
        "x = layers.Conv2D(8, (3, 3), activation='relu', padding='same')(x)\n",
        "x = layers.MaxPooling2D((2, 2), padding='same')(x)\n",
        "x = layers.Conv2D(8, (3, 3), activation='relu', padding='same')(x)\n",
        "encoded = layers.MaxPooling2D((2, 2), padding='same')(x)\n",
        "\n",
        "# at this point the representation is (4, 4, 8) i.e. 128-dimensional\n",
        "\n",
        "x = layers.Conv2D(8, (3, 3), activation='relu', padding='same')(encoded)\n",
        "x = layers.UpSampling2D((2, 2))(x)\n",
        "x = layers.Conv2D(8, (3, 3), activation='relu', padding='same')(x)\n",
        "x = layers.UpSampling2D((2, 2))(x)\n",
        "x = layers.Conv2D(16, (3, 3), activation='relu')(x)\n",
        "x = layers.UpSampling2D((2, 2))(x)\n",
        "decoded = layers.Conv2D(1, (3, 3), activation='sigmoid', padding='same')(x)\n",
        "decoded_cropping = layers.Cropping2D((1,2))(decoded)\n",
        "\n",
        "autoencoder = keras.Model(input_img, decoded_cropping)\n",
        "autoencoder.compile(optimizer='adam', loss='binary_crossentropy')"
      ],
      "metadata": {
        "colab": {
          "base_uri": "https://localhost:8080/"
        },
        "id": "sEvw7HWYCcaL",
        "outputId": "6360fc00-44f0-46b2-87a3-ad51a15185f6"
      },
      "execution_count": null,
      "outputs": [
        {
          "output_type": "stream",
          "name": "stderr",
          "text": [
            "Using TensorFlow backend.\n",
            "WARNING:tensorflow:From /tensorflow-1.15.2/python3.7/tensorflow_core/python/ops/resource_variable_ops.py:1630: calling BaseResourceVariable.__init__ (from tensorflow.python.ops.resource_variable_ops) with constraint is deprecated and will be removed in a future version.\n",
            "Instructions for updating:\n",
            "If using Keras pass *_constraint arguments to layers.\n",
            "WARNING:tensorflow:From /tensorflow-1.15.2/python3.7/keras/backend/tensorflow_backend.py:4070: The name tf.nn.max_pool is deprecated. Please use tf.nn.max_pool2d instead.\n",
            "\n"
          ]
        }
      ]
    },
    {
      "cell_type": "code",
      "source": [
        "autoencoder.summary()"
      ],
      "metadata": {
        "colab": {
          "base_uri": "https://localhost:8080/"
        },
        "id": "sp0_-EVLJHwM",
        "outputId": "3683bf44-a5fa-412f-a29a-83697b76922e"
      },
      "execution_count": null,
      "outputs": [
        {
          "output_type": "stream",
          "name": "stdout",
          "text": [
            "Model: \"model_1\"\n",
            "_________________________________________________________________\n",
            "Layer (type)                 Output Shape              Param #   \n",
            "=================================================================\n",
            "input_1 (InputLayer)         (None, 122, 224, 1)       0         \n",
            "_________________________________________________________________\n",
            "zero_padding2d_1 (ZeroPaddin (None, 124, 228, 1)       0         \n",
            "_________________________________________________________________\n",
            "conv2d_1 (Conv2D)            (None, 124, 228, 16)      160       \n",
            "_________________________________________________________________\n",
            "max_pooling2d_1 (MaxPooling2 (None, 62, 114, 16)       0         \n",
            "_________________________________________________________________\n",
            "conv2d_2 (Conv2D)            (None, 62, 114, 8)        1160      \n",
            "_________________________________________________________________\n",
            "max_pooling2d_2 (MaxPooling2 (None, 31, 57, 8)         0         \n",
            "_________________________________________________________________\n",
            "conv2d_3 (Conv2D)            (None, 31, 57, 8)         584       \n",
            "_________________________________________________________________\n",
            "max_pooling2d_3 (MaxPooling2 (None, 16, 29, 8)         0         \n",
            "_________________________________________________________________\n",
            "conv2d_4 (Conv2D)            (None, 16, 29, 8)         584       \n",
            "_________________________________________________________________\n",
            "up_sampling2d_1 (UpSampling2 (None, 32, 58, 8)         0         \n",
            "_________________________________________________________________\n",
            "conv2d_5 (Conv2D)            (None, 32, 58, 8)         584       \n",
            "_________________________________________________________________\n",
            "up_sampling2d_2 (UpSampling2 (None, 64, 116, 8)        0         \n",
            "_________________________________________________________________\n",
            "conv2d_6 (Conv2D)            (None, 62, 114, 16)       1168      \n",
            "_________________________________________________________________\n",
            "up_sampling2d_3 (UpSampling2 (None, 124, 228, 16)      0         \n",
            "_________________________________________________________________\n",
            "conv2d_7 (Conv2D)            (None, 124, 228, 1)       145       \n",
            "_________________________________________________________________\n",
            "cropping2d_1 (Cropping2D)    (None, 122, 224, 1)       0         \n",
            "=================================================================\n",
            "Total params: 4,385\n",
            "Trainable params: 4,385\n",
            "Non-trainable params: 0\n",
            "_________________________________________________________________\n"
          ]
        }
      ]
    },
    {
      "cell_type": "code",
      "source": [
        "autoencoder.fit(x_train, x_train,\n",
        "                epochs=50,\n",
        "                batch_size=128,\n",
        "                shuffle=True,\n",
        "                validation_data=(x_test, x_test))"
      ],
      "metadata": {
        "id": "xMZLHS0UGUEi"
      },
      "execution_count": null,
      "outputs": []
    },
    {
      "cell_type": "code",
      "source": [
        "decoded_imgs = autoencoder.predict(x_test)\n",
        "\n",
        "n = 10\n",
        "plt.figure(figsize=(20, 4))\n",
        "for i in range(1, n + 1):\n",
        "    # Display original\n",
        "    ax = plt.subplot(2, n, i)\n",
        "    plt.imshow(x_test[i].reshape(122, 224))\n",
        "    plt.gray()\n",
        "    ax.get_xaxis().set_visible(False)\n",
        "    ax.get_yaxis().set_visible(False)\n",
        "\n",
        "    # Display reconstruction\n",
        "    ax = plt.subplot(2, n, i + n)\n",
        "    plt.imshow(decoded_imgs[i].reshape(122, 224))\n",
        "    plt.gray()\n",
        "    ax.get_xaxis().set_visible(False)\n",
        "    ax.get_yaxis().set_visible(False)\n",
        "plt.show()"
      ],
      "metadata": {
        "colab": {
          "base_uri": "https://localhost:8080/",
          "height": 195
        },
        "id": "-CeT5lozMsZL",
        "outputId": "5e0d3169-b7be-434a-8baf-a79700a64b72"
      },
      "execution_count": null,
      "outputs": [
        {
          "output_type": "display_data",
          "data": {
            "image/png": "[encoded data removed]",
            "text/plain": [
              "<Figure size 1440x288 with 20 Axes>"
            ]
          },
          "metadata": {
            "needs_background": "light"
          }
        }
      ]
    }
  ]
}